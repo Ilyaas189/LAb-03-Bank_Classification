{
  "nbformat": 4,
  "nbformat_minor": 0,
  "metadata": {
    "colab": {
      "name": "Lab_03_Bank_Classification.ipynb",
      "provenance": [],
      "authorship_tag": "ABX9TyN52b2h/mQZtZABYvIeu8CB",
      "include_colab_link": true
    },
    "kernelspec": {
      "name": "python3",
      "display_name": "Python 3"
    },
    "language_info": {
      "name": "python"
    }
  },
  "cells": [
    {
      "cell_type": "markdown",
      "metadata": {
        "id": "view-in-github",
        "colab_type": "text"
      },
      "source": [
        "<a href=\"https://colab.research.google.com/github/Ilyaas189/LAb-03-Bank_Classification/blob/main/Lab_03_Bank_Classification.ipynb\" target=\"_parent\"><img src=\"https://colab.research.google.com/assets/colab-badge.svg\" alt=\"Open In Colab\"/></a>"
      ]
    },
    {
      "cell_type": "markdown",
      "metadata": {
        "id": "rTY5S66PCjWd"
      },
      "source": [
        "**Bank Classification**"
      ]
    },
    {
      "cell_type": "markdown",
      "metadata": {
        "id": "oa9FH4JkCsoW"
      },
      "source": [
        "**Loading the dataset**"
      ]
    },
    {
      "cell_type": "code",
      "metadata": {
        "id": "18_6KNqcCw3P"
      },
      "source": [
        "import pandas as pd\n",
        "\n",
        "dataset = pd.read_csv(\"bank-additional-full.csv\",sep = ';')"
      ],
      "execution_count": 3,
      "outputs": []
    },
    {
      "cell_type": "markdown",
      "metadata": {
        "id": "KVKekKddDIPp"
      },
      "source": [
        "**Encoding the Labels**"
      ]
    },
    {
      "cell_type": "code",
      "metadata": {
        "id": "kwtfQMlYDPi5"
      },
      "source": [
        "from sklearn.preprocessing import LabelEncoder\n",
        "dataset = dataset.apply(LabelEncoder().fit_transform)"
      ],
      "execution_count": 4,
      "outputs": []
    },
    {
      "cell_type": "markdown",
      "metadata": {
        "id": "Kl7GLdtoDWPP"
      },
      "source": [
        "**To convert the dataset into dummy dataset**"
      ]
    },
    {
      "cell_type": "code",
      "metadata": {
        "id": "TLnNiUaXDYvW"
      },
      "source": [
        "df_dummies = pd.get_dummies(dataset)"
      ],
      "execution_count": 5,
      "outputs": []
    },
    {
      "cell_type": "markdown",
      "metadata": {
        "id": "M4VH-g4hDb2F"
      },
      "source": [
        "**To drop the column of 'duration'**"
      ]
    },
    {
      "cell_type": "code",
      "metadata": {
        "id": "0sK2oQaLDfVF"
      },
      "source": [
        "df_dummies = df_dummies.drop('duration',axis = 1)"
      ],
      "execution_count": 6,
      "outputs": []
    },
    {
      "cell_type": "markdown",
      "metadata": {
        "id": "aXotYCdrDjHn"
      },
      "source": [
        "**To drop the rows with empty values**"
      ]
    },
    {
      "cell_type": "code",
      "metadata": {
        "id": "9sAiP074DoLp"
      },
      "source": [
        "df_dummies = df_dummies.dropna()"
      ],
      "execution_count": 7,
      "outputs": []
    },
    {
      "cell_type": "markdown",
      "metadata": {
        "id": "GMF6MU8oDrYR"
      },
      "source": [
        "**Displaying the bar graph of the dataset**"
      ]
    },
    {
      "cell_type": "code",
      "metadata": {
        "colab": {
          "base_uri": "https://localhost:8080/"
        },
        "id": "1m30pv_7DwJv",
        "outputId": "b06b5872-cf9f-49f6-955a-6bb87dbe8bc4"
      },
      "source": [
        "df_dummies.plot(kind = 'bar')"
      ],
      "execution_count": null,
      "outputs": [
        {
          "output_type": "execute_result",
          "data": {
            "text/plain": [
              "<matplotlib.axes._subplots.AxesSubplot at 0x7ffa621efd50>"
            ]
          },
          "metadata": {
            "tags": []
          },
          "execution_count": 9
        }
      ]
    },
    {
      "cell_type": "markdown",
      "metadata": {
        "id": "7s3U3xjjD15M"
      },
      "source": [
        "**To split the Features and Labels**"
      ]
    },
    {
      "cell_type": "code",
      "metadata": {
        "id": "WpLei-uTD5cf"
      },
      "source": [
        "X = df_dummies.iloc[:,:-1]\n",
        "y = df_dummies.iloc[:,-1]"
      ],
      "execution_count": 8,
      "outputs": []
    },
    {
      "cell_type": "markdown",
      "metadata": {
        "id": "FKnmrar7D82s"
      },
      "source": [
        "**Splitting the Train and Test data with 80/20 ratio**"
      ]
    },
    {
      "cell_type": "code",
      "metadata": {
        "id": "2vH7QlXfEBDg"
      },
      "source": [
        "from sklearn.model_selection import train_test_split\n",
        "X_train,X_test,y_train,y_test = train_test_split(X,y,test_size=0.2,random_state=50)"
      ],
      "execution_count": 9,
      "outputs": []
    },
    {
      "cell_type": "markdown",
      "metadata": {
        "id": "-XwIU-dkEFN4"
      },
      "source": [
        "**Checking the shape for the model**"
      ]
    },
    {
      "cell_type": "code",
      "metadata": {
        "id": "hnGiuYPEEToh",
        "colab": {
          "base_uri": "https://localhost:8080/"
        },
        "outputId": "6a353a01-970b-4fb9-c1c0-15fe0dc9cdb7"
      },
      "source": [
        "print(\"X_train:\",X_train.shape,\"y_train\",y_train.shape)\n",
        "print(\"X_test:\",X_test.shape,\"y_test\",y_test.shape)"
      ],
      "execution_count": 10,
      "outputs": [
        {
          "output_type": "stream",
          "text": [
            "X_train: (32950, 19) y_train (32950,)\n",
            "X_test: (8238, 19) y_test (8238,)\n"
          ],
          "name": "stdout"
        }
      ]
    },
    {
      "cell_type": "markdown",
      "metadata": {
        "id": "puI2cy9hEXa7"
      },
      "source": [
        "**Model Evaluation metrics selection for scores - I selected f1_macro** "
      ]
    },
    {
      "cell_type": "code",
      "metadata": {
        "id": "9uXaW3DbEk7_",
        "colab": {
          "base_uri": "https://localhost:8080/"
        },
        "outputId": "8abfee0a-c48e-4fe7-a46c-3d12ac46cb4b"
      },
      "source": [
        "from sklearn.metrics import SCORERS\n",
        "sorted(SCORERS.keys())"
      ],
      "execution_count": 11,
      "outputs": [
        {
          "output_type": "execute_result",
          "data": {
            "text/plain": [
              "['accuracy',\n",
              " 'adjusted_mutual_info_score',\n",
              " 'adjusted_rand_score',\n",
              " 'average_precision',\n",
              " 'balanced_accuracy',\n",
              " 'completeness_score',\n",
              " 'explained_variance',\n",
              " 'f1',\n",
              " 'f1_macro',\n",
              " 'f1_micro',\n",
              " 'f1_samples',\n",
              " 'f1_weighted',\n",
              " 'fowlkes_mallows_score',\n",
              " 'homogeneity_score',\n",
              " 'jaccard',\n",
              " 'jaccard_macro',\n",
              " 'jaccard_micro',\n",
              " 'jaccard_samples',\n",
              " 'jaccard_weighted',\n",
              " 'max_error',\n",
              " 'mutual_info_score',\n",
              " 'neg_brier_score',\n",
              " 'neg_log_loss',\n",
              " 'neg_mean_absolute_error',\n",
              " 'neg_mean_gamma_deviance',\n",
              " 'neg_mean_poisson_deviance',\n",
              " 'neg_mean_squared_error',\n",
              " 'neg_mean_squared_log_error',\n",
              " 'neg_median_absolute_error',\n",
              " 'neg_root_mean_squared_error',\n",
              " 'normalized_mutual_info_score',\n",
              " 'precision',\n",
              " 'precision_macro',\n",
              " 'precision_micro',\n",
              " 'precision_samples',\n",
              " 'precision_weighted',\n",
              " 'r2',\n",
              " 'recall',\n",
              " 'recall_macro',\n",
              " 'recall_micro',\n",
              " 'recall_samples',\n",
              " 'recall_weighted',\n",
              " 'roc_auc',\n",
              " 'roc_auc_ovo',\n",
              " 'roc_auc_ovo_weighted',\n",
              " 'roc_auc_ovr',\n",
              " 'roc_auc_ovr_weighted',\n",
              " 'v_measure_score']"
            ]
          },
          "metadata": {
            "tags": []
          },
          "execution_count": 11
        }
      ]
    },
    {
      "cell_type": "markdown",
      "metadata": {
        "id": "fX0fWUIwEs0F"
      },
      "source": [
        "**Cross Validation of the model - With RandomForest Classifier**"
      ]
    },
    {
      "cell_type": "code",
      "metadata": {
        "id": "Jq0XcTWhEw3R"
      },
      "source": [
        "from sklearn.ensemble import RandomForestClassifier\n",
        "from sklearn.model_selection import cross_val_score\n",
        "\n",
        "clf = RandomForestClassifier(100,max_depth=3)\n",
        "\n",
        "scores = cross_val_score(clf,X_train,y_train,cv = 10,scoring='f1_macro')"
      ],
      "execution_count": 12,
      "outputs": []
    },
    {
      "cell_type": "markdown",
      "metadata": {
        "id": "5QuqmYwAE16j"
      },
      "source": [
        "**Displaying the accuracy of the model**"
      ]
    },
    {
      "cell_type": "code",
      "metadata": {
        "id": "lW3sO7nsE5pk",
        "colab": {
          "base_uri": "https://localhost:8080/"
        },
        "outputId": "821ee7a0-56f1-448b-c929-a0d8c65ee011"
      },
      "source": [
        "print(\"%0.2f accuracy with a standard deviation of %0.2f\" % (scores.mean(), scores.std()))"
      ],
      "execution_count": 13,
      "outputs": [
        {
          "output_type": "stream",
          "text": [
            "0.61 accuracy with a standard deviation of 0.01\n"
          ],
          "name": "stdout"
        }
      ]
    },
    {
      "cell_type": "markdown",
      "metadata": {
        "id": "LijS2CbnE9bQ"
      },
      "source": [
        "**Comparison with the Dummy Classifier**"
      ]
    },
    {
      "cell_type": "code",
      "metadata": {
        "id": "uXxO-KqNFEXa",
        "colab": {
          "base_uri": "https://localhost:8080/"
        },
        "outputId": "fde6ae73-b614-415e-c203-d634bbebc3f0"
      },
      "source": [
        "from sklearn.dummy import DummyClassifier\n",
        "\n",
        "dummy_clf = DummyClassifier(strategy=\"most_frequent\")\n",
        "dummy_clf.fit(X_train, y_train)\n",
        "\n",
        "dummy_clf.score(X_test, y_test)"
      ],
      "execution_count": 14,
      "outputs": [
        {
          "output_type": "execute_result",
          "data": {
            "text/plain": [
              "0.8846807477543093"
            ]
          },
          "metadata": {
            "tags": []
          },
          "execution_count": 14
        }
      ]
    },
    {
      "cell_type": "markdown",
      "metadata": {
        "id": "oImFeNE7FHwV"
      },
      "source": [
        "**Employing Grid Searching to obtain the optimized values of Hyper Parameters of the RandomForest Classifier**"
      ]
    },
    {
      "cell_type": "code",
      "metadata": {
        "id": "91umURByFLbD",
        "colab": {
          "base_uri": "https://localhost:8080/"
        },
        "outputId": "fc96ebb4-add0-45d2-fdea-994d624e1c78"
      },
      "source": [
        "from sklearn.ensemble import RandomForestClassifier\n",
        "from sklearn.model_selection import GridSearchCV\n",
        "  \n",
        "# defining parameter range\n",
        "param_grid = {'max_depth': [1, 10, 100, 1000],\n",
        "              'min_samples_split': [2,3,4,5], \n",
        "              'min_samples_leaf': [1, 2, 3, 4],\n",
        "              } \n",
        "  \n",
        "grid = GridSearchCV(RandomForestClassifier(), param_grid, refit = True, verbose = 3)\n",
        "  \n",
        "# fitting the model for grid search\n",
        "grid.fit(X_train, y_train)"
      ],
      "execution_count": 15,
      "outputs": [
        {
          "output_type": "stream",
          "text": [
            "Fitting 5 folds for each of 64 candidates, totalling 320 fits\n",
            "[CV] max_depth=1, min_samples_leaf=1, min_samples_split=2 ............\n"
          ],
          "name": "stdout"
        },
        {
          "output_type": "stream",
          "text": [
            "[Parallel(n_jobs=1)]: Using backend SequentialBackend with 1 concurrent workers.\n"
          ],
          "name": "stderr"
        },
        {
          "output_type": "stream",
          "text": [
            "[CV]  max_depth=1, min_samples_leaf=1, min_samples_split=2, score=0.888, total=   0.6s\n",
            "[CV] max_depth=1, min_samples_leaf=1, min_samples_split=2 ............\n"
          ],
          "name": "stdout"
        },
        {
          "output_type": "stream",
          "text": [
            "[Parallel(n_jobs=1)]: Done   1 out of   1 | elapsed:    0.6s remaining:    0.0s\n"
          ],
          "name": "stderr"
        },
        {
          "output_type": "stream",
          "text": [
            "[CV]  max_depth=1, min_samples_leaf=1, min_samples_split=2, score=0.888, total=   0.6s\n",
            "[CV] max_depth=1, min_samples_leaf=1, min_samples_split=2 ............\n"
          ],
          "name": "stdout"
        },
        {
          "output_type": "stream",
          "text": [
            "[Parallel(n_jobs=1)]: Done   2 out of   2 | elapsed:    1.2s remaining:    0.0s\n"
          ],
          "name": "stderr"
        },
        {
          "output_type": "stream",
          "text": [
            "[CV]  max_depth=1, min_samples_leaf=1, min_samples_split=2, score=0.888, total=   0.6s\n",
            "[CV] max_depth=1, min_samples_leaf=1, min_samples_split=2 ............\n",
            "[CV]  max_depth=1, min_samples_leaf=1, min_samples_split=2, score=0.888, total=   0.6s\n",
            "[CV] max_depth=1, min_samples_leaf=1, min_samples_split=2 ............\n",
            "[CV]  max_depth=1, min_samples_leaf=1, min_samples_split=2, score=0.888, total=   0.6s\n",
            "[CV] max_depth=1, min_samples_leaf=1, min_samples_split=3 ............\n",
            "[CV]  max_depth=1, min_samples_leaf=1, min_samples_split=3, score=0.888, total=   0.6s\n",
            "[CV] max_depth=1, min_samples_leaf=1, min_samples_split=3 ............\n",
            "[CV]  max_depth=1, min_samples_leaf=1, min_samples_split=3, score=0.888, total=   0.6s\n",
            "[CV] max_depth=1, min_samples_leaf=1, min_samples_split=3 ............\n",
            "[CV]  max_depth=1, min_samples_leaf=1, min_samples_split=3, score=0.888, total=   0.6s\n",
            "[CV] max_depth=1, min_samples_leaf=1, min_samples_split=3 ............\n",
            "[CV]  max_depth=1, min_samples_leaf=1, min_samples_split=3, score=0.888, total=   0.6s\n",
            "[CV] max_depth=1, min_samples_leaf=1, min_samples_split=3 ............\n",
            "[CV]  max_depth=1, min_samples_leaf=1, min_samples_split=3, score=0.888, total=   0.6s\n",
            "[CV] max_depth=1, min_samples_leaf=1, min_samples_split=4 ............\n",
            "[CV]  max_depth=1, min_samples_leaf=1, min_samples_split=4, score=0.888, total=   0.6s\n",
            "[CV] max_depth=1, min_samples_leaf=1, min_samples_split=4 ............\n",
            "[CV]  max_depth=1, min_samples_leaf=1, min_samples_split=4, score=0.888, total=   0.6s\n",
            "[CV] max_depth=1, min_samples_leaf=1, min_samples_split=4 ............\n",
            "[CV]  max_depth=1, min_samples_leaf=1, min_samples_split=4, score=0.888, total=   0.6s\n",
            "[CV] max_depth=1, min_samples_leaf=1, min_samples_split=4 ............\n",
            "[CV]  max_depth=1, min_samples_leaf=1, min_samples_split=4, score=0.888, total=   0.6s\n",
            "[CV] max_depth=1, min_samples_leaf=1, min_samples_split=4 ............\n",
            "[CV]  max_depth=1, min_samples_leaf=1, min_samples_split=4, score=0.888, total=   0.6s\n",
            "[CV] max_depth=1, min_samples_leaf=1, min_samples_split=5 ............\n",
            "[CV]  max_depth=1, min_samples_leaf=1, min_samples_split=5, score=0.888, total=   0.6s\n",
            "[CV] max_depth=1, min_samples_leaf=1, min_samples_split=5 ............\n",
            "[CV]  max_depth=1, min_samples_leaf=1, min_samples_split=5, score=0.888, total=   0.6s\n",
            "[CV] max_depth=1, min_samples_leaf=1, min_samples_split=5 ............\n",
            "[CV]  max_depth=1, min_samples_leaf=1, min_samples_split=5, score=0.888, total=   0.6s\n",
            "[CV] max_depth=1, min_samples_leaf=1, min_samples_split=5 ............\n",
            "[CV]  max_depth=1, min_samples_leaf=1, min_samples_split=5, score=0.888, total=   0.6s\n",
            "[CV] max_depth=1, min_samples_leaf=1, min_samples_split=5 ............\n",
            "[CV]  max_depth=1, min_samples_leaf=1, min_samples_split=5, score=0.888, total=   0.6s\n",
            "[CV] max_depth=1, min_samples_leaf=2, min_samples_split=2 ............\n",
            "[CV]  max_depth=1, min_samples_leaf=2, min_samples_split=2, score=0.888, total=   0.6s\n",
            "[CV] max_depth=1, min_samples_leaf=2, min_samples_split=2 ............\n",
            "[CV]  max_depth=1, min_samples_leaf=2, min_samples_split=2, score=0.888, total=   0.6s\n",
            "[CV] max_depth=1, min_samples_leaf=2, min_samples_split=2 ............\n",
            "[CV]  max_depth=1, min_samples_leaf=2, min_samples_split=2, score=0.888, total=   0.6s\n",
            "[CV] max_depth=1, min_samples_leaf=2, min_samples_split=2 ............\n",
            "[CV]  max_depth=1, min_samples_leaf=2, min_samples_split=2, score=0.888, total=   0.6s\n",
            "[CV] max_depth=1, min_samples_leaf=2, min_samples_split=2 ............\n",
            "[CV]  max_depth=1, min_samples_leaf=2, min_samples_split=2, score=0.888, total=   0.6s\n",
            "[CV] max_depth=1, min_samples_leaf=2, min_samples_split=3 ............\n",
            "[CV]  max_depth=1, min_samples_leaf=2, min_samples_split=3, score=0.888, total=   0.6s\n",
            "[CV] max_depth=1, min_samples_leaf=2, min_samples_split=3 ............\n",
            "[CV]  max_depth=1, min_samples_leaf=2, min_samples_split=3, score=0.888, total=   0.6s\n",
            "[CV] max_depth=1, min_samples_leaf=2, min_samples_split=3 ............\n",
            "[CV]  max_depth=1, min_samples_leaf=2, min_samples_split=3, score=0.888, total=   0.6s\n",
            "[CV] max_depth=1, min_samples_leaf=2, min_samples_split=3 ............\n",
            "[CV]  max_depth=1, min_samples_leaf=2, min_samples_split=3, score=0.888, total=   0.6s\n",
            "[CV] max_depth=1, min_samples_leaf=2, min_samples_split=3 ............\n",
            "[CV]  max_depth=1, min_samples_leaf=2, min_samples_split=3, score=0.888, total=   0.6s\n",
            "[CV] max_depth=1, min_samples_leaf=2, min_samples_split=4 ............\n",
            "[CV]  max_depth=1, min_samples_leaf=2, min_samples_split=4, score=0.888, total=   0.6s\n",
            "[CV] max_depth=1, min_samples_leaf=2, min_samples_split=4 ............\n",
            "[CV]  max_depth=1, min_samples_leaf=2, min_samples_split=4, score=0.888, total=   0.6s\n",
            "[CV] max_depth=1, min_samples_leaf=2, min_samples_split=4 ............\n",
            "[CV]  max_depth=1, min_samples_leaf=2, min_samples_split=4, score=0.888, total=   0.6s\n",
            "[CV] max_depth=1, min_samples_leaf=2, min_samples_split=4 ............\n",
            "[CV]  max_depth=1, min_samples_leaf=2, min_samples_split=4, score=0.888, total=   0.6s\n",
            "[CV] max_depth=1, min_samples_leaf=2, min_samples_split=4 ............\n",
            "[CV]  max_depth=1, min_samples_leaf=2, min_samples_split=4, score=0.888, total=   0.6s\n",
            "[CV] max_depth=1, min_samples_leaf=2, min_samples_split=5 ............\n",
            "[CV]  max_depth=1, min_samples_leaf=2, min_samples_split=5, score=0.888, total=   0.6s\n",
            "[CV] max_depth=1, min_samples_leaf=2, min_samples_split=5 ............\n",
            "[CV]  max_depth=1, min_samples_leaf=2, min_samples_split=5, score=0.888, total=   0.6s\n",
            "[CV] max_depth=1, min_samples_leaf=2, min_samples_split=5 ............\n",
            "[CV]  max_depth=1, min_samples_leaf=2, min_samples_split=5, score=0.888, total=   0.6s\n",
            "[CV] max_depth=1, min_samples_leaf=2, min_samples_split=5 ............\n",
            "[CV]  max_depth=1, min_samples_leaf=2, min_samples_split=5, score=0.888, total=   0.6s\n",
            "[CV] max_depth=1, min_samples_leaf=2, min_samples_split=5 ............\n",
            "[CV]  max_depth=1, min_samples_leaf=2, min_samples_split=5, score=0.888, total=   0.6s\n",
            "[CV] max_depth=1, min_samples_leaf=3, min_samples_split=2 ............\n",
            "[CV]  max_depth=1, min_samples_leaf=3, min_samples_split=2, score=0.888, total=   0.6s\n",
            "[CV] max_depth=1, min_samples_leaf=3, min_samples_split=2 ............\n",
            "[CV]  max_depth=1, min_samples_leaf=3, min_samples_split=2, score=0.888, total=   0.6s\n",
            "[CV] max_depth=1, min_samples_leaf=3, min_samples_split=2 ............\n",
            "[CV]  max_depth=1, min_samples_leaf=3, min_samples_split=2, score=0.888, total=   0.6s\n",
            "[CV] max_depth=1, min_samples_leaf=3, min_samples_split=2 ............\n",
            "[CV]  max_depth=1, min_samples_leaf=3, min_samples_split=2, score=0.888, total=   0.6s\n",
            "[CV] max_depth=1, min_samples_leaf=3, min_samples_split=2 ............\n",
            "[CV]  max_depth=1, min_samples_leaf=3, min_samples_split=2, score=0.888, total=   0.6s\n",
            "[CV] max_depth=1, min_samples_leaf=3, min_samples_split=3 ............\n",
            "[CV]  max_depth=1, min_samples_leaf=3, min_samples_split=3, score=0.888, total=   0.6s\n",
            "[CV] max_depth=1, min_samples_leaf=3, min_samples_split=3 ............\n",
            "[CV]  max_depth=1, min_samples_leaf=3, min_samples_split=3, score=0.888, total=   0.6s\n",
            "[CV] max_depth=1, min_samples_leaf=3, min_samples_split=3 ............\n",
            "[CV]  max_depth=1, min_samples_leaf=3, min_samples_split=3, score=0.888, total=   0.6s\n",
            "[CV] max_depth=1, min_samples_leaf=3, min_samples_split=3 ............\n",
            "[CV]  max_depth=1, min_samples_leaf=3, min_samples_split=3, score=0.888, total=   0.6s\n",
            "[CV] max_depth=1, min_samples_leaf=3, min_samples_split=3 ............\n",
            "[CV]  max_depth=1, min_samples_leaf=3, min_samples_split=3, score=0.888, total=   0.6s\n",
            "[CV] max_depth=1, min_samples_leaf=3, min_samples_split=4 ............\n",
            "[CV]  max_depth=1, min_samples_leaf=3, min_samples_split=4, score=0.888, total=   0.6s\n",
            "[CV] max_depth=1, min_samples_leaf=3, min_samples_split=4 ............\n",
            "[CV]  max_depth=1, min_samples_leaf=3, min_samples_split=4, score=0.888, total=   0.6s\n",
            "[CV] max_depth=1, min_samples_leaf=3, min_samples_split=4 ............\n",
            "[CV]  max_depth=1, min_samples_leaf=3, min_samples_split=4, score=0.888, total=   0.6s\n",
            "[CV] max_depth=1, min_samples_leaf=3, min_samples_split=4 ............\n",
            "[CV]  max_depth=1, min_samples_leaf=3, min_samples_split=4, score=0.888, total=   0.6s\n",
            "[CV] max_depth=1, min_samples_leaf=3, min_samples_split=4 ............\n",
            "[CV]  max_depth=1, min_samples_leaf=3, min_samples_split=4, score=0.888, total=   0.6s\n",
            "[CV] max_depth=1, min_samples_leaf=3, min_samples_split=5 ............\n",
            "[CV]  max_depth=1, min_samples_leaf=3, min_samples_split=5, score=0.888, total=   0.6s\n",
            "[CV] max_depth=1, min_samples_leaf=3, min_samples_split=5 ............\n",
            "[CV]  max_depth=1, min_samples_leaf=3, min_samples_split=5, score=0.888, total=   0.6s\n",
            "[CV] max_depth=1, min_samples_leaf=3, min_samples_split=5 ............\n",
            "[CV]  max_depth=1, min_samples_leaf=3, min_samples_split=5, score=0.888, total=   0.6s\n",
            "[CV] max_depth=1, min_samples_leaf=3, min_samples_split=5 ............\n",
            "[CV]  max_depth=1, min_samples_leaf=3, min_samples_split=5, score=0.888, total=   0.6s\n",
            "[CV] max_depth=1, min_samples_leaf=3, min_samples_split=5 ............\n",
            "[CV]  max_depth=1, min_samples_leaf=3, min_samples_split=5, score=0.888, total=   0.6s\n",
            "[CV] max_depth=1, min_samples_leaf=4, min_samples_split=2 ............\n",
            "[CV]  max_depth=1, min_samples_leaf=4, min_samples_split=2, score=0.888, total=   0.6s\n",
            "[CV] max_depth=1, min_samples_leaf=4, min_samples_split=2 ............\n",
            "[CV]  max_depth=1, min_samples_leaf=4, min_samples_split=2, score=0.888, total=   0.6s\n",
            "[CV] max_depth=1, min_samples_leaf=4, min_samples_split=2 ............\n",
            "[CV]  max_depth=1, min_samples_leaf=4, min_samples_split=2, score=0.888, total=   0.6s\n",
            "[CV] max_depth=1, min_samples_leaf=4, min_samples_split=2 ............\n",
            "[CV]  max_depth=1, min_samples_leaf=4, min_samples_split=2, score=0.888, total=   0.6s\n",
            "[CV] max_depth=1, min_samples_leaf=4, min_samples_split=2 ............\n",
            "[CV]  max_depth=1, min_samples_leaf=4, min_samples_split=2, score=0.888, total=   0.6s\n",
            "[CV] max_depth=1, min_samples_leaf=4, min_samples_split=3 ............\n",
            "[CV]  max_depth=1, min_samples_leaf=4, min_samples_split=3, score=0.888, total=   0.6s\n",
            "[CV] max_depth=1, min_samples_leaf=4, min_samples_split=3 ............\n",
            "[CV]  max_depth=1, min_samples_leaf=4, min_samples_split=3, score=0.888, total=   0.6s\n",
            "[CV] max_depth=1, min_samples_leaf=4, min_samples_split=3 ............\n",
            "[CV]  max_depth=1, min_samples_leaf=4, min_samples_split=3, score=0.888, total=   0.6s\n",
            "[CV] max_depth=1, min_samples_leaf=4, min_samples_split=3 ............\n",
            "[CV]  max_depth=1, min_samples_leaf=4, min_samples_split=3, score=0.888, total=   0.6s\n",
            "[CV] max_depth=1, min_samples_leaf=4, min_samples_split=3 ............\n",
            "[CV]  max_depth=1, min_samples_leaf=4, min_samples_split=3, score=0.888, total=   0.6s\n",
            "[CV] max_depth=1, min_samples_leaf=4, min_samples_split=4 ............\n",
            "[CV]  max_depth=1, min_samples_leaf=4, min_samples_split=4, score=0.888, total=   0.6s\n",
            "[CV] max_depth=1, min_samples_leaf=4, min_samples_split=4 ............\n",
            "[CV]  max_depth=1, min_samples_leaf=4, min_samples_split=4, score=0.888, total=   0.6s\n",
            "[CV] max_depth=1, min_samples_leaf=4, min_samples_split=4 ............\n",
            "[CV]  max_depth=1, min_samples_leaf=4, min_samples_split=4, score=0.888, total=   0.6s\n",
            "[CV] max_depth=1, min_samples_leaf=4, min_samples_split=4 ............\n",
            "[CV]  max_depth=1, min_samples_leaf=4, min_samples_split=4, score=0.888, total=   0.6s\n",
            "[CV] max_depth=1, min_samples_leaf=4, min_samples_split=4 ............\n",
            "[CV]  max_depth=1, min_samples_leaf=4, min_samples_split=4, score=0.888, total=   0.6s\n",
            "[CV] max_depth=1, min_samples_leaf=4, min_samples_split=5 ............\n",
            "[CV]  max_depth=1, min_samples_leaf=4, min_samples_split=5, score=0.888, total=   0.6s\n",
            "[CV] max_depth=1, min_samples_leaf=4, min_samples_split=5 ............\n",
            "[CV]  max_depth=1, min_samples_leaf=4, min_samples_split=5, score=0.888, total=   0.6s\n",
            "[CV] max_depth=1, min_samples_leaf=4, min_samples_split=5 ............\n",
            "[CV]  max_depth=1, min_samples_leaf=4, min_samples_split=5, score=0.888, total=   0.6s\n",
            "[CV] max_depth=1, min_samples_leaf=4, min_samples_split=5 ............\n",
            "[CV]  max_depth=1, min_samples_leaf=4, min_samples_split=5, score=0.888, total=   0.6s\n",
            "[CV] max_depth=1, min_samples_leaf=4, min_samples_split=5 ............\n",
            "[CV]  max_depth=1, min_samples_leaf=4, min_samples_split=5, score=0.888, total=   0.6s\n",
            "[CV] max_depth=10, min_samples_leaf=1, min_samples_split=2 ...........\n",
            "[CV]  max_depth=10, min_samples_leaf=1, min_samples_split=2, score=0.901, total=   1.8s\n",
            "[CV] max_depth=10, min_samples_leaf=1, min_samples_split=2 ...........\n",
            "[CV]  max_depth=10, min_samples_leaf=1, min_samples_split=2, score=0.905, total=   1.8s\n",
            "[CV] max_depth=10, min_samples_leaf=1, min_samples_split=2 ...........\n",
            "[CV]  max_depth=10, min_samples_leaf=1, min_samples_split=2, score=0.897, total=   1.8s\n",
            "[CV] max_depth=10, min_samples_leaf=1, min_samples_split=2 ...........\n",
            "[CV]  max_depth=10, min_samples_leaf=1, min_samples_split=2, score=0.902, total=   1.8s\n",
            "[CV] max_depth=10, min_samples_leaf=1, min_samples_split=2 ...........\n",
            "[CV]  max_depth=10, min_samples_leaf=1, min_samples_split=2, score=0.903, total=   1.8s\n",
            "[CV] max_depth=10, min_samples_leaf=1, min_samples_split=3 ...........\n",
            "[CV]  max_depth=10, min_samples_leaf=1, min_samples_split=3, score=0.901, total=   1.8s\n",
            "[CV] max_depth=10, min_samples_leaf=1, min_samples_split=3 ...........\n",
            "[CV]  max_depth=10, min_samples_leaf=1, min_samples_split=3, score=0.902, total=   1.8s\n",
            "[CV] max_depth=10, min_samples_leaf=1, min_samples_split=3 ...........\n",
            "[CV]  max_depth=10, min_samples_leaf=1, min_samples_split=3, score=0.898, total=   1.8s\n",
            "[CV] max_depth=10, min_samples_leaf=1, min_samples_split=3 ...........\n",
            "[CV]  max_depth=10, min_samples_leaf=1, min_samples_split=3, score=0.902, total=   1.8s\n",
            "[CV] max_depth=10, min_samples_leaf=1, min_samples_split=3 ...........\n",
            "[CV]  max_depth=10, min_samples_leaf=1, min_samples_split=3, score=0.903, total=   1.8s\n",
            "[CV] max_depth=10, min_samples_leaf=1, min_samples_split=4 ...........\n",
            "[CV]  max_depth=10, min_samples_leaf=1, min_samples_split=4, score=0.901, total=   1.8s\n",
            "[CV] max_depth=10, min_samples_leaf=1, min_samples_split=4 ...........\n",
            "[CV]  max_depth=10, min_samples_leaf=1, min_samples_split=4, score=0.904, total=   1.8s\n",
            "[CV] max_depth=10, min_samples_leaf=1, min_samples_split=4 ...........\n",
            "[CV]  max_depth=10, min_samples_leaf=1, min_samples_split=4, score=0.897, total=   1.8s\n",
            "[CV] max_depth=10, min_samples_leaf=1, min_samples_split=4 ...........\n",
            "[CV]  max_depth=10, min_samples_leaf=1, min_samples_split=4, score=0.903, total=   1.8s\n",
            "[CV] max_depth=10, min_samples_leaf=1, min_samples_split=4 ...........\n",
            "[CV]  max_depth=10, min_samples_leaf=1, min_samples_split=4, score=0.902, total=   1.8s\n",
            "[CV] max_depth=10, min_samples_leaf=1, min_samples_split=5 ...........\n",
            "[CV]  max_depth=10, min_samples_leaf=1, min_samples_split=5, score=0.900, total=   1.8s\n",
            "[CV] max_depth=10, min_samples_leaf=1, min_samples_split=5 ...........\n",
            "[CV]  max_depth=10, min_samples_leaf=1, min_samples_split=5, score=0.904, total=   1.8s\n",
            "[CV] max_depth=10, min_samples_leaf=1, min_samples_split=5 ...........\n",
            "[CV]  max_depth=10, min_samples_leaf=1, min_samples_split=5, score=0.895, total=   1.8s\n",
            "[CV] max_depth=10, min_samples_leaf=1, min_samples_split=5 ...........\n",
            "[CV]  max_depth=10, min_samples_leaf=1, min_samples_split=5, score=0.901, total=   1.8s\n",
            "[CV] max_depth=10, min_samples_leaf=1, min_samples_split=5 ...........\n",
            "[CV]  max_depth=10, min_samples_leaf=1, min_samples_split=5, score=0.903, total=   1.8s\n",
            "[CV] max_depth=10, min_samples_leaf=2, min_samples_split=2 ...........\n",
            "[CV]  max_depth=10, min_samples_leaf=2, min_samples_split=2, score=0.901, total=   1.8s\n",
            "[CV] max_depth=10, min_samples_leaf=2, min_samples_split=2 ...........\n",
            "[CV]  max_depth=10, min_samples_leaf=2, min_samples_split=2, score=0.903, total=   1.8s\n",
            "[CV] max_depth=10, min_samples_leaf=2, min_samples_split=2 ...........\n",
            "[CV]  max_depth=10, min_samples_leaf=2, min_samples_split=2, score=0.897, total=   1.8s\n",
            "[CV] max_depth=10, min_samples_leaf=2, min_samples_split=2 ...........\n",
            "[CV]  max_depth=10, min_samples_leaf=2, min_samples_split=2, score=0.902, total=   1.8s\n",
            "[CV] max_depth=10, min_samples_leaf=2, min_samples_split=2 ...........\n",
            "[CV]  max_depth=10, min_samples_leaf=2, min_samples_split=2, score=0.902, total=   1.8s\n",
            "[CV] max_depth=10, min_samples_leaf=2, min_samples_split=3 ...........\n",
            "[CV]  max_depth=10, min_samples_leaf=2, min_samples_split=3, score=0.900, total=   1.8s\n",
            "[CV] max_depth=10, min_samples_leaf=2, min_samples_split=3 ...........\n",
            "[CV]  max_depth=10, min_samples_leaf=2, min_samples_split=3, score=0.903, total=   1.8s\n",
            "[CV] max_depth=10, min_samples_leaf=2, min_samples_split=3 ...........\n",
            "[CV]  max_depth=10, min_samples_leaf=2, min_samples_split=3, score=0.897, total=   1.8s\n",
            "[CV] max_depth=10, min_samples_leaf=2, min_samples_split=3 ...........\n",
            "[CV]  max_depth=10, min_samples_leaf=2, min_samples_split=3, score=0.902, total=   1.8s\n",
            "[CV] max_depth=10, min_samples_leaf=2, min_samples_split=3 ...........\n",
            "[CV]  max_depth=10, min_samples_leaf=2, min_samples_split=3, score=0.902, total=   1.8s\n",
            "[CV] max_depth=10, min_samples_leaf=2, min_samples_split=4 ...........\n",
            "[CV]  max_depth=10, min_samples_leaf=2, min_samples_split=4, score=0.901, total=   1.8s\n",
            "[CV] max_depth=10, min_samples_leaf=2, min_samples_split=4 ...........\n",
            "[CV]  max_depth=10, min_samples_leaf=2, min_samples_split=4, score=0.903, total=   1.8s\n",
            "[CV] max_depth=10, min_samples_leaf=2, min_samples_split=4 ...........\n",
            "[CV]  max_depth=10, min_samples_leaf=2, min_samples_split=4, score=0.897, total=   1.8s\n",
            "[CV] max_depth=10, min_samples_leaf=2, min_samples_split=4 ...........\n",
            "[CV]  max_depth=10, min_samples_leaf=2, min_samples_split=4, score=0.903, total=   1.8s\n",
            "[CV] max_depth=10, min_samples_leaf=2, min_samples_split=4 ...........\n",
            "[CV]  max_depth=10, min_samples_leaf=2, min_samples_split=4, score=0.902, total=   1.8s\n",
            "[CV] max_depth=10, min_samples_leaf=2, min_samples_split=5 ...........\n",
            "[CV]  max_depth=10, min_samples_leaf=2, min_samples_split=5, score=0.900, total=   1.8s\n",
            "[CV] max_depth=10, min_samples_leaf=2, min_samples_split=5 ...........\n",
            "[CV]  max_depth=10, min_samples_leaf=2, min_samples_split=5, score=0.904, total=   1.8s\n",
            "[CV] max_depth=10, min_samples_leaf=2, min_samples_split=5 ...........\n",
            "[CV]  max_depth=10, min_samples_leaf=2, min_samples_split=5, score=0.897, total=   1.8s\n",
            "[CV] max_depth=10, min_samples_leaf=2, min_samples_split=5 ...........\n",
            "[CV]  max_depth=10, min_samples_leaf=2, min_samples_split=5, score=0.902, total=   1.9s\n",
            "[CV] max_depth=10, min_samples_leaf=2, min_samples_split=5 ...........\n",
            "[CV]  max_depth=10, min_samples_leaf=2, min_samples_split=5, score=0.902, total=   1.8s\n",
            "[CV] max_depth=10, min_samples_leaf=3, min_samples_split=2 ...........\n",
            "[CV]  max_depth=10, min_samples_leaf=3, min_samples_split=2, score=0.900, total=   1.8s\n",
            "[CV] max_depth=10, min_samples_leaf=3, min_samples_split=2 ...........\n",
            "[CV]  max_depth=10, min_samples_leaf=3, min_samples_split=2, score=0.903, total=   1.8s\n",
            "[CV] max_depth=10, min_samples_leaf=3, min_samples_split=2 ...........\n",
            "[CV]  max_depth=10, min_samples_leaf=3, min_samples_split=2, score=0.896, total=   1.8s\n",
            "[CV] max_depth=10, min_samples_leaf=3, min_samples_split=2 ...........\n",
            "[CV]  max_depth=10, min_samples_leaf=3, min_samples_split=2, score=0.903, total=   1.8s\n",
            "[CV] max_depth=10, min_samples_leaf=3, min_samples_split=2 ...........\n",
            "[CV]  max_depth=10, min_samples_leaf=3, min_samples_split=2, score=0.902, total=   1.8s\n",
            "[CV] max_depth=10, min_samples_leaf=3, min_samples_split=3 ...........\n",
            "[CV]  max_depth=10, min_samples_leaf=3, min_samples_split=3, score=0.900, total=   1.8s\n",
            "[CV] max_depth=10, min_samples_leaf=3, min_samples_split=3 ...........\n",
            "[CV]  max_depth=10, min_samples_leaf=3, min_samples_split=3, score=0.905, total=   1.8s\n",
            "[CV] max_depth=10, min_samples_leaf=3, min_samples_split=3 ...........\n",
            "[CV]  max_depth=10, min_samples_leaf=3, min_samples_split=3, score=0.897, total=   1.9s\n",
            "[CV] max_depth=10, min_samples_leaf=3, min_samples_split=3 ...........\n",
            "[CV]  max_depth=10, min_samples_leaf=3, min_samples_split=3, score=0.903, total=   1.8s\n",
            "[CV] max_depth=10, min_samples_leaf=3, min_samples_split=3 ...........\n",
            "[CV]  max_depth=10, min_samples_leaf=3, min_samples_split=3, score=0.902, total=   1.8s\n",
            "[CV] max_depth=10, min_samples_leaf=3, min_samples_split=4 ...........\n",
            "[CV]  max_depth=10, min_samples_leaf=3, min_samples_split=4, score=0.900, total=   1.8s\n",
            "[CV] max_depth=10, min_samples_leaf=3, min_samples_split=4 ...........\n",
            "[CV]  max_depth=10, min_samples_leaf=3, min_samples_split=4, score=0.904, total=   1.8s\n",
            "[CV] max_depth=10, min_samples_leaf=3, min_samples_split=4 ...........\n",
            "[CV]  max_depth=10, min_samples_leaf=3, min_samples_split=4, score=0.896, total=   1.8s\n",
            "[CV] max_depth=10, min_samples_leaf=3, min_samples_split=4 ...........\n",
            "[CV]  max_depth=10, min_samples_leaf=3, min_samples_split=4, score=0.901, total=   1.8s\n",
            "[CV] max_depth=10, min_samples_leaf=3, min_samples_split=4 ...........\n",
            "[CV]  max_depth=10, min_samples_leaf=3, min_samples_split=4, score=0.902, total=   1.8s\n",
            "[CV] max_depth=10, min_samples_leaf=3, min_samples_split=5 ...........\n",
            "[CV]  max_depth=10, min_samples_leaf=3, min_samples_split=5, score=0.900, total=   1.9s\n",
            "[CV] max_depth=10, min_samples_leaf=3, min_samples_split=5 ...........\n",
            "[CV]  max_depth=10, min_samples_leaf=3, min_samples_split=5, score=0.904, total=   1.8s\n",
            "[CV] max_depth=10, min_samples_leaf=3, min_samples_split=5 ...........\n",
            "[CV]  max_depth=10, min_samples_leaf=3, min_samples_split=5, score=0.897, total=   1.8s\n",
            "[CV] max_depth=10, min_samples_leaf=3, min_samples_split=5 ...........\n",
            "[CV]  max_depth=10, min_samples_leaf=3, min_samples_split=5, score=0.903, total=   1.8s\n",
            "[CV] max_depth=10, min_samples_leaf=3, min_samples_split=5 ...........\n",
            "[CV]  max_depth=10, min_samples_leaf=3, min_samples_split=5, score=0.903, total=   1.8s\n",
            "[CV] max_depth=10, min_samples_leaf=4, min_samples_split=2 ...........\n",
            "[CV]  max_depth=10, min_samples_leaf=4, min_samples_split=2, score=0.901, total=   1.8s\n",
            "[CV] max_depth=10, min_samples_leaf=4, min_samples_split=2 ...........\n",
            "[CV]  max_depth=10, min_samples_leaf=4, min_samples_split=2, score=0.904, total=   1.8s\n",
            "[CV] max_depth=10, min_samples_leaf=4, min_samples_split=2 ...........\n",
            "[CV]  max_depth=10, min_samples_leaf=4, min_samples_split=2, score=0.896, total=   1.8s\n",
            "[CV] max_depth=10, min_samples_leaf=4, min_samples_split=2 ...........\n",
            "[CV]  max_depth=10, min_samples_leaf=4, min_samples_split=2, score=0.903, total=   1.8s\n",
            "[CV] max_depth=10, min_samples_leaf=4, min_samples_split=2 ...........\n",
            "[CV]  max_depth=10, min_samples_leaf=4, min_samples_split=2, score=0.902, total=   1.8s\n",
            "[CV] max_depth=10, min_samples_leaf=4, min_samples_split=3 ...........\n",
            "[CV]  max_depth=10, min_samples_leaf=4, min_samples_split=3, score=0.900, total=   1.8s\n",
            "[CV] max_depth=10, min_samples_leaf=4, min_samples_split=3 ...........\n",
            "[CV]  max_depth=10, min_samples_leaf=4, min_samples_split=3, score=0.904, total=   1.8s\n",
            "[CV] max_depth=10, min_samples_leaf=4, min_samples_split=3 ...........\n",
            "[CV]  max_depth=10, min_samples_leaf=4, min_samples_split=3, score=0.896, total=   1.8s\n",
            "[CV] max_depth=10, min_samples_leaf=4, min_samples_split=3 ...........\n",
            "[CV]  max_depth=10, min_samples_leaf=4, min_samples_split=3, score=0.904, total=   1.8s\n",
            "[CV] max_depth=10, min_samples_leaf=4, min_samples_split=3 ...........\n",
            "[CV]  max_depth=10, min_samples_leaf=4, min_samples_split=3, score=0.902, total=   1.8s\n",
            "[CV] max_depth=10, min_samples_leaf=4, min_samples_split=4 ...........\n",
            "[CV]  max_depth=10, min_samples_leaf=4, min_samples_split=4, score=0.900, total=   1.8s\n",
            "[CV] max_depth=10, min_samples_leaf=4, min_samples_split=4 ...........\n",
            "[CV]  max_depth=10, min_samples_leaf=4, min_samples_split=4, score=0.904, total=   1.8s\n",
            "[CV] max_depth=10, min_samples_leaf=4, min_samples_split=4 ...........\n",
            "[CV]  max_depth=10, min_samples_leaf=4, min_samples_split=4, score=0.897, total=   1.8s\n",
            "[CV] max_depth=10, min_samples_leaf=4, min_samples_split=4 ...........\n",
            "[CV]  max_depth=10, min_samples_leaf=4, min_samples_split=4, score=0.902, total=   1.8s\n",
            "[CV] max_depth=10, min_samples_leaf=4, min_samples_split=4 ...........\n",
            "[CV]  max_depth=10, min_samples_leaf=4, min_samples_split=4, score=0.903, total=   1.8s\n",
            "[CV] max_depth=10, min_samples_leaf=4, min_samples_split=5 ...........\n",
            "[CV]  max_depth=10, min_samples_leaf=4, min_samples_split=5, score=0.901, total=   1.8s\n",
            "[CV] max_depth=10, min_samples_leaf=4, min_samples_split=5 ...........\n",
            "[CV]  max_depth=10, min_samples_leaf=4, min_samples_split=5, score=0.903, total=   1.8s\n",
            "[CV] max_depth=10, min_samples_leaf=4, min_samples_split=5 ...........\n",
            "[CV]  max_depth=10, min_samples_leaf=4, min_samples_split=5, score=0.896, total=   1.8s\n",
            "[CV] max_depth=10, min_samples_leaf=4, min_samples_split=5 ...........\n",
            "[CV]  max_depth=10, min_samples_leaf=4, min_samples_split=5, score=0.903, total=   1.8s\n",
            "[CV] max_depth=10, min_samples_leaf=4, min_samples_split=5 ...........\n",
            "[CV]  max_depth=10, min_samples_leaf=4, min_samples_split=5, score=0.903, total=   1.8s\n",
            "[CV] max_depth=100, min_samples_leaf=1, min_samples_split=2 ..........\n",
            "[CV]  max_depth=100, min_samples_leaf=1, min_samples_split=2, score=0.897, total=   2.9s\n",
            "[CV] max_depth=100, min_samples_leaf=1, min_samples_split=2 ..........\n",
            "[CV]  max_depth=100, min_samples_leaf=1, min_samples_split=2, score=0.899, total=   2.9s\n",
            "[CV] max_depth=100, min_samples_leaf=1, min_samples_split=2 ..........\n",
            "[CV]  max_depth=100, min_samples_leaf=1, min_samples_split=2, score=0.890, total=   2.8s\n",
            "[CV] max_depth=100, min_samples_leaf=1, min_samples_split=2 ..........\n",
            "[CV]  max_depth=100, min_samples_leaf=1, min_samples_split=2, score=0.890, total=   2.9s\n",
            "[CV] max_depth=100, min_samples_leaf=1, min_samples_split=2 ..........\n",
            "[CV]  max_depth=100, min_samples_leaf=1, min_samples_split=2, score=0.895, total=   2.9s\n",
            "[CV] max_depth=100, min_samples_leaf=1, min_samples_split=3 ..........\n",
            "[CV]  max_depth=100, min_samples_leaf=1, min_samples_split=3, score=0.897, total=   2.9s\n",
            "[CV] max_depth=100, min_samples_leaf=1, min_samples_split=3 ..........\n",
            "[CV]  max_depth=100, min_samples_leaf=1, min_samples_split=3, score=0.902, total=   2.8s\n",
            "[CV] max_depth=100, min_samples_leaf=1, min_samples_split=3 ..........\n",
            "[CV]  max_depth=100, min_samples_leaf=1, min_samples_split=3, score=0.892, total=   2.8s\n",
            "[CV] max_depth=100, min_samples_leaf=1, min_samples_split=3 ..........\n",
            "[CV]  max_depth=100, min_samples_leaf=1, min_samples_split=3, score=0.896, total=   2.8s\n",
            "[CV] max_depth=100, min_samples_leaf=1, min_samples_split=3 ..........\n",
            "[CV]  max_depth=100, min_samples_leaf=1, min_samples_split=3, score=0.899, total=   2.8s\n",
            "[CV] max_depth=100, min_samples_leaf=1, min_samples_split=4 ..........\n",
            "[CV]  max_depth=100, min_samples_leaf=1, min_samples_split=4, score=0.899, total=   2.7s\n",
            "[CV] max_depth=100, min_samples_leaf=1, min_samples_split=4 ..........\n",
            "[CV]  max_depth=100, min_samples_leaf=1, min_samples_split=4, score=0.902, total=   2.8s\n",
            "[CV] max_depth=100, min_samples_leaf=1, min_samples_split=4 ..........\n",
            "[CV]  max_depth=100, min_samples_leaf=1, min_samples_split=4, score=0.893, total=   2.8s\n",
            "[CV] max_depth=100, min_samples_leaf=1, min_samples_split=4 ..........\n",
            "[CV]  max_depth=100, min_samples_leaf=1, min_samples_split=4, score=0.896, total=   2.7s\n",
            "[CV] max_depth=100, min_samples_leaf=1, min_samples_split=4 ..........\n",
            "[CV]  max_depth=100, min_samples_leaf=1, min_samples_split=4, score=0.899, total=   2.8s\n",
            "[CV] max_depth=100, min_samples_leaf=1, min_samples_split=5 ..........\n",
            "[CV]  max_depth=100, min_samples_leaf=1, min_samples_split=5, score=0.900, total=   2.7s\n",
            "[CV] max_depth=100, min_samples_leaf=1, min_samples_split=5 ..........\n",
            "[CV]  max_depth=100, min_samples_leaf=1, min_samples_split=5, score=0.901, total=   2.8s\n",
            "[CV] max_depth=100, min_samples_leaf=1, min_samples_split=5 ..........\n",
            "[CV]  max_depth=100, min_samples_leaf=1, min_samples_split=5, score=0.893, total=   2.7s\n",
            "[CV] max_depth=100, min_samples_leaf=1, min_samples_split=5 ..........\n",
            "[CV]  max_depth=100, min_samples_leaf=1, min_samples_split=5, score=0.900, total=   2.7s\n",
            "[CV] max_depth=100, min_samples_leaf=1, min_samples_split=5 ..........\n",
            "[CV]  max_depth=100, min_samples_leaf=1, min_samples_split=5, score=0.901, total=   2.8s\n",
            "[CV] max_depth=100, min_samples_leaf=2, min_samples_split=2 ..........\n",
            "[CV]  max_depth=100, min_samples_leaf=2, min_samples_split=2, score=0.900, total=   2.7s\n",
            "[CV] max_depth=100, min_samples_leaf=2, min_samples_split=2 ..........\n",
            "[CV]  max_depth=100, min_samples_leaf=2, min_samples_split=2, score=0.902, total=   2.7s\n",
            "[CV] max_depth=100, min_samples_leaf=2, min_samples_split=2 ..........\n",
            "[CV]  max_depth=100, min_samples_leaf=2, min_samples_split=2, score=0.893, total=   2.7s\n",
            "[CV] max_depth=100, min_samples_leaf=2, min_samples_split=2 ..........\n",
            "[CV]  max_depth=100, min_samples_leaf=2, min_samples_split=2, score=0.898, total=   2.7s\n",
            "[CV] max_depth=100, min_samples_leaf=2, min_samples_split=2 ..........\n",
            "[CV]  max_depth=100, min_samples_leaf=2, min_samples_split=2, score=0.901, total=   2.7s\n",
            "[CV] max_depth=100, min_samples_leaf=2, min_samples_split=3 ..........\n",
            "[CV]  max_depth=100, min_samples_leaf=2, min_samples_split=3, score=0.901, total=   2.7s\n",
            "[CV] max_depth=100, min_samples_leaf=2, min_samples_split=3 ..........\n",
            "[CV]  max_depth=100, min_samples_leaf=2, min_samples_split=3, score=0.902, total=   2.7s\n",
            "[CV] max_depth=100, min_samples_leaf=2, min_samples_split=3 ..........\n",
            "[CV]  max_depth=100, min_samples_leaf=2, min_samples_split=3, score=0.894, total=   2.7s\n",
            "[CV] max_depth=100, min_samples_leaf=2, min_samples_split=3 ..........\n",
            "[CV]  max_depth=100, min_samples_leaf=2, min_samples_split=3, score=0.898, total=   2.7s\n",
            "[CV] max_depth=100, min_samples_leaf=2, min_samples_split=3 ..........\n",
            "[CV]  max_depth=100, min_samples_leaf=2, min_samples_split=3, score=0.901, total=   2.7s\n",
            "[CV] max_depth=100, min_samples_leaf=2, min_samples_split=4 ..........\n",
            "[CV]  max_depth=100, min_samples_leaf=2, min_samples_split=4, score=0.902, total=   2.7s\n",
            "[CV] max_depth=100, min_samples_leaf=2, min_samples_split=4 ..........\n",
            "[CV]  max_depth=100, min_samples_leaf=2, min_samples_split=4, score=0.902, total=   2.7s\n",
            "[CV] max_depth=100, min_samples_leaf=2, min_samples_split=4 ..........\n",
            "[CV]  max_depth=100, min_samples_leaf=2, min_samples_split=4, score=0.894, total=   2.7s\n",
            "[CV] max_depth=100, min_samples_leaf=2, min_samples_split=4 ..........\n",
            "[CV]  max_depth=100, min_samples_leaf=2, min_samples_split=4, score=0.899, total=   2.7s\n",
            "[CV] max_depth=100, min_samples_leaf=2, min_samples_split=4 ..........\n",
            "[CV]  max_depth=100, min_samples_leaf=2, min_samples_split=4, score=0.900, total=   2.7s\n",
            "[CV] max_depth=100, min_samples_leaf=2, min_samples_split=5 ..........\n",
            "[CV]  max_depth=100, min_samples_leaf=2, min_samples_split=5, score=0.902, total=   2.7s\n",
            "[CV] max_depth=100, min_samples_leaf=2, min_samples_split=5 ..........\n",
            "[CV]  max_depth=100, min_samples_leaf=2, min_samples_split=5, score=0.902, total=   2.7s\n",
            "[CV] max_depth=100, min_samples_leaf=2, min_samples_split=5 ..........\n",
            "[CV]  max_depth=100, min_samples_leaf=2, min_samples_split=5, score=0.893, total=   2.8s\n",
            "[CV] max_depth=100, min_samples_leaf=2, min_samples_split=5 ..........\n",
            "[CV]  max_depth=100, min_samples_leaf=2, min_samples_split=5, score=0.899, total=   2.7s\n",
            "[CV] max_depth=100, min_samples_leaf=2, min_samples_split=5 ..........\n",
            "[CV]  max_depth=100, min_samples_leaf=2, min_samples_split=5, score=0.900, total=   2.7s\n",
            "[CV] max_depth=100, min_samples_leaf=3, min_samples_split=2 ..........\n",
            "[CV]  max_depth=100, min_samples_leaf=3, min_samples_split=2, score=0.903, total=   2.6s\n",
            "[CV] max_depth=100, min_samples_leaf=3, min_samples_split=2 ..........\n",
            "[CV]  max_depth=100, min_samples_leaf=3, min_samples_split=2, score=0.903, total=   2.6s\n",
            "[CV] max_depth=100, min_samples_leaf=3, min_samples_split=2 ..........\n",
            "[CV]  max_depth=100, min_samples_leaf=3, min_samples_split=2, score=0.895, total=   2.6s\n",
            "[CV] max_depth=100, min_samples_leaf=3, min_samples_split=2 ..........\n",
            "[CV]  max_depth=100, min_samples_leaf=3, min_samples_split=2, score=0.901, total=   2.6s\n",
            "[CV] max_depth=100, min_samples_leaf=3, min_samples_split=2 ..........\n",
            "[CV]  max_depth=100, min_samples_leaf=3, min_samples_split=2, score=0.901, total=   2.5s\n",
            "[CV] max_depth=100, min_samples_leaf=3, min_samples_split=3 ..........\n",
            "[CV]  max_depth=100, min_samples_leaf=3, min_samples_split=3, score=0.901, total=   2.6s\n",
            "[CV] max_depth=100, min_samples_leaf=3, min_samples_split=3 ..........\n",
            "[CV]  max_depth=100, min_samples_leaf=3, min_samples_split=3, score=0.902, total=   2.6s\n",
            "[CV] max_depth=100, min_samples_leaf=3, min_samples_split=3 ..........\n",
            "[CV]  max_depth=100, min_samples_leaf=3, min_samples_split=3, score=0.896, total=   2.6s\n",
            "[CV] max_depth=100, min_samples_leaf=3, min_samples_split=3 ..........\n",
            "[CV]  max_depth=100, min_samples_leaf=3, min_samples_split=3, score=0.899, total=   2.6s\n",
            "[CV] max_depth=100, min_samples_leaf=3, min_samples_split=3 ..........\n",
            "[CV]  max_depth=100, min_samples_leaf=3, min_samples_split=3, score=0.902, total=   2.6s\n",
            "[CV] max_depth=100, min_samples_leaf=3, min_samples_split=4 ..........\n",
            "[CV]  max_depth=100, min_samples_leaf=3, min_samples_split=4, score=0.900, total=   2.7s\n",
            "[CV] max_depth=100, min_samples_leaf=3, min_samples_split=4 ..........\n",
            "[CV]  max_depth=100, min_samples_leaf=3, min_samples_split=4, score=0.903, total=   2.6s\n",
            "[CV] max_depth=100, min_samples_leaf=3, min_samples_split=4 ..........\n",
            "[CV]  max_depth=100, min_samples_leaf=3, min_samples_split=4, score=0.895, total=   2.6s\n",
            "[CV] max_depth=100, min_samples_leaf=3, min_samples_split=4 ..........\n",
            "[CV]  max_depth=100, min_samples_leaf=3, min_samples_split=4, score=0.899, total=   2.6s\n",
            "[CV] max_depth=100, min_samples_leaf=3, min_samples_split=4 ..........\n",
            "[CV]  max_depth=100, min_samples_leaf=3, min_samples_split=4, score=0.901, total=   2.6s\n",
            "[CV] max_depth=100, min_samples_leaf=3, min_samples_split=5 ..........\n",
            "[CV]  max_depth=100, min_samples_leaf=3, min_samples_split=5, score=0.901, total=   2.6s\n",
            "[CV] max_depth=100, min_samples_leaf=3, min_samples_split=5 ..........\n",
            "[CV]  max_depth=100, min_samples_leaf=3, min_samples_split=5, score=0.903, total=   2.6s\n",
            "[CV] max_depth=100, min_samples_leaf=3, min_samples_split=5 ..........\n",
            "[CV]  max_depth=100, min_samples_leaf=3, min_samples_split=5, score=0.895, total=   2.6s\n",
            "[CV] max_depth=100, min_samples_leaf=3, min_samples_split=5 ..........\n",
            "[CV]  max_depth=100, min_samples_leaf=3, min_samples_split=5, score=0.900, total=   2.6s\n",
            "[CV] max_depth=100, min_samples_leaf=3, min_samples_split=5 ..........\n",
            "[CV]  max_depth=100, min_samples_leaf=3, min_samples_split=5, score=0.901, total=   2.6s\n",
            "[CV] max_depth=100, min_samples_leaf=4, min_samples_split=2 ..........\n",
            "[CV]  max_depth=100, min_samples_leaf=4, min_samples_split=2, score=0.901, total=   2.6s\n",
            "[CV] max_depth=100, min_samples_leaf=4, min_samples_split=2 ..........\n",
            "[CV]  max_depth=100, min_samples_leaf=4, min_samples_split=2, score=0.903, total=   2.5s\n",
            "[CV] max_depth=100, min_samples_leaf=4, min_samples_split=2 ..........\n",
            "[CV]  max_depth=100, min_samples_leaf=4, min_samples_split=2, score=0.895, total=   2.6s\n",
            "[CV] max_depth=100, min_samples_leaf=4, min_samples_split=2 ..........\n",
            "[CV]  max_depth=100, min_samples_leaf=4, min_samples_split=2, score=0.900, total=   2.5s\n",
            "[CV] max_depth=100, min_samples_leaf=4, min_samples_split=2 ..........\n",
            "[CV]  max_depth=100, min_samples_leaf=4, min_samples_split=2, score=0.902, total=   2.5s\n",
            "[CV] max_depth=100, min_samples_leaf=4, min_samples_split=3 ..........\n",
            "[CV]  max_depth=100, min_samples_leaf=4, min_samples_split=3, score=0.900, total=   2.5s\n",
            "[CV] max_depth=100, min_samples_leaf=4, min_samples_split=3 ..........\n",
            "[CV]  max_depth=100, min_samples_leaf=4, min_samples_split=3, score=0.902, total=   2.6s\n",
            "[CV] max_depth=100, min_samples_leaf=4, min_samples_split=3 ..........\n",
            "[CV]  max_depth=100, min_samples_leaf=4, min_samples_split=3, score=0.895, total=   2.5s\n",
            "[CV] max_depth=100, min_samples_leaf=4, min_samples_split=3 ..........\n",
            "[CV]  max_depth=100, min_samples_leaf=4, min_samples_split=3, score=0.901, total=   2.5s\n",
            "[CV] max_depth=100, min_samples_leaf=4, min_samples_split=3 ..........\n",
            "[CV]  max_depth=100, min_samples_leaf=4, min_samples_split=3, score=0.900, total=   2.5s\n",
            "[CV] max_depth=100, min_samples_leaf=4, min_samples_split=4 ..........\n",
            "[CV]  max_depth=100, min_samples_leaf=4, min_samples_split=4, score=0.900, total=   2.5s\n",
            "[CV] max_depth=100, min_samples_leaf=4, min_samples_split=4 ..........\n",
            "[CV]  max_depth=100, min_samples_leaf=4, min_samples_split=4, score=0.903, total=   2.6s\n",
            "[CV] max_depth=100, min_samples_leaf=4, min_samples_split=4 ..........\n",
            "[CV]  max_depth=100, min_samples_leaf=4, min_samples_split=4, score=0.896, total=   2.5s\n",
            "[CV] max_depth=100, min_samples_leaf=4, min_samples_split=4 ..........\n",
            "[CV]  max_depth=100, min_samples_leaf=4, min_samples_split=4, score=0.900, total=   2.6s\n",
            "[CV] max_depth=100, min_samples_leaf=4, min_samples_split=4 ..........\n",
            "[CV]  max_depth=100, min_samples_leaf=4, min_samples_split=4, score=0.902, total=   2.5s\n",
            "[CV] max_depth=100, min_samples_leaf=4, min_samples_split=5 ..........\n",
            "[CV]  max_depth=100, min_samples_leaf=4, min_samples_split=5, score=0.899, total=   2.5s\n",
            "[CV] max_depth=100, min_samples_leaf=4, min_samples_split=5 ..........\n",
            "[CV]  max_depth=100, min_samples_leaf=4, min_samples_split=5, score=0.903, total=   2.5s\n",
            "[CV] max_depth=100, min_samples_leaf=4, min_samples_split=5 ..........\n",
            "[CV]  max_depth=100, min_samples_leaf=4, min_samples_split=5, score=0.896, total=   2.6s\n",
            "[CV] max_depth=100, min_samples_leaf=4, min_samples_split=5 ..........\n",
            "[CV]  max_depth=100, min_samples_leaf=4, min_samples_split=5, score=0.899, total=   2.5s\n",
            "[CV] max_depth=100, min_samples_leaf=4, min_samples_split=5 ..........\n",
            "[CV]  max_depth=100, min_samples_leaf=4, min_samples_split=5, score=0.902, total=   2.6s\n",
            "[CV] max_depth=1000, min_samples_leaf=1, min_samples_split=2 .........\n",
            "[CV]  max_depth=1000, min_samples_leaf=1, min_samples_split=2, score=0.896, total=   2.8s\n",
            "[CV] max_depth=1000, min_samples_leaf=1, min_samples_split=2 .........\n",
            "[CV]  max_depth=1000, min_samples_leaf=1, min_samples_split=2, score=0.896, total=   2.9s\n",
            "[CV] max_depth=1000, min_samples_leaf=1, min_samples_split=2 .........\n",
            "[CV]  max_depth=1000, min_samples_leaf=1, min_samples_split=2, score=0.890, total=   2.9s\n",
            "[CV] max_depth=1000, min_samples_leaf=1, min_samples_split=2 .........\n",
            "[CV]  max_depth=1000, min_samples_leaf=1, min_samples_split=2, score=0.892, total=   2.8s\n",
            "[CV] max_depth=1000, min_samples_leaf=1, min_samples_split=2 .........\n",
            "[CV]  max_depth=1000, min_samples_leaf=1, min_samples_split=2, score=0.897, total=   2.9s\n",
            "[CV] max_depth=1000, min_samples_leaf=1, min_samples_split=3 .........\n",
            "[CV]  max_depth=1000, min_samples_leaf=1, min_samples_split=3, score=0.899, total=   2.8s\n",
            "[CV] max_depth=1000, min_samples_leaf=1, min_samples_split=3 .........\n",
            "[CV]  max_depth=1000, min_samples_leaf=1, min_samples_split=3, score=0.899, total=   2.8s\n",
            "[CV] max_depth=1000, min_samples_leaf=1, min_samples_split=3 .........\n",
            "[CV]  max_depth=1000, min_samples_leaf=1, min_samples_split=3, score=0.893, total=   2.8s\n",
            "[CV] max_depth=1000, min_samples_leaf=1, min_samples_split=3 .........\n",
            "[CV]  max_depth=1000, min_samples_leaf=1, min_samples_split=3, score=0.895, total=   2.8s\n",
            "[CV] max_depth=1000, min_samples_leaf=1, min_samples_split=3 .........\n",
            "[CV]  max_depth=1000, min_samples_leaf=1, min_samples_split=3, score=0.898, total=   2.8s\n",
            "[CV] max_depth=1000, min_samples_leaf=1, min_samples_split=4 .........\n",
            "[CV]  max_depth=1000, min_samples_leaf=1, min_samples_split=4, score=0.900, total=   2.8s\n",
            "[CV] max_depth=1000, min_samples_leaf=1, min_samples_split=4 .........\n",
            "[CV]  max_depth=1000, min_samples_leaf=1, min_samples_split=4, score=0.900, total=   2.8s\n",
            "[CV] max_depth=1000, min_samples_leaf=1, min_samples_split=4 .........\n",
            "[CV]  max_depth=1000, min_samples_leaf=1, min_samples_split=4, score=0.894, total=   2.8s\n",
            "[CV] max_depth=1000, min_samples_leaf=1, min_samples_split=4 .........\n",
            "[CV]  max_depth=1000, min_samples_leaf=1, min_samples_split=4, score=0.896, total=   2.8s\n",
            "[CV] max_depth=1000, min_samples_leaf=1, min_samples_split=4 .........\n",
            "[CV]  max_depth=1000, min_samples_leaf=1, min_samples_split=4, score=0.899, total=   2.8s\n",
            "[CV] max_depth=1000, min_samples_leaf=1, min_samples_split=5 .........\n",
            "[CV]  max_depth=1000, min_samples_leaf=1, min_samples_split=5, score=0.900, total=   2.8s\n",
            "[CV] max_depth=1000, min_samples_leaf=1, min_samples_split=5 .........\n",
            "[CV]  max_depth=1000, min_samples_leaf=1, min_samples_split=5, score=0.900, total=   2.8s\n",
            "[CV] max_depth=1000, min_samples_leaf=1, min_samples_split=5 .........\n",
            "[CV]  max_depth=1000, min_samples_leaf=1, min_samples_split=5, score=0.894, total=   2.7s\n",
            "[CV] max_depth=1000, min_samples_leaf=1, min_samples_split=5 .........\n",
            "[CV]  max_depth=1000, min_samples_leaf=1, min_samples_split=5, score=0.897, total=   2.7s\n",
            "[CV] max_depth=1000, min_samples_leaf=1, min_samples_split=5 .........\n",
            "[CV]  max_depth=1000, min_samples_leaf=1, min_samples_split=5, score=0.900, total=   2.8s\n",
            "[CV] max_depth=1000, min_samples_leaf=2, min_samples_split=2 .........\n",
            "[CV]  max_depth=1000, min_samples_leaf=2, min_samples_split=2, score=0.901, total=   2.7s\n",
            "[CV] max_depth=1000, min_samples_leaf=2, min_samples_split=2 .........\n",
            "[CV]  max_depth=1000, min_samples_leaf=2, min_samples_split=2, score=0.902, total=   2.7s\n",
            "[CV] max_depth=1000, min_samples_leaf=2, min_samples_split=2 .........\n",
            "[CV]  max_depth=1000, min_samples_leaf=2, min_samples_split=2, score=0.893, total=   2.7s\n",
            "[CV] max_depth=1000, min_samples_leaf=2, min_samples_split=2 .........\n",
            "[CV]  max_depth=1000, min_samples_leaf=2, min_samples_split=2, score=0.898, total=   2.7s\n",
            "[CV] max_depth=1000, min_samples_leaf=2, min_samples_split=2 .........\n",
            "[CV]  max_depth=1000, min_samples_leaf=2, min_samples_split=2, score=0.902, total=   2.7s\n",
            "[CV] max_depth=1000, min_samples_leaf=2, min_samples_split=3 .........\n",
            "[CV]  max_depth=1000, min_samples_leaf=2, min_samples_split=3, score=0.900, total=   2.7s\n",
            "[CV] max_depth=1000, min_samples_leaf=2, min_samples_split=3 .........\n",
            "[CV]  max_depth=1000, min_samples_leaf=2, min_samples_split=3, score=0.902, total=   2.7s\n",
            "[CV] max_depth=1000, min_samples_leaf=2, min_samples_split=3 .........\n",
            "[CV]  max_depth=1000, min_samples_leaf=2, min_samples_split=3, score=0.894, total=   2.7s\n",
            "[CV] max_depth=1000, min_samples_leaf=2, min_samples_split=3 .........\n",
            "[CV]  max_depth=1000, min_samples_leaf=2, min_samples_split=3, score=0.899, total=   2.6s\n",
            "[CV] max_depth=1000, min_samples_leaf=2, min_samples_split=3 .........\n",
            "[CV]  max_depth=1000, min_samples_leaf=2, min_samples_split=3, score=0.901, total=   2.7s\n",
            "[CV] max_depth=1000, min_samples_leaf=2, min_samples_split=4 .........\n",
            "[CV]  max_depth=1000, min_samples_leaf=2, min_samples_split=4, score=0.900, total=   2.8s\n",
            "[CV] max_depth=1000, min_samples_leaf=2, min_samples_split=4 .........\n",
            "[CV]  max_depth=1000, min_samples_leaf=2, min_samples_split=4, score=0.903, total=   2.7s\n",
            "[CV] max_depth=1000, min_samples_leaf=2, min_samples_split=4 .........\n",
            "[CV]  max_depth=1000, min_samples_leaf=2, min_samples_split=4, score=0.894, total=   2.7s\n",
            "[CV] max_depth=1000, min_samples_leaf=2, min_samples_split=4 .........\n",
            "[CV]  max_depth=1000, min_samples_leaf=2, min_samples_split=4, score=0.898, total=   2.7s\n",
            "[CV] max_depth=1000, min_samples_leaf=2, min_samples_split=4 .........\n",
            "[CV]  max_depth=1000, min_samples_leaf=2, min_samples_split=4, score=0.901, total=   2.8s\n",
            "[CV] max_depth=1000, min_samples_leaf=2, min_samples_split=5 .........\n",
            "[CV]  max_depth=1000, min_samples_leaf=2, min_samples_split=5, score=0.902, total=   2.6s\n",
            "[CV] max_depth=1000, min_samples_leaf=2, min_samples_split=5 .........\n",
            "[CV]  max_depth=1000, min_samples_leaf=2, min_samples_split=5, score=0.901, total=   2.7s\n",
            "[CV] max_depth=1000, min_samples_leaf=2, min_samples_split=5 .........\n",
            "[CV]  max_depth=1000, min_samples_leaf=2, min_samples_split=5, score=0.893, total=   2.6s\n",
            "[CV] max_depth=1000, min_samples_leaf=2, min_samples_split=5 .........\n",
            "[CV]  max_depth=1000, min_samples_leaf=2, min_samples_split=5, score=0.899, total=   2.7s\n",
            "[CV] max_depth=1000, min_samples_leaf=2, min_samples_split=5 .........\n",
            "[CV]  max_depth=1000, min_samples_leaf=2, min_samples_split=5, score=0.899, total=   2.7s\n",
            "[CV] max_depth=1000, min_samples_leaf=3, min_samples_split=2 .........\n",
            "[CV]  max_depth=1000, min_samples_leaf=3, min_samples_split=2, score=0.901, total=   2.6s\n",
            "[CV] max_depth=1000, min_samples_leaf=3, min_samples_split=2 .........\n",
            "[CV]  max_depth=1000, min_samples_leaf=3, min_samples_split=2, score=0.903, total=   2.6s\n",
            "[CV] max_depth=1000, min_samples_leaf=3, min_samples_split=2 .........\n",
            "[CV]  max_depth=1000, min_samples_leaf=3, min_samples_split=2, score=0.894, total=   2.6s\n",
            "[CV] max_depth=1000, min_samples_leaf=3, min_samples_split=2 .........\n",
            "[CV]  max_depth=1000, min_samples_leaf=3, min_samples_split=2, score=0.901, total=   2.6s\n",
            "[CV] max_depth=1000, min_samples_leaf=3, min_samples_split=2 .........\n",
            "[CV]  max_depth=1000, min_samples_leaf=3, min_samples_split=2, score=0.900, total=   2.6s\n",
            "[CV] max_depth=1000, min_samples_leaf=3, min_samples_split=3 .........\n",
            "[CV]  max_depth=1000, min_samples_leaf=3, min_samples_split=3, score=0.901, total=   2.5s\n",
            "[CV] max_depth=1000, min_samples_leaf=3, min_samples_split=3 .........\n",
            "[CV]  max_depth=1000, min_samples_leaf=3, min_samples_split=3, score=0.902, total=   2.6s\n",
            "[CV] max_depth=1000, min_samples_leaf=3, min_samples_split=3 .........\n",
            "[CV]  max_depth=1000, min_samples_leaf=3, min_samples_split=3, score=0.895, total=   2.6s\n",
            "[CV] max_depth=1000, min_samples_leaf=3, min_samples_split=3 .........\n",
            "[CV]  max_depth=1000, min_samples_leaf=3, min_samples_split=3, score=0.900, total=   2.6s\n",
            "[CV] max_depth=1000, min_samples_leaf=3, min_samples_split=3 .........\n",
            "[CV]  max_depth=1000, min_samples_leaf=3, min_samples_split=3, score=0.900, total=   2.6s\n",
            "[CV] max_depth=1000, min_samples_leaf=3, min_samples_split=4 .........\n",
            "[CV]  max_depth=1000, min_samples_leaf=3, min_samples_split=4, score=0.902, total=   2.5s\n",
            "[CV] max_depth=1000, min_samples_leaf=3, min_samples_split=4 .........\n",
            "[CV]  max_depth=1000, min_samples_leaf=3, min_samples_split=4, score=0.903, total=   2.7s\n",
            "[CV] max_depth=1000, min_samples_leaf=3, min_samples_split=4 .........\n",
            "[CV]  max_depth=1000, min_samples_leaf=3, min_samples_split=4, score=0.894, total=   2.6s\n",
            "[CV] max_depth=1000, min_samples_leaf=3, min_samples_split=4 .........\n",
            "[CV]  max_depth=1000, min_samples_leaf=3, min_samples_split=4, score=0.900, total=   2.6s\n",
            "[CV] max_depth=1000, min_samples_leaf=3, min_samples_split=4 .........\n",
            "[CV]  max_depth=1000, min_samples_leaf=3, min_samples_split=4, score=0.901, total=   2.7s\n",
            "[CV] max_depth=1000, min_samples_leaf=3, min_samples_split=5 .........\n",
            "[CV]  max_depth=1000, min_samples_leaf=3, min_samples_split=5, score=0.900, total=   2.6s\n",
            "[CV] max_depth=1000, min_samples_leaf=3, min_samples_split=5 .........\n",
            "[CV]  max_depth=1000, min_samples_leaf=3, min_samples_split=5, score=0.903, total=   2.6s\n",
            "[CV] max_depth=1000, min_samples_leaf=3, min_samples_split=5 .........\n",
            "[CV]  max_depth=1000, min_samples_leaf=3, min_samples_split=5, score=0.895, total=   2.6s\n",
            "[CV] max_depth=1000, min_samples_leaf=3, min_samples_split=5 .........\n",
            "[CV]  max_depth=1000, min_samples_leaf=3, min_samples_split=5, score=0.902, total=   2.6s\n",
            "[CV] max_depth=1000, min_samples_leaf=3, min_samples_split=5 .........\n",
            "[CV]  max_depth=1000, min_samples_leaf=3, min_samples_split=5, score=0.903, total=   2.6s\n",
            "[CV] max_depth=1000, min_samples_leaf=4, min_samples_split=2 .........\n",
            "[CV]  max_depth=1000, min_samples_leaf=4, min_samples_split=2, score=0.900, total=   2.5s\n",
            "[CV] max_depth=1000, min_samples_leaf=4, min_samples_split=2 .........\n",
            "[CV]  max_depth=1000, min_samples_leaf=4, min_samples_split=2, score=0.902, total=   2.5s\n",
            "[CV] max_depth=1000, min_samples_leaf=4, min_samples_split=2 .........\n",
            "[CV]  max_depth=1000, min_samples_leaf=4, min_samples_split=2, score=0.893, total=   2.5s\n",
            "[CV] max_depth=1000, min_samples_leaf=4, min_samples_split=2 .........\n",
            "[CV]  max_depth=1000, min_samples_leaf=4, min_samples_split=2, score=0.901, total=   2.5s\n",
            "[CV] max_depth=1000, min_samples_leaf=4, min_samples_split=2 .........\n",
            "[CV]  max_depth=1000, min_samples_leaf=4, min_samples_split=2, score=0.901, total=   2.6s\n",
            "[CV] max_depth=1000, min_samples_leaf=4, min_samples_split=3 .........\n",
            "[CV]  max_depth=1000, min_samples_leaf=4, min_samples_split=3, score=0.900, total=   2.5s\n",
            "[CV] max_depth=1000, min_samples_leaf=4, min_samples_split=3 .........\n",
            "[CV]  max_depth=1000, min_samples_leaf=4, min_samples_split=3, score=0.903, total=   2.6s\n",
            "[CV] max_depth=1000, min_samples_leaf=4, min_samples_split=3 .........\n",
            "[CV]  max_depth=1000, min_samples_leaf=4, min_samples_split=3, score=0.895, total=   2.5s\n",
            "[CV] max_depth=1000, min_samples_leaf=4, min_samples_split=3 .........\n",
            "[CV]  max_depth=1000, min_samples_leaf=4, min_samples_split=3, score=0.902, total=   2.5s\n",
            "[CV] max_depth=1000, min_samples_leaf=4, min_samples_split=3 .........\n",
            "[CV]  max_depth=1000, min_samples_leaf=4, min_samples_split=3, score=0.902, total=   2.6s\n",
            "[CV] max_depth=1000, min_samples_leaf=4, min_samples_split=4 .........\n",
            "[CV]  max_depth=1000, min_samples_leaf=4, min_samples_split=4, score=0.900, total=   2.5s\n",
            "[CV] max_depth=1000, min_samples_leaf=4, min_samples_split=4 .........\n",
            "[CV]  max_depth=1000, min_samples_leaf=4, min_samples_split=4, score=0.903, total=   2.6s\n",
            "[CV] max_depth=1000, min_samples_leaf=4, min_samples_split=4 .........\n",
            "[CV]  max_depth=1000, min_samples_leaf=4, min_samples_split=4, score=0.894, total=   2.5s\n",
            "[CV] max_depth=1000, min_samples_leaf=4, min_samples_split=4 .........\n",
            "[CV]  max_depth=1000, min_samples_leaf=4, min_samples_split=4, score=0.901, total=   2.6s\n",
            "[CV] max_depth=1000, min_samples_leaf=4, min_samples_split=4 .........\n",
            "[CV]  max_depth=1000, min_samples_leaf=4, min_samples_split=4, score=0.902, total=   2.5s\n",
            "[CV] max_depth=1000, min_samples_leaf=4, min_samples_split=5 .........\n",
            "[CV]  max_depth=1000, min_samples_leaf=4, min_samples_split=5, score=0.900, total=   2.6s\n",
            "[CV] max_depth=1000, min_samples_leaf=4, min_samples_split=5 .........\n",
            "[CV]  max_depth=1000, min_samples_leaf=4, min_samples_split=5, score=0.902, total=   2.5s\n",
            "[CV] max_depth=1000, min_samples_leaf=4, min_samples_split=5 .........\n",
            "[CV]  max_depth=1000, min_samples_leaf=4, min_samples_split=5, score=0.895, total=   2.5s\n",
            "[CV] max_depth=1000, min_samples_leaf=4, min_samples_split=5 .........\n",
            "[CV]  max_depth=1000, min_samples_leaf=4, min_samples_split=5, score=0.900, total=   2.6s\n",
            "[CV] max_depth=1000, min_samples_leaf=4, min_samples_split=5 .........\n",
            "[CV]  max_depth=1000, min_samples_leaf=4, min_samples_split=5, score=0.902, total=   2.5s\n"
          ],
          "name": "stdout"
        },
        {
          "output_type": "stream",
          "text": [
            "[Parallel(n_jobs=1)]: Done 320 out of 320 | elapsed: 10.3min finished\n"
          ],
          "name": "stderr"
        },
        {
          "output_type": "execute_result",
          "data": {
            "text/plain": [
              "GridSearchCV(cv=None, error_score=nan,\n",
              "             estimator=RandomForestClassifier(bootstrap=True, ccp_alpha=0.0,\n",
              "                                              class_weight=None,\n",
              "                                              criterion='gini', max_depth=None,\n",
              "                                              max_features='auto',\n",
              "                                              max_leaf_nodes=None,\n",
              "                                              max_samples=None,\n",
              "                                              min_impurity_decrease=0.0,\n",
              "                                              min_impurity_split=None,\n",
              "                                              min_samples_leaf=1,\n",
              "                                              min_samples_split=2,\n",
              "                                              min_weight_fraction_leaf=0.0,\n",
              "                                              n_estimators=100, n_jobs=None,\n",
              "                                              oob_score=False,\n",
              "                                              random_state=None, verbose=0,\n",
              "                                              warm_start=False),\n",
              "             iid='deprecated', n_jobs=None,\n",
              "             param_grid={'max_depth': [1, 10, 100, 1000],\n",
              "                         'min_samples_leaf': [1, 2, 3, 4],\n",
              "                         'min_samples_split': [2, 3, 4, 5]},\n",
              "             pre_dispatch='2*n_jobs', refit=True, return_train_score=False,\n",
              "             scoring=None, verbose=3)"
            ]
          },
          "metadata": {
            "tags": []
          },
          "execution_count": 15
        }
      ]
    },
    {
      "cell_type": "markdown",
      "metadata": {
        "id": "Iru333-BFR0h"
      },
      "source": [
        "**Printing the optimum values of Hyper Parameters**"
      ]
    },
    {
      "cell_type": "code",
      "metadata": {
        "id": "hAfA4xSlFbY6",
        "colab": {
          "base_uri": "https://localhost:8080/"
        },
        "outputId": "6f36dd4c-2f39-460f-bc82-bc94e6b4df84"
      },
      "source": [
        "# print best parameter after tuning\n",
        "print(grid.best_params_)\n",
        "  \n",
        "# print how our model looks after hyper-parameter tuning\n",
        "print(grid.best_estimator_)"
      ],
      "execution_count": 16,
      "outputs": [
        {
          "output_type": "stream",
          "text": [
            "{'max_depth': 10, 'min_samples_leaf': 1, 'min_samples_split': 2}\n",
            "RandomForestClassifier(bootstrap=True, ccp_alpha=0.0, class_weight=None,\n",
            "                       criterion='gini', max_depth=10, max_features='auto',\n",
            "                       max_leaf_nodes=None, max_samples=None,\n",
            "                       min_impurity_decrease=0.0, min_impurity_split=None,\n",
            "                       min_samples_leaf=1, min_samples_split=2,\n",
            "                       min_weight_fraction_leaf=0.0, n_estimators=100,\n",
            "                       n_jobs=None, oob_score=False, random_state=None,\n",
            "                       verbose=0, warm_start=False)\n"
          ],
          "name": "stdout"
        }
      ]
    },
    {
      "cell_type": "markdown",
      "metadata": {
        "id": "l1G001TEFf5_"
      },
      "source": [
        "**Grid Search model Prediction**"
      ]
    },
    {
      "cell_type": "code",
      "metadata": {
        "id": "wrGNhv3bFlVN",
        "colab": {
          "base_uri": "https://localhost:8080/"
        },
        "outputId": "e0f3b4ce-89dd-4f0d-da26-f4bb17720e94"
      },
      "source": [
        "from sklearn.metrics import classification_report\n",
        "grid_predictions = grid.predict(X_test)\n",
        "  \n",
        "# print classification report\n",
        "print(classification_report(y_test, grid_predictions))"
      ],
      "execution_count": 17,
      "outputs": [
        {
          "output_type": "stream",
          "text": [
            "              precision    recall  f1-score   support\n",
            "\n",
            "           0       0.91      0.98      0.94      7288\n",
            "           1       0.63      0.24      0.35       950\n",
            "\n",
            "    accuracy                           0.90      8238\n",
            "   macro avg       0.77      0.61      0.65      8238\n",
            "weighted avg       0.88      0.90      0.88      8238\n",
            "\n"
          ],
          "name": "stdout"
        }
      ]
    },
    {
      "cell_type": "markdown",
      "metadata": {
        "id": "nDxamQ3_Fo4W"
      },
      "source": [
        "**Accuracy Scores for the test data**"
      ]
    },
    {
      "cell_type": "code",
      "metadata": {
        "id": "gM8OS5afFtas",
        "colab": {
          "base_uri": "https://localhost:8080/"
        },
        "outputId": "62f0c57f-ab9f-48bd-9952-76322aa7eaba"
      },
      "source": [
        "from sklearn.metrics import accuracy_score  \n",
        "accuracy_score(y_test, grid_predictions)"
      ],
      "execution_count": 20,
      "outputs": [
        {
          "output_type": "execute_result",
          "data": {
            "text/plain": [
              "0.8962126729788784"
            ]
          },
          "metadata": {
            "tags": []
          },
          "execution_count": 20
        }
      ]
    },
    {
      "cell_type": "markdown",
      "metadata": {
        "id": "qh1qPUqNFxxA"
      },
      "source": [
        "**Plotting of the festures importance**"
      ]
    },
    {
      "cell_type": "code",
      "metadata": {
        "id": "ah7sbDIGF1S8",
        "colab": {
          "base_uri": "https://localhost:8080/",
          "height": 911
        },
        "outputId": "ec1a5834-15bb-47d0-cade-331d235e7c17"
      },
      "source": [
        "import numpy as np\n",
        "import matplotlib.pyplot as plt\n",
        "\n",
        "plt.figure(figsize = (15,15))\n",
        "\n",
        "# get importances from RF\n",
        "importances = clf.feature_importances_\n",
        "\n",
        "# then sort them descending\n",
        "indices = np.argsort(importances)\n",
        "\n",
        "# get the features from the original data set\n",
        "features = dataset.columns[0:50]\n",
        "\n",
        "# plot them with a horizontal bar chart\n",
        "plt.figure(1)\n",
        "plt.title('Feature Importances')\n",
        "plt.barh(range(len(indices)), importances[indices], color='b', align='center')\n",
        "plt.yticks(range(len(indices)), features[indices])\n",
        "plt.xlabel('Relative Importance')"
      ],
      "execution_count": 24,
      "outputs": [
        {
          "output_type": "execute_result",
          "data": {
            "text/plain": [
              "Text(0.5, 0, 'Relative Importance')"
            ]
          },
          "metadata": {
            "tags": []
          },
          "execution_count": 24
        },
        {
          "output_type": "display_data",
          "data": {
            "image/png": "[encoded data removed]",
            "text/plain": [
              "<Figure size 1080x1080 with 1 Axes>"
            ]
          },
          "metadata": {
            "tags": [],
            "needs_background": "light"
          }
        }
      ]
    },
    {
      "cell_type": "markdown",
      "metadata": {
        "id": "Hj5PQRfmF8Ko"
      },
      "source": [
        "**Generalization error**"
      ]
    },
    {
      "cell_type": "code",
      "metadata": {
        "id": "qQzo2kiuGAX-",
        "colab": {
          "base_uri": "https://localhost:8080/"
        },
        "outputId": "b3e05bcf-9508-4a70-d87f-6f5822792f72"
      },
      "source": [
        "clf.fit(X_train, y_train).score(X_train, y_train)"
      ],
      "execution_count": 25,
      "outputs": [
        {
          "output_type": "execute_result",
          "data": {
            "text/plain": [
              "0.9006373292867982"
            ]
          },
          "metadata": {
            "tags": []
          },
          "execution_count": 25
        }
      ]
    },
    {
      "cell_type": "code",
      "metadata": {
        "id": "jNLXi6xeGIZD",
        "colab": {
          "base_uri": "https://localhost:8080/"
        },
        "outputId": "ed245838-636e-48c2-8998-174a7bbc7c51"
      },
      "source": [
        "from sklearn.metrics import max_error\n",
        "y_pred = clf.predict(X_test)\n",
        "print(\"Error:\" , max_error(y_test,y_pred))"
      ],
      "execution_count": 26,
      "outputs": [
        {
          "output_type": "stream",
          "text": [
            "Error: 1\n"
          ],
          "name": "stdout"
        }
      ]
    }
  ]
}