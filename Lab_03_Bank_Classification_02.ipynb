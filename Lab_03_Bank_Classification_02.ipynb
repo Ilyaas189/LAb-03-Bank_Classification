{
  "nbformat": 4,
  "nbformat_minor": 0,
  "metadata": {
    "colab": {
      "name": "Lab_03_Bank_Classification_02.ipynb",
      "provenance": [],
      "collapsed_sections": [],
      "authorship_tag": "ABX9TyOEwUC5mQHk3Tsg+ZYmSs5U",
      "include_colab_link": true
    },
    "kernelspec": {
      "name": "python3",
      "display_name": "Python 3"
    },
    "language_info": {
      "name": "python"
    },
    "accelerator": "GPU"
  },
  "cells": [
    {
      "cell_type": "markdown",
      "metadata": {
        "id": "view-in-github",
        "colab_type": "text"
      },
      "source": [
        "<a href=\"https://colab.research.google.com/github/Ilyaas189/LAb-03-Bank_Classification/blob/main/Lab_03_Bank_Classification_02.ipynb\" target=\"_parent\"><img src=\"https://colab.research.google.com/assets/colab-badge.svg\" alt=\"Open In Colab\"/></a>"
      ]
    },
    {
      "cell_type": "markdown",
      "metadata": {
        "id": "rTY5S66PCjWd"
      },
      "source": [
        "**Bank Classification**"
      ]
    },
    {
      "cell_type": "markdown",
      "metadata": {
        "id": "oa9FH4JkCsoW"
      },
      "source": [
        "**Loading the dataset**"
      ]
    },
    {
      "cell_type": "code",
      "metadata": {
        "id": "18_6KNqcCw3P"
      },
      "source": [
        "import pandas as pd\n",
        "\n",
        "dataset = pd.read_csv(\"bank-additional-full.csv\",sep = ';')"
      ],
      "execution_count": 2,
      "outputs": []
    },
    {
      "cell_type": "code",
      "metadata": {
        "colab": {
          "base_uri": "https://localhost:8080/",
          "height": 288
        },
        "id": "v0C83QX7tlbj",
        "outputId": "d578841b-8daa-4847-e50c-1e9d2f81d905"
      },
      "source": [
        "dataset.describe()"
      ],
      "execution_count": null,
      "outputs": [
        {
          "output_type": "execute_result",
          "data": {
            "text/html": [
              "<div>\n",
              "<style scoped>\n",
              "    .dataframe tbody tr th:only-of-type {\n",
              "        vertical-align: middle;\n",
              "    }\n",
              "\n",
              "    .dataframe tbody tr th {\n",
              "        vertical-align: top;\n",
              "    }\n",
              "\n",
              "    .dataframe thead th {\n",
              "        text-align: right;\n",
              "    }\n",
              "</style>\n",
              "<table border=\"1\" class=\"dataframe\">\n",
              "  <thead>\n",
              "    <tr style=\"text-align: right;\">\n",
              "      <th></th>\n",
              "      <th>age</th>\n",
              "      <th>duration</th>\n",
              "      <th>campaign</th>\n",
              "      <th>pdays</th>\n",
              "      <th>previous</th>\n",
              "      <th>emp.var.rate</th>\n",
              "      <th>cons.price.idx</th>\n",
              "      <th>cons.conf.idx</th>\n",
              "      <th>euribor3m</th>\n",
              "      <th>nr.employed</th>\n",
              "    </tr>\n",
              "  </thead>\n",
              "  <tbody>\n",
              "    <tr>\n",
              "      <th>count</th>\n",
              "      <td>41188.00000</td>\n",
              "      <td>41188.000000</td>\n",
              "      <td>41188.000000</td>\n",
              "      <td>41188.000000</td>\n",
              "      <td>41188.000000</td>\n",
              "      <td>41188.000000</td>\n",
              "      <td>41188.000000</td>\n",
              "      <td>41188.000000</td>\n",
              "      <td>41188.000000</td>\n",
              "      <td>41188.000000</td>\n",
              "    </tr>\n",
              "    <tr>\n",
              "      <th>mean</th>\n",
              "      <td>40.02406</td>\n",
              "      <td>258.285010</td>\n",
              "      <td>2.567593</td>\n",
              "      <td>962.475454</td>\n",
              "      <td>0.172963</td>\n",
              "      <td>0.081886</td>\n",
              "      <td>93.575664</td>\n",
              "      <td>-40.502600</td>\n",
              "      <td>3.621291</td>\n",
              "      <td>5167.035911</td>\n",
              "    </tr>\n",
              "    <tr>\n",
              "      <th>std</th>\n",
              "      <td>10.42125</td>\n",
              "      <td>259.279249</td>\n",
              "      <td>2.770014</td>\n",
              "      <td>186.910907</td>\n",
              "      <td>0.494901</td>\n",
              "      <td>1.570960</td>\n",
              "      <td>0.578840</td>\n",
              "      <td>4.628198</td>\n",
              "      <td>1.734447</td>\n",
              "      <td>72.251528</td>\n",
              "    </tr>\n",
              "    <tr>\n",
              "      <th>min</th>\n",
              "      <td>17.00000</td>\n",
              "      <td>0.000000</td>\n",
              "      <td>1.000000</td>\n",
              "      <td>0.000000</td>\n",
              "      <td>0.000000</td>\n",
              "      <td>-3.400000</td>\n",
              "      <td>92.201000</td>\n",
              "      <td>-50.800000</td>\n",
              "      <td>0.634000</td>\n",
              "      <td>4963.600000</td>\n",
              "    </tr>\n",
              "    <tr>\n",
              "      <th>25%</th>\n",
              "      <td>32.00000</td>\n",
              "      <td>102.000000</td>\n",
              "      <td>1.000000</td>\n",
              "      <td>999.000000</td>\n",
              "      <td>0.000000</td>\n",
              "      <td>-1.800000</td>\n",
              "      <td>93.075000</td>\n",
              "      <td>-42.700000</td>\n",
              "      <td>1.344000</td>\n",
              "      <td>5099.100000</td>\n",
              "    </tr>\n",
              "    <tr>\n",
              "      <th>50%</th>\n",
              "      <td>38.00000</td>\n",
              "      <td>180.000000</td>\n",
              "      <td>2.000000</td>\n",
              "      <td>999.000000</td>\n",
              "      <td>0.000000</td>\n",
              "      <td>1.100000</td>\n",
              "      <td>93.749000</td>\n",
              "      <td>-41.800000</td>\n",
              "      <td>4.857000</td>\n",
              "      <td>5191.000000</td>\n",
              "    </tr>\n",
              "    <tr>\n",
              "      <th>75%</th>\n",
              "      <td>47.00000</td>\n",
              "      <td>319.000000</td>\n",
              "      <td>3.000000</td>\n",
              "      <td>999.000000</td>\n",
              "      <td>0.000000</td>\n",
              "      <td>1.400000</td>\n",
              "      <td>93.994000</td>\n",
              "      <td>-36.400000</td>\n",
              "      <td>4.961000</td>\n",
              "      <td>5228.100000</td>\n",
              "    </tr>\n",
              "    <tr>\n",
              "      <th>max</th>\n",
              "      <td>98.00000</td>\n",
              "      <td>4918.000000</td>\n",
              "      <td>56.000000</td>\n",
              "      <td>999.000000</td>\n",
              "      <td>7.000000</td>\n",
              "      <td>1.400000</td>\n",
              "      <td>94.767000</td>\n",
              "      <td>-26.900000</td>\n",
              "      <td>5.045000</td>\n",
              "      <td>5228.100000</td>\n",
              "    </tr>\n",
              "  </tbody>\n",
              "</table>\n",
              "</div>"
            ],
            "text/plain": [
              "               age      duration  ...     euribor3m   nr.employed\n",
              "count  41188.00000  41188.000000  ...  41188.000000  41188.000000\n",
              "mean      40.02406    258.285010  ...      3.621291   5167.035911\n",
              "std       10.42125    259.279249  ...      1.734447     72.251528\n",
              "min       17.00000      0.000000  ...      0.634000   4963.600000\n",
              "25%       32.00000    102.000000  ...      1.344000   5099.100000\n",
              "50%       38.00000    180.000000  ...      4.857000   5191.000000\n",
              "75%       47.00000    319.000000  ...      4.961000   5228.100000\n",
              "max       98.00000   4918.000000  ...      5.045000   5228.100000\n",
              "\n",
              "[8 rows x 10 columns]"
            ]
          },
          "metadata": {
            "tags": []
          },
          "execution_count": 82
        }
      ]
    },
    {
      "cell_type": "code",
      "metadata": {
        "id": "vUK6iM73-R_4"
      },
      "source": [
        "dataset2 = dataset.dropna()"
      ],
      "execution_count": 4,
      "outputs": []
    },
    {
      "cell_type": "code",
      "metadata": {
        "colab": {
          "base_uri": "https://localhost:8080/",
          "height": 288
        },
        "id": "4FF5oN_x_OSG",
        "outputId": "68661689-7e77-4d8d-ea9f-fb96ac09404c"
      },
      "source": [
        "dataset2.describe()"
      ],
      "execution_count": 5,
      "outputs": [
        {
          "output_type": "execute_result",
          "data": {
            "text/html": [
              "<div>\n",
              "<style scoped>\n",
              "    .dataframe tbody tr th:only-of-type {\n",
              "        vertical-align: middle;\n",
              "    }\n",
              "\n",
              "    .dataframe tbody tr th {\n",
              "        vertical-align: top;\n",
              "    }\n",
              "\n",
              "    .dataframe thead th {\n",
              "        text-align: right;\n",
              "    }\n",
              "</style>\n",
              "<table border=\"1\" class=\"dataframe\">\n",
              "  <thead>\n",
              "    <tr style=\"text-align: right;\">\n",
              "      <th></th>\n",
              "      <th>age</th>\n",
              "      <th>duration</th>\n",
              "      <th>campaign</th>\n",
              "      <th>pdays</th>\n",
              "      <th>previous</th>\n",
              "      <th>emp.var.rate</th>\n",
              "      <th>cons.price.idx</th>\n",
              "      <th>cons.conf.idx</th>\n",
              "      <th>euribor3m</th>\n",
              "      <th>nr.employed</th>\n",
              "    </tr>\n",
              "  </thead>\n",
              "  <tbody>\n",
              "    <tr>\n",
              "      <th>count</th>\n",
              "      <td>41188.00000</td>\n",
              "      <td>41188.000000</td>\n",
              "      <td>41188.000000</td>\n",
              "      <td>41188.000000</td>\n",
              "      <td>41188.000000</td>\n",
              "      <td>41188.000000</td>\n",
              "      <td>41188.000000</td>\n",
              "      <td>41188.000000</td>\n",
              "      <td>41188.000000</td>\n",
              "      <td>41188.000000</td>\n",
              "    </tr>\n",
              "    <tr>\n",
              "      <th>mean</th>\n",
              "      <td>40.02406</td>\n",
              "      <td>258.285010</td>\n",
              "      <td>2.567593</td>\n",
              "      <td>962.475454</td>\n",
              "      <td>0.172963</td>\n",
              "      <td>0.081886</td>\n",
              "      <td>93.575664</td>\n",
              "      <td>-40.502600</td>\n",
              "      <td>3.621291</td>\n",
              "      <td>5167.035911</td>\n",
              "    </tr>\n",
              "    <tr>\n",
              "      <th>std</th>\n",
              "      <td>10.42125</td>\n",
              "      <td>259.279249</td>\n",
              "      <td>2.770014</td>\n",
              "      <td>186.910907</td>\n",
              "      <td>0.494901</td>\n",
              "      <td>1.570960</td>\n",
              "      <td>0.578840</td>\n",
              "      <td>4.628198</td>\n",
              "      <td>1.734447</td>\n",
              "      <td>72.251528</td>\n",
              "    </tr>\n",
              "    <tr>\n",
              "      <th>min</th>\n",
              "      <td>17.00000</td>\n",
              "      <td>0.000000</td>\n",
              "      <td>1.000000</td>\n",
              "      <td>0.000000</td>\n",
              "      <td>0.000000</td>\n",
              "      <td>-3.400000</td>\n",
              "      <td>92.201000</td>\n",
              "      <td>-50.800000</td>\n",
              "      <td>0.634000</td>\n",
              "      <td>4963.600000</td>\n",
              "    </tr>\n",
              "    <tr>\n",
              "      <th>25%</th>\n",
              "      <td>32.00000</td>\n",
              "      <td>102.000000</td>\n",
              "      <td>1.000000</td>\n",
              "      <td>999.000000</td>\n",
              "      <td>0.000000</td>\n",
              "      <td>-1.800000</td>\n",
              "      <td>93.075000</td>\n",
              "      <td>-42.700000</td>\n",
              "      <td>1.344000</td>\n",
              "      <td>5099.100000</td>\n",
              "    </tr>\n",
              "    <tr>\n",
              "      <th>50%</th>\n",
              "      <td>38.00000</td>\n",
              "      <td>180.000000</td>\n",
              "      <td>2.000000</td>\n",
              "      <td>999.000000</td>\n",
              "      <td>0.000000</td>\n",
              "      <td>1.100000</td>\n",
              "      <td>93.749000</td>\n",
              "      <td>-41.800000</td>\n",
              "      <td>4.857000</td>\n",
              "      <td>5191.000000</td>\n",
              "    </tr>\n",
              "    <tr>\n",
              "      <th>75%</th>\n",
              "      <td>47.00000</td>\n",
              "      <td>319.000000</td>\n",
              "      <td>3.000000</td>\n",
              "      <td>999.000000</td>\n",
              "      <td>0.000000</td>\n",
              "      <td>1.400000</td>\n",
              "      <td>93.994000</td>\n",
              "      <td>-36.400000</td>\n",
              "      <td>4.961000</td>\n",
              "      <td>5228.100000</td>\n",
              "    </tr>\n",
              "    <tr>\n",
              "      <th>max</th>\n",
              "      <td>98.00000</td>\n",
              "      <td>4918.000000</td>\n",
              "      <td>56.000000</td>\n",
              "      <td>999.000000</td>\n",
              "      <td>7.000000</td>\n",
              "      <td>1.400000</td>\n",
              "      <td>94.767000</td>\n",
              "      <td>-26.900000</td>\n",
              "      <td>5.045000</td>\n",
              "      <td>5228.100000</td>\n",
              "    </tr>\n",
              "  </tbody>\n",
              "</table>\n",
              "</div>"
            ],
            "text/plain": [
              "               age      duration  ...     euribor3m   nr.employed\n",
              "count  41188.00000  41188.000000  ...  41188.000000  41188.000000\n",
              "mean      40.02406    258.285010  ...      3.621291   5167.035911\n",
              "std       10.42125    259.279249  ...      1.734447     72.251528\n",
              "min       17.00000      0.000000  ...      0.634000   4963.600000\n",
              "25%       32.00000    102.000000  ...      1.344000   5099.100000\n",
              "50%       38.00000    180.000000  ...      4.857000   5191.000000\n",
              "75%       47.00000    319.000000  ...      4.961000   5228.100000\n",
              "max       98.00000   4918.000000  ...      5.045000   5228.100000\n",
              "\n",
              "[8 rows x 10 columns]"
            ]
          },
          "metadata": {
            "tags": []
          },
          "execution_count": 5
        }
      ]
    },
    {
      "cell_type": "markdown",
      "metadata": {
        "id": "KVKekKddDIPp"
      },
      "source": [
        "**Encoding the Labels**"
      ]
    },
    {
      "cell_type": "code",
      "metadata": {
        "id": "kwtfQMlYDPi5"
      },
      "source": [
        "from sklearn.preprocessing import LabelEncoder\n",
        "dataset = dataset.apply(LabelEncoder().fit_transform)"
      ],
      "execution_count": 6,
      "outputs": []
    },
    {
      "cell_type": "markdown",
      "metadata": {
        "id": "Kl7GLdtoDWPP"
      },
      "source": [
        "**To convert the dataset into dummy dataset**"
      ]
    },
    {
      "cell_type": "code",
      "metadata": {
        "id": "TLnNiUaXDYvW"
      },
      "source": [
        "df_dummies = pd.get_dummies(dataset)"
      ],
      "execution_count": 7,
      "outputs": []
    },
    {
      "cell_type": "code",
      "metadata": {
        "colab": {
          "base_uri": "https://localhost:8080/",
          "height": 308
        },
        "id": "Hz_Xb7KEvJz7",
        "outputId": "d95199cb-2f15-4176-8123-6dec2cb0766d"
      },
      "source": [
        "df_dummies.describe()"
      ],
      "execution_count": 8,
      "outputs": [
        {
          "output_type": "execute_result",
          "data": {
            "text/html": [
              "<div>\n",
              "<style scoped>\n",
              "    .dataframe tbody tr th:only-of-type {\n",
              "        vertical-align: middle;\n",
              "    }\n",
              "\n",
              "    .dataframe tbody tr th {\n",
              "        vertical-align: top;\n",
              "    }\n",
              "\n",
              "    .dataframe thead th {\n",
              "        text-align: right;\n",
              "    }\n",
              "</style>\n",
              "<table border=\"1\" class=\"dataframe\">\n",
              "  <thead>\n",
              "    <tr style=\"text-align: right;\">\n",
              "      <th></th>\n",
              "      <th>age</th>\n",
              "      <th>job</th>\n",
              "      <th>marital</th>\n",
              "      <th>education</th>\n",
              "      <th>default</th>\n",
              "      <th>housing</th>\n",
              "      <th>loan</th>\n",
              "      <th>contact</th>\n",
              "      <th>month</th>\n",
              "      <th>day_of_week</th>\n",
              "      <th>duration</th>\n",
              "      <th>campaign</th>\n",
              "      <th>pdays</th>\n",
              "      <th>previous</th>\n",
              "      <th>poutcome</th>\n",
              "      <th>emp.var.rate</th>\n",
              "      <th>cons.price.idx</th>\n",
              "      <th>cons.conf.idx</th>\n",
              "      <th>euribor3m</th>\n",
              "      <th>nr.employed</th>\n",
              "      <th>y</th>\n",
              "    </tr>\n",
              "  </thead>\n",
              "  <tbody>\n",
              "    <tr>\n",
              "      <th>count</th>\n",
              "      <td>41188.000000</td>\n",
              "      <td>41188.00000</td>\n",
              "      <td>41188.000000</td>\n",
              "      <td>41188.000000</td>\n",
              "      <td>41188.000000</td>\n",
              "      <td>41188.000000</td>\n",
              "      <td>41188.000000</td>\n",
              "      <td>41188.000000</td>\n",
              "      <td>41188.000000</td>\n",
              "      <td>41188.000000</td>\n",
              "      <td>41188.000000</td>\n",
              "      <td>41188.000000</td>\n",
              "      <td>41188.000000</td>\n",
              "      <td>41188.000000</td>\n",
              "      <td>41188.000000</td>\n",
              "      <td>41188.000000</td>\n",
              "      <td>41188.000000</td>\n",
              "      <td>41188.000000</td>\n",
              "      <td>41188.000000</td>\n",
              "      <td>41188.000000</td>\n",
              "      <td>41188.000000</td>\n",
              "    </tr>\n",
              "    <tr>\n",
              "      <th>mean</th>\n",
              "      <td>23.023623</td>\n",
              "      <td>3.72458</td>\n",
              "      <td>1.172769</td>\n",
              "      <td>3.747184</td>\n",
              "      <td>0.208872</td>\n",
              "      <td>1.071720</td>\n",
              "      <td>0.327425</td>\n",
              "      <td>0.365252</td>\n",
              "      <td>4.230868</td>\n",
              "      <td>2.004613</td>\n",
              "      <td>255.084976</td>\n",
              "      <td>1.566840</td>\n",
              "      <td>25.264737</td>\n",
              "      <td>0.172963</td>\n",
              "      <td>0.930101</td>\n",
              "      <td>6.588521</td>\n",
              "      <td>14.196489</td>\n",
              "      <td>10.335656</td>\n",
              "      <td>255.634821</td>\n",
              "      <td>7.845829</td>\n",
              "      <td>0.112654</td>\n",
              "    </tr>\n",
              "    <tr>\n",
              "      <th>std</th>\n",
              "      <td>10.418993</td>\n",
              "      <td>3.59456</td>\n",
              "      <td>0.608902</td>\n",
              "      <td>2.136482</td>\n",
              "      <td>0.406686</td>\n",
              "      <td>0.985314</td>\n",
              "      <td>0.723616</td>\n",
              "      <td>0.481507</td>\n",
              "      <td>2.320025</td>\n",
              "      <td>1.397575</td>\n",
              "      <td>238.907418</td>\n",
              "      <td>2.758711</td>\n",
              "      <td>3.832685</td>\n",
              "      <td>0.494901</td>\n",
              "      <td>0.362886</td>\n",
              "      <td>2.797902</td>\n",
              "      <td>5.560136</td>\n",
              "      <td>5.978930</td>\n",
              "      <td>68.665954</td>\n",
              "      <td>2.454812</td>\n",
              "      <td>0.316173</td>\n",
              "    </tr>\n",
              "    <tr>\n",
              "      <th>min</th>\n",
              "      <td>0.000000</td>\n",
              "      <td>0.00000</td>\n",
              "      <td>0.000000</td>\n",
              "      <td>0.000000</td>\n",
              "      <td>0.000000</td>\n",
              "      <td>0.000000</td>\n",
              "      <td>0.000000</td>\n",
              "      <td>0.000000</td>\n",
              "      <td>0.000000</td>\n",
              "      <td>0.000000</td>\n",
              "      <td>0.000000</td>\n",
              "      <td>0.000000</td>\n",
              "      <td>0.000000</td>\n",
              "      <td>0.000000</td>\n",
              "      <td>0.000000</td>\n",
              "      <td>0.000000</td>\n",
              "      <td>0.000000</td>\n",
              "      <td>0.000000</td>\n",
              "      <td>0.000000</td>\n",
              "      <td>0.000000</td>\n",
              "      <td>0.000000</td>\n",
              "    </tr>\n",
              "    <tr>\n",
              "      <th>25%</th>\n",
              "      <td>15.000000</td>\n",
              "      <td>0.00000</td>\n",
              "      <td>1.000000</td>\n",
              "      <td>2.000000</td>\n",
              "      <td>0.000000</td>\n",
              "      <td>0.000000</td>\n",
              "      <td>0.000000</td>\n",
              "      <td>0.000000</td>\n",
              "      <td>3.000000</td>\n",
              "      <td>1.000000</td>\n",
              "      <td>102.000000</td>\n",
              "      <td>0.000000</td>\n",
              "      <td>26.000000</td>\n",
              "      <td>0.000000</td>\n",
              "      <td>1.000000</td>\n",
              "      <td>3.000000</td>\n",
              "      <td>10.000000</td>\n",
              "      <td>6.000000</td>\n",
              "      <td>214.000000</td>\n",
              "      <td>6.000000</td>\n",
              "      <td>0.000000</td>\n",
              "    </tr>\n",
              "    <tr>\n",
              "      <th>50%</th>\n",
              "      <td>21.000000</td>\n",
              "      <td>2.00000</td>\n",
              "      <td>1.000000</td>\n",
              "      <td>3.000000</td>\n",
              "      <td>0.000000</td>\n",
              "      <td>2.000000</td>\n",
              "      <td>0.000000</td>\n",
              "      <td>0.000000</td>\n",
              "      <td>4.000000</td>\n",
              "      <td>2.000000</td>\n",
              "      <td>180.000000</td>\n",
              "      <td>1.000000</td>\n",
              "      <td>26.000000</td>\n",
              "      <td>0.000000</td>\n",
              "      <td>1.000000</td>\n",
              "      <td>8.000000</td>\n",
              "      <td>14.000000</td>\n",
              "      <td>8.000000</td>\n",
              "      <td>287.000000</td>\n",
              "      <td>8.000000</td>\n",
              "      <td>0.000000</td>\n",
              "    </tr>\n",
              "    <tr>\n",
              "      <th>75%</th>\n",
              "      <td>30.000000</td>\n",
              "      <td>7.00000</td>\n",
              "      <td>2.000000</td>\n",
              "      <td>6.000000</td>\n",
              "      <td>0.000000</td>\n",
              "      <td>2.000000</td>\n",
              "      <td>0.000000</td>\n",
              "      <td>1.000000</td>\n",
              "      <td>6.000000</td>\n",
              "      <td>3.000000</td>\n",
              "      <td>319.000000</td>\n",
              "      <td>2.000000</td>\n",
              "      <td>26.000000</td>\n",
              "      <td>0.000000</td>\n",
              "      <td>1.000000</td>\n",
              "      <td>9.000000</td>\n",
              "      <td>18.000000</td>\n",
              "      <td>16.000000</td>\n",
              "      <td>305.000000</td>\n",
              "      <td>10.000000</td>\n",
              "      <td>0.000000</td>\n",
              "    </tr>\n",
              "    <tr>\n",
              "      <th>max</th>\n",
              "      <td>77.000000</td>\n",
              "      <td>11.00000</td>\n",
              "      <td>3.000000</td>\n",
              "      <td>7.000000</td>\n",
              "      <td>2.000000</td>\n",
              "      <td>2.000000</td>\n",
              "      <td>2.000000</td>\n",
              "      <td>1.000000</td>\n",
              "      <td>9.000000</td>\n",
              "      <td>4.000000</td>\n",
              "      <td>1543.000000</td>\n",
              "      <td>41.000000</td>\n",
              "      <td>26.000000</td>\n",
              "      <td>7.000000</td>\n",
              "      <td>2.000000</td>\n",
              "      <td>9.000000</td>\n",
              "      <td>25.000000</td>\n",
              "      <td>25.000000</td>\n",
              "      <td>315.000000</td>\n",
              "      <td>10.000000</td>\n",
              "      <td>1.000000</td>\n",
              "    </tr>\n",
              "  </tbody>\n",
              "</table>\n",
              "</div>"
            ],
            "text/plain": [
              "                age          job  ...   nr.employed             y\n",
              "count  41188.000000  41188.00000  ...  41188.000000  41188.000000\n",
              "mean      23.023623      3.72458  ...      7.845829      0.112654\n",
              "std       10.418993      3.59456  ...      2.454812      0.316173\n",
              "min        0.000000      0.00000  ...      0.000000      0.000000\n",
              "25%       15.000000      0.00000  ...      6.000000      0.000000\n",
              "50%       21.000000      2.00000  ...      8.000000      0.000000\n",
              "75%       30.000000      7.00000  ...     10.000000      0.000000\n",
              "max       77.000000     11.00000  ...     10.000000      1.000000\n",
              "\n",
              "[8 rows x 21 columns]"
            ]
          },
          "metadata": {
            "tags": []
          },
          "execution_count": 8
        }
      ]
    },
    {
      "cell_type": "markdown",
      "metadata": {
        "id": "M4VH-g4hDb2F"
      },
      "source": [
        "**To drop the column of 'duration'**"
      ]
    },
    {
      "cell_type": "code",
      "metadata": {
        "id": "0sK2oQaLDfVF"
      },
      "source": [
        "df_dummies = df_dummies.drop('duration',axis = 1)"
      ],
      "execution_count": 9,
      "outputs": []
    },
    {
      "cell_type": "markdown",
      "metadata": {
        "id": "aXotYCdrDjHn"
      },
      "source": [
        "**To drop the rows with empty values**"
      ]
    },
    {
      "cell_type": "code",
      "metadata": {
        "id": "9sAiP074DoLp"
      },
      "source": [
        "df_dummies = df_dummies.dropna()"
      ],
      "execution_count": 10,
      "outputs": []
    },
    {
      "cell_type": "code",
      "metadata": {
        "colab": {
          "base_uri": "https://localhost:8080/",
          "height": 308
        },
        "id": "V4ekEcVl-3yN",
        "outputId": "0025e884-e6cf-4601-ed42-6b958ea14548"
      },
      "source": [
        "df_dummies.describe()"
      ],
      "execution_count": 11,
      "outputs": [
        {
          "output_type": "execute_result",
          "data": {
            "text/html": [
              "<div>\n",
              "<style scoped>\n",
              "    .dataframe tbody tr th:only-of-type {\n",
              "        vertical-align: middle;\n",
              "    }\n",
              "\n",
              "    .dataframe tbody tr th {\n",
              "        vertical-align: top;\n",
              "    }\n",
              "\n",
              "    .dataframe thead th {\n",
              "        text-align: right;\n",
              "    }\n",
              "</style>\n",
              "<table border=\"1\" class=\"dataframe\">\n",
              "  <thead>\n",
              "    <tr style=\"text-align: right;\">\n",
              "      <th></th>\n",
              "      <th>age</th>\n",
              "      <th>job</th>\n",
              "      <th>marital</th>\n",
              "      <th>education</th>\n",
              "      <th>default</th>\n",
              "      <th>housing</th>\n",
              "      <th>loan</th>\n",
              "      <th>contact</th>\n",
              "      <th>month</th>\n",
              "      <th>day_of_week</th>\n",
              "      <th>campaign</th>\n",
              "      <th>pdays</th>\n",
              "      <th>previous</th>\n",
              "      <th>poutcome</th>\n",
              "      <th>emp.var.rate</th>\n",
              "      <th>cons.price.idx</th>\n",
              "      <th>cons.conf.idx</th>\n",
              "      <th>euribor3m</th>\n",
              "      <th>nr.employed</th>\n",
              "      <th>y</th>\n",
              "    </tr>\n",
              "  </thead>\n",
              "  <tbody>\n",
              "    <tr>\n",
              "      <th>count</th>\n",
              "      <td>41188.000000</td>\n",
              "      <td>41188.00000</td>\n",
              "      <td>41188.000000</td>\n",
              "      <td>41188.000000</td>\n",
              "      <td>41188.000000</td>\n",
              "      <td>41188.000000</td>\n",
              "      <td>41188.000000</td>\n",
              "      <td>41188.000000</td>\n",
              "      <td>41188.000000</td>\n",
              "      <td>41188.000000</td>\n",
              "      <td>41188.000000</td>\n",
              "      <td>41188.000000</td>\n",
              "      <td>41188.000000</td>\n",
              "      <td>41188.000000</td>\n",
              "      <td>41188.000000</td>\n",
              "      <td>41188.000000</td>\n",
              "      <td>41188.000000</td>\n",
              "      <td>41188.000000</td>\n",
              "      <td>41188.000000</td>\n",
              "      <td>41188.000000</td>\n",
              "    </tr>\n",
              "    <tr>\n",
              "      <th>mean</th>\n",
              "      <td>23.023623</td>\n",
              "      <td>3.72458</td>\n",
              "      <td>1.172769</td>\n",
              "      <td>3.747184</td>\n",
              "      <td>0.208872</td>\n",
              "      <td>1.071720</td>\n",
              "      <td>0.327425</td>\n",
              "      <td>0.365252</td>\n",
              "      <td>4.230868</td>\n",
              "      <td>2.004613</td>\n",
              "      <td>1.566840</td>\n",
              "      <td>25.264737</td>\n",
              "      <td>0.172963</td>\n",
              "      <td>0.930101</td>\n",
              "      <td>6.588521</td>\n",
              "      <td>14.196489</td>\n",
              "      <td>10.335656</td>\n",
              "      <td>255.634821</td>\n",
              "      <td>7.845829</td>\n",
              "      <td>0.112654</td>\n",
              "    </tr>\n",
              "    <tr>\n",
              "      <th>std</th>\n",
              "      <td>10.418993</td>\n",
              "      <td>3.59456</td>\n",
              "      <td>0.608902</td>\n",
              "      <td>2.136482</td>\n",
              "      <td>0.406686</td>\n",
              "      <td>0.985314</td>\n",
              "      <td>0.723616</td>\n",
              "      <td>0.481507</td>\n",
              "      <td>2.320025</td>\n",
              "      <td>1.397575</td>\n",
              "      <td>2.758711</td>\n",
              "      <td>3.832685</td>\n",
              "      <td>0.494901</td>\n",
              "      <td>0.362886</td>\n",
              "      <td>2.797902</td>\n",
              "      <td>5.560136</td>\n",
              "      <td>5.978930</td>\n",
              "      <td>68.665954</td>\n",
              "      <td>2.454812</td>\n",
              "      <td>0.316173</td>\n",
              "    </tr>\n",
              "    <tr>\n",
              "      <th>min</th>\n",
              "      <td>0.000000</td>\n",
              "      <td>0.00000</td>\n",
              "      <td>0.000000</td>\n",
              "      <td>0.000000</td>\n",
              "      <td>0.000000</td>\n",
              "      <td>0.000000</td>\n",
              "      <td>0.000000</td>\n",
              "      <td>0.000000</td>\n",
              "      <td>0.000000</td>\n",
              "      <td>0.000000</td>\n",
              "      <td>0.000000</td>\n",
              "      <td>0.000000</td>\n",
              "      <td>0.000000</td>\n",
              "      <td>0.000000</td>\n",
              "      <td>0.000000</td>\n",
              "      <td>0.000000</td>\n",
              "      <td>0.000000</td>\n",
              "      <td>0.000000</td>\n",
              "      <td>0.000000</td>\n",
              "      <td>0.000000</td>\n",
              "    </tr>\n",
              "    <tr>\n",
              "      <th>25%</th>\n",
              "      <td>15.000000</td>\n",
              "      <td>0.00000</td>\n",
              "      <td>1.000000</td>\n",
              "      <td>2.000000</td>\n",
              "      <td>0.000000</td>\n",
              "      <td>0.000000</td>\n",
              "      <td>0.000000</td>\n",
              "      <td>0.000000</td>\n",
              "      <td>3.000000</td>\n",
              "      <td>1.000000</td>\n",
              "      <td>0.000000</td>\n",
              "      <td>26.000000</td>\n",
              "      <td>0.000000</td>\n",
              "      <td>1.000000</td>\n",
              "      <td>3.000000</td>\n",
              "      <td>10.000000</td>\n",
              "      <td>6.000000</td>\n",
              "      <td>214.000000</td>\n",
              "      <td>6.000000</td>\n",
              "      <td>0.000000</td>\n",
              "    </tr>\n",
              "    <tr>\n",
              "      <th>50%</th>\n",
              "      <td>21.000000</td>\n",
              "      <td>2.00000</td>\n",
              "      <td>1.000000</td>\n",
              "      <td>3.000000</td>\n",
              "      <td>0.000000</td>\n",
              "      <td>2.000000</td>\n",
              "      <td>0.000000</td>\n",
              "      <td>0.000000</td>\n",
              "      <td>4.000000</td>\n",
              "      <td>2.000000</td>\n",
              "      <td>1.000000</td>\n",
              "      <td>26.000000</td>\n",
              "      <td>0.000000</td>\n",
              "      <td>1.000000</td>\n",
              "      <td>8.000000</td>\n",
              "      <td>14.000000</td>\n",
              "      <td>8.000000</td>\n",
              "      <td>287.000000</td>\n",
              "      <td>8.000000</td>\n",
              "      <td>0.000000</td>\n",
              "    </tr>\n",
              "    <tr>\n",
              "      <th>75%</th>\n",
              "      <td>30.000000</td>\n",
              "      <td>7.00000</td>\n",
              "      <td>2.000000</td>\n",
              "      <td>6.000000</td>\n",
              "      <td>0.000000</td>\n",
              "      <td>2.000000</td>\n",
              "      <td>0.000000</td>\n",
              "      <td>1.000000</td>\n",
              "      <td>6.000000</td>\n",
              "      <td>3.000000</td>\n",
              "      <td>2.000000</td>\n",
              "      <td>26.000000</td>\n",
              "      <td>0.000000</td>\n",
              "      <td>1.000000</td>\n",
              "      <td>9.000000</td>\n",
              "      <td>18.000000</td>\n",
              "      <td>16.000000</td>\n",
              "      <td>305.000000</td>\n",
              "      <td>10.000000</td>\n",
              "      <td>0.000000</td>\n",
              "    </tr>\n",
              "    <tr>\n",
              "      <th>max</th>\n",
              "      <td>77.000000</td>\n",
              "      <td>11.00000</td>\n",
              "      <td>3.000000</td>\n",
              "      <td>7.000000</td>\n",
              "      <td>2.000000</td>\n",
              "      <td>2.000000</td>\n",
              "      <td>2.000000</td>\n",
              "      <td>1.000000</td>\n",
              "      <td>9.000000</td>\n",
              "      <td>4.000000</td>\n",
              "      <td>41.000000</td>\n",
              "      <td>26.000000</td>\n",
              "      <td>7.000000</td>\n",
              "      <td>2.000000</td>\n",
              "      <td>9.000000</td>\n",
              "      <td>25.000000</td>\n",
              "      <td>25.000000</td>\n",
              "      <td>315.000000</td>\n",
              "      <td>10.000000</td>\n",
              "      <td>1.000000</td>\n",
              "    </tr>\n",
              "  </tbody>\n",
              "</table>\n",
              "</div>"
            ],
            "text/plain": [
              "                age          job  ...   nr.employed             y\n",
              "count  41188.000000  41188.00000  ...  41188.000000  41188.000000\n",
              "mean      23.023623      3.72458  ...      7.845829      0.112654\n",
              "std       10.418993      3.59456  ...      2.454812      0.316173\n",
              "min        0.000000      0.00000  ...      0.000000      0.000000\n",
              "25%       15.000000      0.00000  ...      6.000000      0.000000\n",
              "50%       21.000000      2.00000  ...      8.000000      0.000000\n",
              "75%       30.000000      7.00000  ...     10.000000      0.000000\n",
              "max       77.000000     11.00000  ...     10.000000      1.000000\n",
              "\n",
              "[8 rows x 20 columns]"
            ]
          },
          "metadata": {
            "tags": []
          },
          "execution_count": 11
        }
      ]
    },
    {
      "cell_type": "markdown",
      "metadata": {
        "id": "GMF6MU8oDrYR"
      },
      "source": [
        "**Displaying the bar graph of the dataset**"
      ]
    },
    {
      "cell_type": "code",
      "metadata": {
        "colab": {
          "base_uri": "https://localhost:8080/",
          "height": 791
        },
        "id": "1m30pv_7DwJv",
        "outputId": "7e7574d7-ae64-4aae-b265-761fa89546a9"
      },
      "source": [
        "df_dummies.plot(kind = 'bar')"
      ],
      "execution_count": null,
      "outputs": [
        {
          "output_type": "error",
          "ename": "KeyboardInterrupt",
          "evalue": "ignored",
          "traceback": [
            "\u001b[0;31m---------------------------------------------------------------------------\u001b[0m",
            "\u001b[0;31mKeyboardInterrupt\u001b[0m                         Traceback (most recent call last)",
            "\u001b[0;32m<ipython-input-35-c31699a76eae>\u001b[0m in \u001b[0;36m<module>\u001b[0;34m()\u001b[0m\n\u001b[0;32m----> 1\u001b[0;31m \u001b[0mdf_dummies\u001b[0m\u001b[0;34m.\u001b[0m\u001b[0mplot\u001b[0m\u001b[0;34m(\u001b[0m\u001b[0mkind\u001b[0m \u001b[0;34m=\u001b[0m \u001b[0;34m'bar'\u001b[0m\u001b[0;34m)\u001b[0m\u001b[0;34m\u001b[0m\u001b[0;34m\u001b[0m\u001b[0m\n\u001b[0m",
            "\u001b[0;32m/usr/local/lib/python3.7/dist-packages/pandas/plotting/_core.py\u001b[0m in \u001b[0;36m__call__\u001b[0;34m(self, *args, **kwargs)\u001b[0m\n\u001b[1;32m    947\u001b[0m                     \u001b[0mdata\u001b[0m\u001b[0;34m.\u001b[0m\u001b[0mcolumns\u001b[0m \u001b[0;34m=\u001b[0m \u001b[0mlabel_name\u001b[0m\u001b[0;34m\u001b[0m\u001b[0;34m\u001b[0m\u001b[0m\n\u001b[1;32m    948\u001b[0m \u001b[0;34m\u001b[0m\u001b[0m\n\u001b[0;32m--> 949\u001b[0;31m         \u001b[0;32mreturn\u001b[0m \u001b[0mplot_backend\u001b[0m\u001b[0;34m.\u001b[0m\u001b[0mplot\u001b[0m\u001b[0;34m(\u001b[0m\u001b[0mdata\u001b[0m\u001b[0;34m,\u001b[0m \u001b[0mkind\u001b[0m\u001b[0;34m=\u001b[0m\u001b[0mkind\u001b[0m\u001b[0;34m,\u001b[0m \u001b[0;34m**\u001b[0m\u001b[0mkwargs\u001b[0m\u001b[0;34m)\u001b[0m\u001b[0;34m\u001b[0m\u001b[0;34m\u001b[0m\u001b[0m\n\u001b[0m\u001b[1;32m    950\u001b[0m \u001b[0;34m\u001b[0m\u001b[0m\n\u001b[1;32m    951\u001b[0m     \u001b[0m__call__\u001b[0m\u001b[0;34m.\u001b[0m\u001b[0m__doc__\u001b[0m \u001b[0;34m=\u001b[0m \u001b[0m__doc__\u001b[0m\u001b[0;34m\u001b[0m\u001b[0;34m\u001b[0m\u001b[0m\n",
            "\u001b[0;32m/usr/local/lib/python3.7/dist-packages/pandas/plotting/_matplotlib/__init__.py\u001b[0m in \u001b[0;36mplot\u001b[0;34m(data, kind, **kwargs)\u001b[0m\n\u001b[1;32m     59\u001b[0m             \u001b[0mkwargs\u001b[0m\u001b[0;34m[\u001b[0m\u001b[0;34m\"ax\"\u001b[0m\u001b[0;34m]\u001b[0m \u001b[0;34m=\u001b[0m \u001b[0mgetattr\u001b[0m\u001b[0;34m(\u001b[0m\u001b[0max\u001b[0m\u001b[0;34m,\u001b[0m \u001b[0;34m\"left_ax\"\u001b[0m\u001b[0;34m,\u001b[0m \u001b[0max\u001b[0m\u001b[0;34m)\u001b[0m\u001b[0;34m\u001b[0m\u001b[0;34m\u001b[0m\u001b[0m\n\u001b[1;32m     60\u001b[0m     \u001b[0mplot_obj\u001b[0m \u001b[0;34m=\u001b[0m \u001b[0mPLOT_CLASSES\u001b[0m\u001b[0;34m[\u001b[0m\u001b[0mkind\u001b[0m\u001b[0;34m]\u001b[0m\u001b[0;34m(\u001b[0m\u001b[0mdata\u001b[0m\u001b[0;34m,\u001b[0m \u001b[0;34m**\u001b[0m\u001b[0mkwargs\u001b[0m\u001b[0;34m)\u001b[0m\u001b[0;34m\u001b[0m\u001b[0;34m\u001b[0m\u001b[0m\n\u001b[0;32m---> 61\u001b[0;31m     \u001b[0mplot_obj\u001b[0m\u001b[0;34m.\u001b[0m\u001b[0mgenerate\u001b[0m\u001b[0;34m(\u001b[0m\u001b[0;34m)\u001b[0m\u001b[0;34m\u001b[0m\u001b[0;34m\u001b[0m\u001b[0m\n\u001b[0m\u001b[1;32m     62\u001b[0m     \u001b[0mplot_obj\u001b[0m\u001b[0;34m.\u001b[0m\u001b[0mdraw\u001b[0m\u001b[0;34m(\u001b[0m\u001b[0;34m)\u001b[0m\u001b[0;34m\u001b[0m\u001b[0;34m\u001b[0m\u001b[0m\n\u001b[1;32m     63\u001b[0m     \u001b[0;32mreturn\u001b[0m \u001b[0mplot_obj\u001b[0m\u001b[0;34m.\u001b[0m\u001b[0mresult\u001b[0m\u001b[0;34m\u001b[0m\u001b[0;34m\u001b[0m\u001b[0m\n",
            "\u001b[0;32m/usr/local/lib/python3.7/dist-packages/pandas/plotting/_matplotlib/core.py\u001b[0m in \u001b[0;36mgenerate\u001b[0;34m(self)\u001b[0m\n\u001b[1;32m    269\u001b[0m         \u001b[0mself\u001b[0m\u001b[0;34m.\u001b[0m\u001b[0m_compute_plot_data\u001b[0m\u001b[0;34m(\u001b[0m\u001b[0;34m)\u001b[0m\u001b[0;34m\u001b[0m\u001b[0;34m\u001b[0m\u001b[0m\n\u001b[1;32m    270\u001b[0m         \u001b[0mself\u001b[0m\u001b[0;34m.\u001b[0m\u001b[0m_setup_subplots\u001b[0m\u001b[0;34m(\u001b[0m\u001b[0;34m)\u001b[0m\u001b[0;34m\u001b[0m\u001b[0;34m\u001b[0m\u001b[0m\n\u001b[0;32m--> 271\u001b[0;31m         \u001b[0mself\u001b[0m\u001b[0;34m.\u001b[0m\u001b[0m_make_plot\u001b[0m\u001b[0;34m(\u001b[0m\u001b[0;34m)\u001b[0m\u001b[0;34m\u001b[0m\u001b[0;34m\u001b[0m\u001b[0m\n\u001b[0m\u001b[1;32m    272\u001b[0m         \u001b[0mself\u001b[0m\u001b[0;34m.\u001b[0m\u001b[0m_add_table\u001b[0m\u001b[0;34m(\u001b[0m\u001b[0;34m)\u001b[0m\u001b[0;34m\u001b[0m\u001b[0;34m\u001b[0m\u001b[0m\n\u001b[1;32m    273\u001b[0m         \u001b[0mself\u001b[0m\u001b[0;34m.\u001b[0m\u001b[0m_make_legend\u001b[0m\u001b[0;34m(\u001b[0m\u001b[0;34m)\u001b[0m\u001b[0;34m\u001b[0m\u001b[0;34m\u001b[0m\u001b[0m\n",
            "\u001b[0;32m/usr/local/lib/python3.7/dist-packages/pandas/plotting/_matplotlib/core.py\u001b[0m in \u001b[0;36m_make_plot\u001b[0;34m(self)\u001b[0m\n\u001b[1;32m   1448\u001b[0m                     \u001b[0mlabel\u001b[0m\u001b[0;34m=\u001b[0m\u001b[0mlabel\u001b[0m\u001b[0;34m,\u001b[0m\u001b[0;34m\u001b[0m\u001b[0;34m\u001b[0m\u001b[0m\n\u001b[1;32m   1449\u001b[0m                     \u001b[0mlog\u001b[0m\u001b[0;34m=\u001b[0m\u001b[0mself\u001b[0m\u001b[0;34m.\u001b[0m\u001b[0mlog\u001b[0m\u001b[0;34m,\u001b[0m\u001b[0;34m\u001b[0m\u001b[0;34m\u001b[0m\u001b[0m\n\u001b[0;32m-> 1450\u001b[0;31m                     \u001b[0;34m**\u001b[0m\u001b[0mkwds\u001b[0m\u001b[0;34m,\u001b[0m\u001b[0;34m\u001b[0m\u001b[0;34m\u001b[0m\u001b[0m\n\u001b[0m\u001b[1;32m   1451\u001b[0m                 )\n\u001b[1;32m   1452\u001b[0m             \u001b[0mself\u001b[0m\u001b[0;34m.\u001b[0m\u001b[0m_add_legend_handle\u001b[0m\u001b[0;34m(\u001b[0m\u001b[0mrect\u001b[0m\u001b[0;34m,\u001b[0m \u001b[0mlabel\u001b[0m\u001b[0;34m,\u001b[0m \u001b[0mindex\u001b[0m\u001b[0;34m=\u001b[0m\u001b[0mi\u001b[0m\u001b[0;34m)\u001b[0m\u001b[0;34m\u001b[0m\u001b[0;34m\u001b[0m\u001b[0m\n",
            "\u001b[0;32m/usr/local/lib/python3.7/dist-packages/pandas/plotting/_matplotlib/core.py\u001b[0m in \u001b[0;36m_plot\u001b[0;34m(cls, ax, x, y, w, start, log, **kwds)\u001b[0m\n\u001b[1;32m   1371\u001b[0m     \u001b[0;34m@\u001b[0m\u001b[0mclassmethod\u001b[0m\u001b[0;34m\u001b[0m\u001b[0;34m\u001b[0m\u001b[0m\n\u001b[1;32m   1372\u001b[0m     \u001b[0;32mdef\u001b[0m \u001b[0m_plot\u001b[0m\u001b[0;34m(\u001b[0m\u001b[0mcls\u001b[0m\u001b[0;34m,\u001b[0m \u001b[0max\u001b[0m\u001b[0;34m,\u001b[0m \u001b[0mx\u001b[0m\u001b[0;34m,\u001b[0m \u001b[0my\u001b[0m\u001b[0;34m,\u001b[0m \u001b[0mw\u001b[0m\u001b[0;34m,\u001b[0m \u001b[0mstart\u001b[0m\u001b[0;34m=\u001b[0m\u001b[0;36m0\u001b[0m\u001b[0;34m,\u001b[0m \u001b[0mlog\u001b[0m\u001b[0;34m=\u001b[0m\u001b[0;32mFalse\u001b[0m\u001b[0;34m,\u001b[0m \u001b[0;34m**\u001b[0m\u001b[0mkwds\u001b[0m\u001b[0;34m)\u001b[0m\u001b[0;34m:\u001b[0m\u001b[0;34m\u001b[0m\u001b[0;34m\u001b[0m\u001b[0m\n\u001b[0;32m-> 1373\u001b[0;31m         \u001b[0;32mreturn\u001b[0m \u001b[0max\u001b[0m\u001b[0;34m.\u001b[0m\u001b[0mbar\u001b[0m\u001b[0;34m(\u001b[0m\u001b[0mx\u001b[0m\u001b[0;34m,\u001b[0m \u001b[0my\u001b[0m\u001b[0;34m,\u001b[0m \u001b[0mw\u001b[0m\u001b[0;34m,\u001b[0m \u001b[0mbottom\u001b[0m\u001b[0;34m=\u001b[0m\u001b[0mstart\u001b[0m\u001b[0;34m,\u001b[0m \u001b[0mlog\u001b[0m\u001b[0;34m=\u001b[0m\u001b[0mlog\u001b[0m\u001b[0;34m,\u001b[0m \u001b[0;34m**\u001b[0m\u001b[0mkwds\u001b[0m\u001b[0;34m)\u001b[0m\u001b[0;34m\u001b[0m\u001b[0;34m\u001b[0m\u001b[0m\n\u001b[0m\u001b[1;32m   1374\u001b[0m \u001b[0;34m\u001b[0m\u001b[0m\n\u001b[1;32m   1375\u001b[0m     \u001b[0;34m@\u001b[0m\u001b[0mproperty\u001b[0m\u001b[0;34m\u001b[0m\u001b[0;34m\u001b[0m\u001b[0m\n",
            "\u001b[0;32m/usr/local/lib/python3.7/dist-packages/matplotlib/__init__.py\u001b[0m in \u001b[0;36minner\u001b[0;34m(ax, data, *args, **kwargs)\u001b[0m\n\u001b[1;32m   1563\u001b[0m     \u001b[0;32mdef\u001b[0m \u001b[0minner\u001b[0m\u001b[0;34m(\u001b[0m\u001b[0max\u001b[0m\u001b[0;34m,\u001b[0m \u001b[0;34m*\u001b[0m\u001b[0margs\u001b[0m\u001b[0;34m,\u001b[0m \u001b[0mdata\u001b[0m\u001b[0;34m=\u001b[0m\u001b[0;32mNone\u001b[0m\u001b[0;34m,\u001b[0m \u001b[0;34m**\u001b[0m\u001b[0mkwargs\u001b[0m\u001b[0;34m)\u001b[0m\u001b[0;34m:\u001b[0m\u001b[0;34m\u001b[0m\u001b[0;34m\u001b[0m\u001b[0m\n\u001b[1;32m   1564\u001b[0m         \u001b[0;32mif\u001b[0m \u001b[0mdata\u001b[0m \u001b[0;32mis\u001b[0m \u001b[0;32mNone\u001b[0m\u001b[0;34m:\u001b[0m\u001b[0;34m\u001b[0m\u001b[0;34m\u001b[0m\u001b[0m\n\u001b[0;32m-> 1565\u001b[0;31m             \u001b[0;32mreturn\u001b[0m \u001b[0mfunc\u001b[0m\u001b[0;34m(\u001b[0m\u001b[0max\u001b[0m\u001b[0;34m,\u001b[0m \u001b[0;34m*\u001b[0m\u001b[0mmap\u001b[0m\u001b[0;34m(\u001b[0m\u001b[0msanitize_sequence\u001b[0m\u001b[0;34m,\u001b[0m \u001b[0margs\u001b[0m\u001b[0;34m)\u001b[0m\u001b[0;34m,\u001b[0m \u001b[0;34m**\u001b[0m\u001b[0mkwargs\u001b[0m\u001b[0;34m)\u001b[0m\u001b[0;34m\u001b[0m\u001b[0;34m\u001b[0m\u001b[0m\n\u001b[0m\u001b[1;32m   1566\u001b[0m \u001b[0;34m\u001b[0m\u001b[0m\n\u001b[1;32m   1567\u001b[0m         \u001b[0mbound\u001b[0m \u001b[0;34m=\u001b[0m \u001b[0mnew_sig\u001b[0m\u001b[0;34m.\u001b[0m\u001b[0mbind\u001b[0m\u001b[0;34m(\u001b[0m\u001b[0max\u001b[0m\u001b[0;34m,\u001b[0m \u001b[0;34m*\u001b[0m\u001b[0margs\u001b[0m\u001b[0;34m,\u001b[0m \u001b[0;34m**\u001b[0m\u001b[0mkwargs\u001b[0m\u001b[0;34m)\u001b[0m\u001b[0;34m\u001b[0m\u001b[0;34m\u001b[0m\u001b[0m\n",
            "\u001b[0;32m/usr/local/lib/python3.7/dist-packages/matplotlib/axes/_axes.py\u001b[0m in \u001b[0;36mbar\u001b[0;34m(self, x, height, width, bottom, align, **kwargs)\u001b[0m\n\u001b[1;32m   2402\u001b[0m             \u001b[0;32melif\u001b[0m \u001b[0morientation\u001b[0m \u001b[0;34m==\u001b[0m \u001b[0;34m'horizontal'\u001b[0m\u001b[0;34m:\u001b[0m\u001b[0;34m\u001b[0m\u001b[0;34m\u001b[0m\u001b[0m\n\u001b[1;32m   2403\u001b[0m                 \u001b[0mr\u001b[0m\u001b[0;34m.\u001b[0m\u001b[0msticky_edges\u001b[0m\u001b[0;34m.\u001b[0m\u001b[0mx\u001b[0m\u001b[0;34m.\u001b[0m\u001b[0mappend\u001b[0m\u001b[0;34m(\u001b[0m\u001b[0ml\u001b[0m\u001b[0;34m)\u001b[0m\u001b[0;34m\u001b[0m\u001b[0;34m\u001b[0m\u001b[0m\n\u001b[0;32m-> 2404\u001b[0;31m             \u001b[0mself\u001b[0m\u001b[0;34m.\u001b[0m\u001b[0madd_patch\u001b[0m\u001b[0;34m(\u001b[0m\u001b[0mr\u001b[0m\u001b[0;34m)\u001b[0m\u001b[0;34m\u001b[0m\u001b[0;34m\u001b[0m\u001b[0m\n\u001b[0m\u001b[1;32m   2405\u001b[0m             \u001b[0mpatches\u001b[0m\u001b[0;34m.\u001b[0m\u001b[0mappend\u001b[0m\u001b[0;34m(\u001b[0m\u001b[0mr\u001b[0m\u001b[0;34m)\u001b[0m\u001b[0;34m\u001b[0m\u001b[0;34m\u001b[0m\u001b[0m\n\u001b[1;32m   2406\u001b[0m \u001b[0;34m\u001b[0m\u001b[0m\n",
            "\u001b[0;32m/usr/local/lib/python3.7/dist-packages/matplotlib/axes/_base.py\u001b[0m in \u001b[0;36madd_patch\u001b[0;34m(self, p)\u001b[0m\n\u001b[1;32m   1917\u001b[0m         \u001b[0;32mif\u001b[0m \u001b[0mp\u001b[0m\u001b[0;34m.\u001b[0m\u001b[0mget_clip_path\u001b[0m\u001b[0;34m(\u001b[0m\u001b[0;34m)\u001b[0m \u001b[0;32mis\u001b[0m \u001b[0;32mNone\u001b[0m\u001b[0;34m:\u001b[0m\u001b[0;34m\u001b[0m\u001b[0;34m\u001b[0m\u001b[0m\n\u001b[1;32m   1918\u001b[0m             \u001b[0mp\u001b[0m\u001b[0;34m.\u001b[0m\u001b[0mset_clip_path\u001b[0m\u001b[0;34m(\u001b[0m\u001b[0mself\u001b[0m\u001b[0;34m.\u001b[0m\u001b[0mpatch\u001b[0m\u001b[0;34m)\u001b[0m\u001b[0;34m\u001b[0m\u001b[0;34m\u001b[0m\u001b[0m\n\u001b[0;32m-> 1919\u001b[0;31m         \u001b[0mself\u001b[0m\u001b[0;34m.\u001b[0m\u001b[0m_update_patch_limits\u001b[0m\u001b[0;34m(\u001b[0m\u001b[0mp\u001b[0m\u001b[0;34m)\u001b[0m\u001b[0;34m\u001b[0m\u001b[0;34m\u001b[0m\u001b[0m\n\u001b[0m\u001b[1;32m   1920\u001b[0m         \u001b[0mself\u001b[0m\u001b[0;34m.\u001b[0m\u001b[0mpatches\u001b[0m\u001b[0;34m.\u001b[0m\u001b[0mappend\u001b[0m\u001b[0;34m(\u001b[0m\u001b[0mp\u001b[0m\u001b[0;34m)\u001b[0m\u001b[0;34m\u001b[0m\u001b[0;34m\u001b[0m\u001b[0m\n\u001b[1;32m   1921\u001b[0m         \u001b[0mp\u001b[0m\u001b[0;34m.\u001b[0m\u001b[0m_remove_method\u001b[0m \u001b[0;34m=\u001b[0m \u001b[0mself\u001b[0m\u001b[0;34m.\u001b[0m\u001b[0mpatches\u001b[0m\u001b[0;34m.\u001b[0m\u001b[0mremove\u001b[0m\u001b[0;34m\u001b[0m\u001b[0;34m\u001b[0m\u001b[0m\n",
            "\u001b[0;32m/usr/local/lib/python3.7/dist-packages/matplotlib/axes/_base.py\u001b[0m in \u001b[0;36m_update_patch_limits\u001b[0;34m(self, patch)\u001b[0m\n\u001b[1;32m   1937\u001b[0m         \u001b[0mvertices\u001b[0m \u001b[0;34m=\u001b[0m \u001b[0mpatch\u001b[0m\u001b[0;34m.\u001b[0m\u001b[0mget_path\u001b[0m\u001b[0;34m(\u001b[0m\u001b[0;34m)\u001b[0m\u001b[0;34m.\u001b[0m\u001b[0mvertices\u001b[0m\u001b[0;34m\u001b[0m\u001b[0;34m\u001b[0m\u001b[0m\n\u001b[1;32m   1938\u001b[0m         \u001b[0;32mif\u001b[0m \u001b[0mvertices\u001b[0m\u001b[0;34m.\u001b[0m\u001b[0msize\u001b[0m \u001b[0;34m>\u001b[0m \u001b[0;36m0\u001b[0m\u001b[0;34m:\u001b[0m\u001b[0;34m\u001b[0m\u001b[0;34m\u001b[0m\u001b[0m\n\u001b[0;32m-> 1939\u001b[0;31m             \u001b[0mxys\u001b[0m \u001b[0;34m=\u001b[0m \u001b[0mpatch\u001b[0m\u001b[0;34m.\u001b[0m\u001b[0mget_patch_transform\u001b[0m\u001b[0;34m(\u001b[0m\u001b[0;34m)\u001b[0m\u001b[0;34m.\u001b[0m\u001b[0mtransform\u001b[0m\u001b[0;34m(\u001b[0m\u001b[0mvertices\u001b[0m\u001b[0;34m)\u001b[0m\u001b[0;34m\u001b[0m\u001b[0;34m\u001b[0m\u001b[0m\n\u001b[0m\u001b[1;32m   1940\u001b[0m             \u001b[0;32mif\u001b[0m \u001b[0mpatch\u001b[0m\u001b[0;34m.\u001b[0m\u001b[0mget_data_transform\u001b[0m\u001b[0;34m(\u001b[0m\u001b[0;34m)\u001b[0m \u001b[0;34m!=\u001b[0m \u001b[0mself\u001b[0m\u001b[0;34m.\u001b[0m\u001b[0mtransData\u001b[0m\u001b[0;34m:\u001b[0m\u001b[0;34m\u001b[0m\u001b[0;34m\u001b[0m\u001b[0m\n\u001b[1;32m   1941\u001b[0m                 patch_to_data = (patch.get_data_transform() -\n",
            "\u001b[0;32m/usr/local/lib/python3.7/dist-packages/matplotlib/patches.py\u001b[0m in \u001b[0;36mget_patch_transform\u001b[0;34m(self)\u001b[0m\n\u001b[1;32m    775\u001b[0m \u001b[0;34m\u001b[0m\u001b[0m\n\u001b[1;32m    776\u001b[0m     \u001b[0;32mdef\u001b[0m \u001b[0mget_patch_transform\u001b[0m\u001b[0;34m(\u001b[0m\u001b[0mself\u001b[0m\u001b[0;34m)\u001b[0m\u001b[0;34m:\u001b[0m\u001b[0;34m\u001b[0m\u001b[0;34m\u001b[0m\u001b[0m\n\u001b[0;32m--> 777\u001b[0;31m         \u001b[0mself\u001b[0m\u001b[0;34m.\u001b[0m\u001b[0m_update_patch_transform\u001b[0m\u001b[0;34m(\u001b[0m\u001b[0;34m)\u001b[0m\u001b[0;34m\u001b[0m\u001b[0;34m\u001b[0m\u001b[0m\n\u001b[0m\u001b[1;32m    778\u001b[0m         \u001b[0;32mreturn\u001b[0m \u001b[0mself\u001b[0m\u001b[0;34m.\u001b[0m\u001b[0m_rect_transform\u001b[0m\u001b[0;34m\u001b[0m\u001b[0;34m\u001b[0m\u001b[0m\n\u001b[1;32m    779\u001b[0m \u001b[0;34m\u001b[0m\u001b[0m\n",
            "\u001b[0;32m/usr/local/lib/python3.7/dist-packages/matplotlib/patches.py\u001b[0m in \u001b[0;36m_update_patch_transform\u001b[0;34m(self)\u001b[0m\n\u001b[1;32m    753\u001b[0m         \u001b[0mmember\u001b[0m \u001b[0mvariable\u001b[0m\u001b[0;34m.\u001b[0m\u001b[0;34m\u001b[0m\u001b[0;34m\u001b[0m\u001b[0m\n\u001b[1;32m    754\u001b[0m         \"\"\"\n\u001b[0;32m--> 755\u001b[0;31m         \u001b[0mx0\u001b[0m\u001b[0;34m,\u001b[0m \u001b[0my0\u001b[0m\u001b[0;34m,\u001b[0m \u001b[0mx1\u001b[0m\u001b[0;34m,\u001b[0m \u001b[0my1\u001b[0m \u001b[0;34m=\u001b[0m \u001b[0mself\u001b[0m\u001b[0;34m.\u001b[0m\u001b[0m_convert_units\u001b[0m\u001b[0;34m(\u001b[0m\u001b[0;34m)\u001b[0m\u001b[0;34m\u001b[0m\u001b[0;34m\u001b[0m\u001b[0m\n\u001b[0m\u001b[1;32m    756\u001b[0m         \u001b[0mbbox\u001b[0m \u001b[0;34m=\u001b[0m \u001b[0mtransforms\u001b[0m\u001b[0;34m.\u001b[0m\u001b[0mBbox\u001b[0m\u001b[0;34m.\u001b[0m\u001b[0mfrom_extents\u001b[0m\u001b[0;34m(\u001b[0m\u001b[0mx0\u001b[0m\u001b[0;34m,\u001b[0m \u001b[0my0\u001b[0m\u001b[0;34m,\u001b[0m \u001b[0mx1\u001b[0m\u001b[0;34m,\u001b[0m \u001b[0my1\u001b[0m\u001b[0;34m)\u001b[0m\u001b[0;34m\u001b[0m\u001b[0;34m\u001b[0m\u001b[0m\n\u001b[1;32m    757\u001b[0m         \u001b[0mrot_trans\u001b[0m \u001b[0;34m=\u001b[0m \u001b[0mtransforms\u001b[0m\u001b[0;34m.\u001b[0m\u001b[0mAffine2D\u001b[0m\u001b[0;34m(\u001b[0m\u001b[0;34m)\u001b[0m\u001b[0;34m\u001b[0m\u001b[0;34m\u001b[0m\u001b[0m\n",
            "\u001b[0;32m/usr/local/lib/python3.7/dist-packages/matplotlib/patches.py\u001b[0m in \u001b[0;36m_convert_units\u001b[0;34m(self)\u001b[0m\n\u001b[1;32m    769\u001b[0m         \u001b[0;34m\"\"\"Convert bounds of the rectangle.\"\"\"\u001b[0m\u001b[0;34m\u001b[0m\u001b[0;34m\u001b[0m\u001b[0m\n\u001b[1;32m    770\u001b[0m         \u001b[0mx0\u001b[0m \u001b[0;34m=\u001b[0m \u001b[0mself\u001b[0m\u001b[0;34m.\u001b[0m\u001b[0mconvert_xunits\u001b[0m\u001b[0;34m(\u001b[0m\u001b[0mself\u001b[0m\u001b[0;34m.\u001b[0m\u001b[0m_x0\u001b[0m\u001b[0;34m)\u001b[0m\u001b[0;34m\u001b[0m\u001b[0;34m\u001b[0m\u001b[0m\n\u001b[0;32m--> 771\u001b[0;31m         \u001b[0my0\u001b[0m \u001b[0;34m=\u001b[0m \u001b[0mself\u001b[0m\u001b[0;34m.\u001b[0m\u001b[0mconvert_yunits\u001b[0m\u001b[0;34m(\u001b[0m\u001b[0mself\u001b[0m\u001b[0;34m.\u001b[0m\u001b[0m_y0\u001b[0m\u001b[0;34m)\u001b[0m\u001b[0;34m\u001b[0m\u001b[0;34m\u001b[0m\u001b[0m\n\u001b[0m\u001b[1;32m    772\u001b[0m         \u001b[0mx1\u001b[0m \u001b[0;34m=\u001b[0m \u001b[0mself\u001b[0m\u001b[0;34m.\u001b[0m\u001b[0mconvert_xunits\u001b[0m\u001b[0;34m(\u001b[0m\u001b[0mself\u001b[0m\u001b[0;34m.\u001b[0m\u001b[0m_x1\u001b[0m\u001b[0;34m)\u001b[0m\u001b[0;34m\u001b[0m\u001b[0;34m\u001b[0m\u001b[0m\n\u001b[1;32m    773\u001b[0m         \u001b[0my1\u001b[0m \u001b[0;34m=\u001b[0m \u001b[0mself\u001b[0m\u001b[0;34m.\u001b[0m\u001b[0mconvert_yunits\u001b[0m\u001b[0;34m(\u001b[0m\u001b[0mself\u001b[0m\u001b[0;34m.\u001b[0m\u001b[0m_y1\u001b[0m\u001b[0;34m)\u001b[0m\u001b[0;34m\u001b[0m\u001b[0;34m\u001b[0m\u001b[0m\n",
            "\u001b[0;32m/usr/local/lib/python3.7/dist-packages/matplotlib/artist.py\u001b[0m in \u001b[0;36mconvert_yunits\u001b[0;34m(self, y)\u001b[0m\n\u001b[1;32m    188\u001b[0m         \u001b[0;32mif\u001b[0m \u001b[0max\u001b[0m \u001b[0;32mis\u001b[0m \u001b[0;32mNone\u001b[0m \u001b[0;32mor\u001b[0m \u001b[0max\u001b[0m\u001b[0;34m.\u001b[0m\u001b[0myaxis\u001b[0m \u001b[0;32mis\u001b[0m \u001b[0;32mNone\u001b[0m\u001b[0;34m:\u001b[0m\u001b[0;34m\u001b[0m\u001b[0;34m\u001b[0m\u001b[0m\n\u001b[1;32m    189\u001b[0m             \u001b[0;32mreturn\u001b[0m \u001b[0my\u001b[0m\u001b[0;34m\u001b[0m\u001b[0;34m\u001b[0m\u001b[0m\n\u001b[0;32m--> 190\u001b[0;31m         \u001b[0;32mreturn\u001b[0m \u001b[0max\u001b[0m\u001b[0;34m.\u001b[0m\u001b[0myaxis\u001b[0m\u001b[0;34m.\u001b[0m\u001b[0mconvert_units\u001b[0m\u001b[0;34m(\u001b[0m\u001b[0my\u001b[0m\u001b[0;34m)\u001b[0m\u001b[0;34m\u001b[0m\u001b[0;34m\u001b[0m\u001b[0m\n\u001b[0m\u001b[1;32m    191\u001b[0m \u001b[0;34m\u001b[0m\u001b[0m\n\u001b[1;32m    192\u001b[0m     \u001b[0;34m@\u001b[0m\u001b[0mproperty\u001b[0m\u001b[0;34m\u001b[0m\u001b[0;34m\u001b[0m\u001b[0m\n",
            "\u001b[0;32m/usr/local/lib/python3.7/dist-packages/matplotlib/axis.py\u001b[0m in \u001b[0;36mconvert_units\u001b[0;34m(self, x)\u001b[0m\n\u001b[1;32m   1562\u001b[0m     \u001b[0;32mdef\u001b[0m \u001b[0mconvert_units\u001b[0m\u001b[0;34m(\u001b[0m\u001b[0mself\u001b[0m\u001b[0;34m,\u001b[0m \u001b[0mx\u001b[0m\u001b[0;34m)\u001b[0m\u001b[0;34m:\u001b[0m\u001b[0;34m\u001b[0m\u001b[0;34m\u001b[0m\u001b[0m\n\u001b[1;32m   1563\u001b[0m         \u001b[0;31m# If x is natively supported by Matplotlib, doesn't need converting\u001b[0m\u001b[0;34m\u001b[0m\u001b[0;34m\u001b[0m\u001b[0;34m\u001b[0m\u001b[0m\n\u001b[0;32m-> 1564\u001b[0;31m         \u001b[0;32mif\u001b[0m \u001b[0mmunits\u001b[0m\u001b[0;34m.\u001b[0m\u001b[0m_is_natively_supported\u001b[0m\u001b[0;34m(\u001b[0m\u001b[0mx\u001b[0m\u001b[0;34m)\u001b[0m\u001b[0;34m:\u001b[0m\u001b[0;34m\u001b[0m\u001b[0;34m\u001b[0m\u001b[0m\n\u001b[0m\u001b[1;32m   1565\u001b[0m             \u001b[0;32mreturn\u001b[0m \u001b[0mx\u001b[0m\u001b[0;34m\u001b[0m\u001b[0;34m\u001b[0m\u001b[0m\n\u001b[1;32m   1566\u001b[0m \u001b[0;34m\u001b[0m\u001b[0m\n",
            "\u001b[0;31mKeyboardInterrupt\u001b[0m: "
          ]
        },
        {
          "output_type": "stream",
          "text": [
            "Error in callback <function flush_figures at 0x7f05a66cf290> (for post_execute):\n"
          ],
          "name": "stdout"
        },
        {
          "output_type": "error",
          "ename": "KeyboardInterrupt",
          "evalue": "ignored",
          "traceback": [
            "\u001b[0;31m---------------------------------------------------------------------------\u001b[0m",
            "\u001b[0;31mKeyboardInterrupt\u001b[0m                         Traceback (most recent call last)",
            "\u001b[0;32m/usr/local/lib/python3.7/dist-packages/ipykernel/pylab/backend_inline.py\u001b[0m in \u001b[0;36mflush_figures\u001b[0;34m()\u001b[0m\n\u001b[1;32m    115\u001b[0m         \u001b[0;31m# ignore the tracking, just draw and close all figures\u001b[0m\u001b[0;34m\u001b[0m\u001b[0;34m\u001b[0m\u001b[0;34m\u001b[0m\u001b[0m\n\u001b[1;32m    116\u001b[0m         \u001b[0;32mtry\u001b[0m\u001b[0;34m:\u001b[0m\u001b[0;34m\u001b[0m\u001b[0;34m\u001b[0m\u001b[0m\n\u001b[0;32m--> 117\u001b[0;31m             \u001b[0;32mreturn\u001b[0m \u001b[0mshow\u001b[0m\u001b[0;34m(\u001b[0m\u001b[0;32mTrue\u001b[0m\u001b[0;34m)\u001b[0m\u001b[0;34m\u001b[0m\u001b[0;34m\u001b[0m\u001b[0m\n\u001b[0m\u001b[1;32m    118\u001b[0m         \u001b[0;32mexcept\u001b[0m \u001b[0mException\u001b[0m \u001b[0;32mas\u001b[0m \u001b[0me\u001b[0m\u001b[0;34m:\u001b[0m\u001b[0;34m\u001b[0m\u001b[0;34m\u001b[0m\u001b[0m\n\u001b[1;32m    119\u001b[0m             \u001b[0;31m# safely show traceback if in IPython, else raise\u001b[0m\u001b[0;34m\u001b[0m\u001b[0;34m\u001b[0m\u001b[0;34m\u001b[0m\u001b[0m\n",
            "\u001b[0;32m/usr/local/lib/python3.7/dist-packages/ipykernel/pylab/backend_inline.py\u001b[0m in \u001b[0;36mshow\u001b[0;34m(close, block)\u001b[0m\n\u001b[1;32m     37\u001b[0m             display(\n\u001b[1;32m     38\u001b[0m                 \u001b[0mfigure_manager\u001b[0m\u001b[0;34m.\u001b[0m\u001b[0mcanvas\u001b[0m\u001b[0;34m.\u001b[0m\u001b[0mfigure\u001b[0m\u001b[0;34m,\u001b[0m\u001b[0;34m\u001b[0m\u001b[0;34m\u001b[0m\u001b[0m\n\u001b[0;32m---> 39\u001b[0;31m                 \u001b[0mmetadata\u001b[0m\u001b[0;34m=\u001b[0m\u001b[0m_fetch_figure_metadata\u001b[0m\u001b[0;34m(\u001b[0m\u001b[0mfigure_manager\u001b[0m\u001b[0;34m.\u001b[0m\u001b[0mcanvas\u001b[0m\u001b[0;34m.\u001b[0m\u001b[0mfigure\u001b[0m\u001b[0;34m)\u001b[0m\u001b[0;34m\u001b[0m\u001b[0;34m\u001b[0m\u001b[0m\n\u001b[0m\u001b[1;32m     40\u001b[0m             )\n\u001b[1;32m     41\u001b[0m     \u001b[0;32mfinally\u001b[0m\u001b[0;34m:\u001b[0m\u001b[0;34m\u001b[0m\u001b[0;34m\u001b[0m\u001b[0m\n",
            "\u001b[0;32m/usr/local/lib/python3.7/dist-packages/IPython/core/display.py\u001b[0m in \u001b[0;36mdisplay\u001b[0;34m(*objs, **kwargs)\u001b[0m\n\u001b[1;32m    304\u001b[0m             \u001b[0mpublish_display_data\u001b[0m\u001b[0;34m(\u001b[0m\u001b[0mdata\u001b[0m\u001b[0;34m=\u001b[0m\u001b[0mobj\u001b[0m\u001b[0;34m,\u001b[0m \u001b[0mmetadata\u001b[0m\u001b[0;34m=\u001b[0m\u001b[0mmetadata\u001b[0m\u001b[0;34m,\u001b[0m \u001b[0;34m**\u001b[0m\u001b[0mkwargs\u001b[0m\u001b[0;34m)\u001b[0m\u001b[0;34m\u001b[0m\u001b[0;34m\u001b[0m\u001b[0m\n\u001b[1;32m    305\u001b[0m         \u001b[0;32melse\u001b[0m\u001b[0;34m:\u001b[0m\u001b[0;34m\u001b[0m\u001b[0;34m\u001b[0m\u001b[0m\n\u001b[0;32m--> 306\u001b[0;31m             \u001b[0mformat_dict\u001b[0m\u001b[0;34m,\u001b[0m \u001b[0mmd_dict\u001b[0m \u001b[0;34m=\u001b[0m \u001b[0mformat\u001b[0m\u001b[0;34m(\u001b[0m\u001b[0mobj\u001b[0m\u001b[0;34m,\u001b[0m \u001b[0minclude\u001b[0m\u001b[0;34m=\u001b[0m\u001b[0minclude\u001b[0m\u001b[0;34m,\u001b[0m \u001b[0mexclude\u001b[0m\u001b[0;34m=\u001b[0m\u001b[0mexclude\u001b[0m\u001b[0;34m)\u001b[0m\u001b[0;34m\u001b[0m\u001b[0;34m\u001b[0m\u001b[0m\n\u001b[0m\u001b[1;32m    307\u001b[0m             \u001b[0;32mif\u001b[0m \u001b[0;32mnot\u001b[0m \u001b[0mformat_dict\u001b[0m\u001b[0;34m:\u001b[0m\u001b[0;34m\u001b[0m\u001b[0;34m\u001b[0m\u001b[0m\n\u001b[1;32m    308\u001b[0m                 \u001b[0;31m# nothing to display (e.g. _ipython_display_ took over)\u001b[0m\u001b[0;34m\u001b[0m\u001b[0;34m\u001b[0m\u001b[0;34m\u001b[0m\u001b[0m\n",
            "\u001b[0;32m/usr/local/lib/python3.7/dist-packages/IPython/core/formatters.py\u001b[0m in \u001b[0;36mformat\u001b[0;34m(self, obj, include, exclude)\u001b[0m\n\u001b[1;32m    171\u001b[0m             \u001b[0mmd\u001b[0m \u001b[0;34m=\u001b[0m \u001b[0;32mNone\u001b[0m\u001b[0;34m\u001b[0m\u001b[0;34m\u001b[0m\u001b[0m\n\u001b[1;32m    172\u001b[0m             \u001b[0;32mtry\u001b[0m\u001b[0;34m:\u001b[0m\u001b[0;34m\u001b[0m\u001b[0;34m\u001b[0m\u001b[0m\n\u001b[0;32m--> 173\u001b[0;31m                 \u001b[0mdata\u001b[0m \u001b[0;34m=\u001b[0m \u001b[0mformatter\u001b[0m\u001b[0;34m(\u001b[0m\u001b[0mobj\u001b[0m\u001b[0;34m)\u001b[0m\u001b[0;34m\u001b[0m\u001b[0;34m\u001b[0m\u001b[0m\n\u001b[0m\u001b[1;32m    174\u001b[0m             \u001b[0;32mexcept\u001b[0m\u001b[0;34m:\u001b[0m\u001b[0;34m\u001b[0m\u001b[0;34m\u001b[0m\u001b[0m\n\u001b[1;32m    175\u001b[0m                 \u001b[0;31m# FIXME: log the exception\u001b[0m\u001b[0;34m\u001b[0m\u001b[0;34m\u001b[0m\u001b[0;34m\u001b[0m\u001b[0m\n",
            "\u001b[0;32m<decorator-gen-2>\u001b[0m in \u001b[0;36m__call__\u001b[0;34m(self, obj)\u001b[0m\n",
            "\u001b[0;32m/usr/local/lib/python3.7/dist-packages/IPython/core/formatters.py\u001b[0m in \u001b[0;36mcatch_format_error\u001b[0;34m(method, self, *args, **kwargs)\u001b[0m\n\u001b[1;32m    215\u001b[0m     \u001b[0;34m\"\"\"show traceback on failed format call\"\"\"\u001b[0m\u001b[0;34m\u001b[0m\u001b[0;34m\u001b[0m\u001b[0m\n\u001b[1;32m    216\u001b[0m     \u001b[0;32mtry\u001b[0m\u001b[0;34m:\u001b[0m\u001b[0;34m\u001b[0m\u001b[0;34m\u001b[0m\u001b[0m\n\u001b[0;32m--> 217\u001b[0;31m         \u001b[0mr\u001b[0m \u001b[0;34m=\u001b[0m \u001b[0mmethod\u001b[0m\u001b[0;34m(\u001b[0m\u001b[0mself\u001b[0m\u001b[0;34m,\u001b[0m \u001b[0;34m*\u001b[0m\u001b[0margs\u001b[0m\u001b[0;34m,\u001b[0m \u001b[0;34m**\u001b[0m\u001b[0mkwargs\u001b[0m\u001b[0;34m)\u001b[0m\u001b[0;34m\u001b[0m\u001b[0;34m\u001b[0m\u001b[0m\n\u001b[0m\u001b[1;32m    218\u001b[0m     \u001b[0;32mexcept\u001b[0m \u001b[0mNotImplementedError\u001b[0m\u001b[0;34m:\u001b[0m\u001b[0;34m\u001b[0m\u001b[0;34m\u001b[0m\u001b[0m\n\u001b[1;32m    219\u001b[0m         \u001b[0;31m# don't warn on NotImplementedErrors\u001b[0m\u001b[0;34m\u001b[0m\u001b[0;34m\u001b[0m\u001b[0;34m\u001b[0m\u001b[0m\n",
            "\u001b[0;32m/usr/local/lib/python3.7/dist-packages/IPython/core/formatters.py\u001b[0m in \u001b[0;36m__call__\u001b[0;34m(self, obj)\u001b[0m\n\u001b[1;32m    332\u001b[0m                 \u001b[0;32mpass\u001b[0m\u001b[0;34m\u001b[0m\u001b[0;34m\u001b[0m\u001b[0m\n\u001b[1;32m    333\u001b[0m             \u001b[0;32melse\u001b[0m\u001b[0;34m:\u001b[0m\u001b[0;34m\u001b[0m\u001b[0;34m\u001b[0m\u001b[0m\n\u001b[0;32m--> 334\u001b[0;31m                 \u001b[0;32mreturn\u001b[0m \u001b[0mprinter\u001b[0m\u001b[0;34m(\u001b[0m\u001b[0mobj\u001b[0m\u001b[0;34m)\u001b[0m\u001b[0;34m\u001b[0m\u001b[0;34m\u001b[0m\u001b[0m\n\u001b[0m\u001b[1;32m    335\u001b[0m             \u001b[0;31m# Finally look for special method names\u001b[0m\u001b[0;34m\u001b[0m\u001b[0;34m\u001b[0m\u001b[0;34m\u001b[0m\u001b[0m\n\u001b[1;32m    336\u001b[0m             \u001b[0mmethod\u001b[0m \u001b[0;34m=\u001b[0m \u001b[0mget_real_method\u001b[0m\u001b[0;34m(\u001b[0m\u001b[0mobj\u001b[0m\u001b[0;34m,\u001b[0m \u001b[0mself\u001b[0m\u001b[0;34m.\u001b[0m\u001b[0mprint_method\u001b[0m\u001b[0;34m)\u001b[0m\u001b[0;34m\u001b[0m\u001b[0;34m\u001b[0m\u001b[0m\n",
            "\u001b[0;32m/usr/local/lib/python3.7/dist-packages/IPython/core/pylabtools.py\u001b[0m in \u001b[0;36m<lambda>\u001b[0;34m(fig)\u001b[0m\n\u001b[1;32m    239\u001b[0m \u001b[0;34m\u001b[0m\u001b[0m\n\u001b[1;32m    240\u001b[0m     \u001b[0;32mif\u001b[0m \u001b[0;34m'png'\u001b[0m \u001b[0;32min\u001b[0m \u001b[0mformats\u001b[0m\u001b[0;34m:\u001b[0m\u001b[0;34m\u001b[0m\u001b[0;34m\u001b[0m\u001b[0m\n\u001b[0;32m--> 241\u001b[0;31m         \u001b[0mpng_formatter\u001b[0m\u001b[0;34m.\u001b[0m\u001b[0mfor_type\u001b[0m\u001b[0;34m(\u001b[0m\u001b[0mFigure\u001b[0m\u001b[0;34m,\u001b[0m \u001b[0;32mlambda\u001b[0m \u001b[0mfig\u001b[0m\u001b[0;34m:\u001b[0m \u001b[0mprint_figure\u001b[0m\u001b[0;34m(\u001b[0m\u001b[0mfig\u001b[0m\u001b[0;34m,\u001b[0m \u001b[0;34m'png'\u001b[0m\u001b[0;34m,\u001b[0m \u001b[0;34m**\u001b[0m\u001b[0mkwargs\u001b[0m\u001b[0;34m)\u001b[0m\u001b[0;34m)\u001b[0m\u001b[0;34m\u001b[0m\u001b[0;34m\u001b[0m\u001b[0m\n\u001b[0m\u001b[1;32m    242\u001b[0m     \u001b[0;32mif\u001b[0m \u001b[0;34m'retina'\u001b[0m \u001b[0;32min\u001b[0m \u001b[0mformats\u001b[0m \u001b[0;32mor\u001b[0m \u001b[0;34m'png2x'\u001b[0m \u001b[0;32min\u001b[0m \u001b[0mformats\u001b[0m\u001b[0;34m:\u001b[0m\u001b[0;34m\u001b[0m\u001b[0;34m\u001b[0m\u001b[0m\n\u001b[1;32m    243\u001b[0m         \u001b[0mpng_formatter\u001b[0m\u001b[0;34m.\u001b[0m\u001b[0mfor_type\u001b[0m\u001b[0;34m(\u001b[0m\u001b[0mFigure\u001b[0m\u001b[0;34m,\u001b[0m \u001b[0;32mlambda\u001b[0m \u001b[0mfig\u001b[0m\u001b[0;34m:\u001b[0m \u001b[0mretina_figure\u001b[0m\u001b[0;34m(\u001b[0m\u001b[0mfig\u001b[0m\u001b[0;34m,\u001b[0m \u001b[0;34m**\u001b[0m\u001b[0mkwargs\u001b[0m\u001b[0;34m)\u001b[0m\u001b[0;34m)\u001b[0m\u001b[0;34m\u001b[0m\u001b[0;34m\u001b[0m\u001b[0m\n",
            "\u001b[0;32m/usr/local/lib/python3.7/dist-packages/IPython/core/pylabtools.py\u001b[0m in \u001b[0;36mprint_figure\u001b[0;34m(fig, fmt, bbox_inches, **kwargs)\u001b[0m\n\u001b[1;32m    123\u001b[0m \u001b[0;34m\u001b[0m\u001b[0m\n\u001b[1;32m    124\u001b[0m     \u001b[0mbytes_io\u001b[0m \u001b[0;34m=\u001b[0m \u001b[0mBytesIO\u001b[0m\u001b[0;34m(\u001b[0m\u001b[0;34m)\u001b[0m\u001b[0;34m\u001b[0m\u001b[0;34m\u001b[0m\u001b[0m\n\u001b[0;32m--> 125\u001b[0;31m     \u001b[0mfig\u001b[0m\u001b[0;34m.\u001b[0m\u001b[0mcanvas\u001b[0m\u001b[0;34m.\u001b[0m\u001b[0mprint_figure\u001b[0m\u001b[0;34m(\u001b[0m\u001b[0mbytes_io\u001b[0m\u001b[0;34m,\u001b[0m \u001b[0;34m**\u001b[0m\u001b[0mkw\u001b[0m\u001b[0;34m)\u001b[0m\u001b[0;34m\u001b[0m\u001b[0;34m\u001b[0m\u001b[0m\n\u001b[0m\u001b[1;32m    126\u001b[0m     \u001b[0mdata\u001b[0m \u001b[0;34m=\u001b[0m \u001b[0mbytes_io\u001b[0m\u001b[0;34m.\u001b[0m\u001b[0mgetvalue\u001b[0m\u001b[0;34m(\u001b[0m\u001b[0;34m)\u001b[0m\u001b[0;34m\u001b[0m\u001b[0;34m\u001b[0m\u001b[0m\n\u001b[1;32m    127\u001b[0m     \u001b[0;32mif\u001b[0m \u001b[0mfmt\u001b[0m \u001b[0;34m==\u001b[0m \u001b[0;34m'svg'\u001b[0m\u001b[0;34m:\u001b[0m\u001b[0;34m\u001b[0m\u001b[0;34m\u001b[0m\u001b[0m\n",
            "\u001b[0;32m/usr/local/lib/python3.7/dist-packages/matplotlib/backend_bases.py\u001b[0m in \u001b[0;36mprint_figure\u001b[0;34m(self, filename, dpi, facecolor, edgecolor, orientation, format, bbox_inches, **kwargs)\u001b[0m\n\u001b[1;32m   2101\u001b[0m                     \u001b[0mbbox_artists\u001b[0m \u001b[0;34m=\u001b[0m \u001b[0mkwargs\u001b[0m\u001b[0;34m.\u001b[0m\u001b[0mpop\u001b[0m\u001b[0;34m(\u001b[0m\u001b[0;34m\"bbox_extra_artists\"\u001b[0m\u001b[0;34m,\u001b[0m \u001b[0;32mNone\u001b[0m\u001b[0;34m)\u001b[0m\u001b[0;34m\u001b[0m\u001b[0;34m\u001b[0m\u001b[0m\n\u001b[1;32m   2102\u001b[0m                     bbox_inches = self.figure.get_tightbbox(renderer,\n\u001b[0;32m-> 2103\u001b[0;31m                             bbox_extra_artists=bbox_artists)\n\u001b[0m\u001b[1;32m   2104\u001b[0m                     \u001b[0mpad\u001b[0m \u001b[0;34m=\u001b[0m \u001b[0mkwargs\u001b[0m\u001b[0;34m.\u001b[0m\u001b[0mpop\u001b[0m\u001b[0;34m(\u001b[0m\u001b[0;34m\"pad_inches\"\u001b[0m\u001b[0;34m,\u001b[0m \u001b[0;32mNone\u001b[0m\u001b[0;34m)\u001b[0m\u001b[0;34m\u001b[0m\u001b[0;34m\u001b[0m\u001b[0m\n\u001b[1;32m   2105\u001b[0m                     \u001b[0;32mif\u001b[0m \u001b[0mpad\u001b[0m \u001b[0;32mis\u001b[0m \u001b[0;32mNone\u001b[0m\u001b[0;34m:\u001b[0m\u001b[0;34m\u001b[0m\u001b[0;34m\u001b[0m\u001b[0m\n",
            "\u001b[0;32m/usr/local/lib/python3.7/dist-packages/matplotlib/figure.py\u001b[0m in \u001b[0;36mget_tightbbox\u001b[0;34m(self, renderer, bbox_extra_artists)\u001b[0m\n\u001b[1;32m   2393\u001b[0m                 \u001b[0;32mtry\u001b[0m\u001b[0;34m:\u001b[0m\u001b[0;34m\u001b[0m\u001b[0;34m\u001b[0m\u001b[0m\n\u001b[1;32m   2394\u001b[0m                     bbox = ax.get_tightbbox(renderer,\n\u001b[0;32m-> 2395\u001b[0;31m                             bbox_extra_artists=bbox_extra_artists)\n\u001b[0m\u001b[1;32m   2396\u001b[0m                 \u001b[0;32mexcept\u001b[0m \u001b[0mTypeError\u001b[0m\u001b[0;34m:\u001b[0m\u001b[0;34m\u001b[0m\u001b[0;34m\u001b[0m\u001b[0m\n\u001b[1;32m   2397\u001b[0m                     \u001b[0mbbox\u001b[0m \u001b[0;34m=\u001b[0m \u001b[0max\u001b[0m\u001b[0;34m.\u001b[0m\u001b[0mget_tightbbox\u001b[0m\u001b[0;34m(\u001b[0m\u001b[0mrenderer\u001b[0m\u001b[0;34m)\u001b[0m\u001b[0;34m\u001b[0m\u001b[0;34m\u001b[0m\u001b[0m\n",
            "\u001b[0;32m/usr/local/lib/python3.7/dist-packages/matplotlib/axes/_base.py\u001b[0m in \u001b[0;36mget_tightbbox\u001b[0;34m(self, renderer, call_axes_locator, bbox_extra_artists)\u001b[0m\n\u001b[1;32m   4354\u001b[0m             \u001b[0;32mif\u001b[0m \u001b[0mclip_extent\u001b[0m \u001b[0;32mis\u001b[0m \u001b[0;32mnot\u001b[0m \u001b[0;32mNone\u001b[0m\u001b[0;34m:\u001b[0m\u001b[0;34m\u001b[0m\u001b[0;34m\u001b[0m\u001b[0m\n\u001b[1;32m   4355\u001b[0m                 clip_extent = mtransforms.Bbox.intersection(clip_extent,\n\u001b[0;32m-> 4356\u001b[0;31m                     axbbox)\n\u001b[0m\u001b[1;32m   4357\u001b[0m                 \u001b[0;32mif\u001b[0m \u001b[0mnp\u001b[0m\u001b[0;34m.\u001b[0m\u001b[0mall\u001b[0m\u001b[0;34m(\u001b[0m\u001b[0mclip_extent\u001b[0m\u001b[0;34m.\u001b[0m\u001b[0mextents\u001b[0m \u001b[0;34m==\u001b[0m \u001b[0maxbbox\u001b[0m\u001b[0;34m.\u001b[0m\u001b[0mextents\u001b[0m\u001b[0;34m)\u001b[0m\u001b[0;34m:\u001b[0m\u001b[0;34m\u001b[0m\u001b[0;34m\u001b[0m\u001b[0m\n\u001b[1;32m   4358\u001b[0m                     \u001b[0;31m# clip extent is inside the axes bbox so don't check\u001b[0m\u001b[0;34m\u001b[0m\u001b[0;34m\u001b[0m\u001b[0;34m\u001b[0m\u001b[0m\n",
            "\u001b[0;32m/usr/local/lib/python3.7/dist-packages/matplotlib/transforms.py\u001b[0m in \u001b[0;36mintersection\u001b[0;34m(bbox1, bbox2)\u001b[0m\n\u001b[1;32m    716\u001b[0m         \u001b[0mx1\u001b[0m \u001b[0;34m=\u001b[0m \u001b[0mnp\u001b[0m\u001b[0;34m.\u001b[0m\u001b[0mminimum\u001b[0m\u001b[0;34m(\u001b[0m\u001b[0mbbox1\u001b[0m\u001b[0;34m.\u001b[0m\u001b[0mxmax\u001b[0m\u001b[0;34m,\u001b[0m \u001b[0mbbox2\u001b[0m\u001b[0;34m.\u001b[0m\u001b[0mxmax\u001b[0m\u001b[0;34m)\u001b[0m\u001b[0;34m\u001b[0m\u001b[0;34m\u001b[0m\u001b[0m\n\u001b[1;32m    717\u001b[0m         \u001b[0my0\u001b[0m \u001b[0;34m=\u001b[0m \u001b[0mnp\u001b[0m\u001b[0;34m.\u001b[0m\u001b[0mmaximum\u001b[0m\u001b[0;34m(\u001b[0m\u001b[0mbbox1\u001b[0m\u001b[0;34m.\u001b[0m\u001b[0mymin\u001b[0m\u001b[0;34m,\u001b[0m \u001b[0mbbox2\u001b[0m\u001b[0;34m.\u001b[0m\u001b[0mymin\u001b[0m\u001b[0;34m)\u001b[0m\u001b[0;34m\u001b[0m\u001b[0;34m\u001b[0m\u001b[0m\n\u001b[0;32m--> 718\u001b[0;31m         \u001b[0my1\u001b[0m \u001b[0;34m=\u001b[0m \u001b[0mnp\u001b[0m\u001b[0;34m.\u001b[0m\u001b[0mminimum\u001b[0m\u001b[0;34m(\u001b[0m\u001b[0mbbox1\u001b[0m\u001b[0;34m.\u001b[0m\u001b[0mymax\u001b[0m\u001b[0;34m,\u001b[0m \u001b[0mbbox2\u001b[0m\u001b[0;34m.\u001b[0m\u001b[0mymax\u001b[0m\u001b[0;34m)\u001b[0m\u001b[0;34m\u001b[0m\u001b[0;34m\u001b[0m\u001b[0m\n\u001b[0m\u001b[1;32m    719\u001b[0m         \u001b[0;32mreturn\u001b[0m \u001b[0mBbox\u001b[0m\u001b[0;34m(\u001b[0m\u001b[0;34m[\u001b[0m\u001b[0;34m[\u001b[0m\u001b[0mx0\u001b[0m\u001b[0;34m,\u001b[0m \u001b[0my0\u001b[0m\u001b[0;34m]\u001b[0m\u001b[0;34m,\u001b[0m \u001b[0;34m[\u001b[0m\u001b[0mx1\u001b[0m\u001b[0;34m,\u001b[0m \u001b[0my1\u001b[0m\u001b[0;34m]\u001b[0m\u001b[0;34m]\u001b[0m\u001b[0;34m)\u001b[0m \u001b[0;32mif\u001b[0m \u001b[0mx0\u001b[0m \u001b[0;34m<=\u001b[0m \u001b[0mx1\u001b[0m \u001b[0;32mand\u001b[0m \u001b[0my0\u001b[0m \u001b[0;34m<=\u001b[0m \u001b[0my1\u001b[0m \u001b[0;32melse\u001b[0m \u001b[0;32mNone\u001b[0m\u001b[0;34m\u001b[0m\u001b[0;34m\u001b[0m\u001b[0m\n\u001b[1;32m    720\u001b[0m \u001b[0;34m\u001b[0m\u001b[0m\n",
            "\u001b[0;32m/usr/local/lib/python3.7/dist-packages/matplotlib/transforms.py\u001b[0m in \u001b[0;36mymax\u001b[0;34m(self)\u001b[0m\n\u001b[1;32m    362\u001b[0m     \u001b[0;32mdef\u001b[0m \u001b[0mymax\u001b[0m\u001b[0;34m(\u001b[0m\u001b[0mself\u001b[0m\u001b[0;34m)\u001b[0m\u001b[0;34m:\u001b[0m\u001b[0;34m\u001b[0m\u001b[0;34m\u001b[0m\u001b[0m\n\u001b[1;32m    363\u001b[0m         \u001b[0;34m\"\"\"The top edge of the bounding box.\"\"\"\u001b[0m\u001b[0;34m\u001b[0m\u001b[0;34m\u001b[0m\u001b[0m\n\u001b[0;32m--> 364\u001b[0;31m         \u001b[0;32mreturn\u001b[0m \u001b[0mnp\u001b[0m\u001b[0;34m.\u001b[0m\u001b[0mmax\u001b[0m\u001b[0;34m(\u001b[0m\u001b[0mself\u001b[0m\u001b[0;34m.\u001b[0m\u001b[0mget_points\u001b[0m\u001b[0;34m(\u001b[0m\u001b[0;34m)\u001b[0m\u001b[0;34m[\u001b[0m\u001b[0;34m:\u001b[0m\u001b[0;34m,\u001b[0m \u001b[0;36m1\u001b[0m\u001b[0;34m]\u001b[0m\u001b[0;34m)\u001b[0m\u001b[0;34m\u001b[0m\u001b[0;34m\u001b[0m\u001b[0m\n\u001b[0m\u001b[1;32m    365\u001b[0m \u001b[0;34m\u001b[0m\u001b[0m\n\u001b[1;32m    366\u001b[0m     \u001b[0;34m@\u001b[0m\u001b[0mproperty\u001b[0m\u001b[0;34m\u001b[0m\u001b[0;34m\u001b[0m\u001b[0m\n",
            "\u001b[0;32m<__array_function__ internals>\u001b[0m in \u001b[0;36mamax\u001b[0;34m(*args, **kwargs)\u001b[0m\n",
            "\u001b[0;31mKeyboardInterrupt\u001b[0m: "
          ]
        }
      ]
    },
    {
      "cell_type": "markdown",
      "metadata": {
        "id": "7s3U3xjjD15M"
      },
      "source": [
        "**To split the Features and Labels**"
      ]
    },
    {
      "cell_type": "code",
      "metadata": {
        "id": "WpLei-uTD5cf"
      },
      "source": [
        "X = df_dummies.iloc[:,:-1]\n",
        "y = df_dummies.iloc[:,-1]"
      ],
      "execution_count": 12,
      "outputs": []
    },
    {
      "cell_type": "code",
      "metadata": {
        "colab": {
          "base_uri": "https://localhost:8080/"
        },
        "id": "JKUAcU4tcOeC",
        "outputId": "e9a2aea3-856c-4e6c-d85f-85b3f03fbaf7"
      },
      "source": [
        "len(X.columns)"
      ],
      "execution_count": 23,
      "outputs": [
        {
          "output_type": "execute_result",
          "data": {
            "text/plain": [
              "19"
            ]
          },
          "metadata": {
            "tags": []
          },
          "execution_count": 23
        }
      ]
    },
    {
      "cell_type": "code",
      "metadata": {
        "colab": {
          "base_uri": "https://localhost:8080/"
        },
        "id": "Mwjau93Xc4Gb",
        "outputId": "53008474-02c5-4d75-85f2-2e2b817a007b"
      },
      "source": [
        "X.info()"
      ],
      "execution_count": 24,
      "outputs": [
        {
          "output_type": "stream",
          "text": [
            "<class 'pandas.core.frame.DataFrame'>\n",
            "Int64Index: 41188 entries, 0 to 41187\n",
            "Data columns (total 19 columns):\n",
            " #   Column          Non-Null Count  Dtype\n",
            "---  ------          --------------  -----\n",
            " 0   age             41188 non-null  int64\n",
            " 1   job             41188 non-null  int64\n",
            " 2   marital         41188 non-null  int64\n",
            " 3   education       41188 non-null  int64\n",
            " 4   default         41188 non-null  int64\n",
            " 5   housing         41188 non-null  int64\n",
            " 6   loan            41188 non-null  int64\n",
            " 7   contact         41188 non-null  int64\n",
            " 8   month           41188 non-null  int64\n",
            " 9   day_of_week     41188 non-null  int64\n",
            " 10  campaign        41188 non-null  int64\n",
            " 11  pdays           41188 non-null  int64\n",
            " 12  previous        41188 non-null  int64\n",
            " 13  poutcome        41188 non-null  int64\n",
            " 14  emp.var.rate    41188 non-null  int64\n",
            " 15  cons.price.idx  41188 non-null  int64\n",
            " 16  cons.conf.idx   41188 non-null  int64\n",
            " 17  euribor3m       41188 non-null  int64\n",
            " 18  nr.employed     41188 non-null  int64\n",
            "dtypes: int64(19)\n",
            "memory usage: 6.3 MB\n"
          ],
          "name": "stdout"
        }
      ]
    },
    {
      "cell_type": "code",
      "metadata": {
        "colab": {
          "base_uri": "https://localhost:8080/"
        },
        "id": "uCQrHFjNm82S",
        "outputId": "4e496058-1570-431e-f3db-083d7ba63f4b"
      },
      "source": [
        "len(X.columns)"
      ],
      "execution_count": 57,
      "outputs": [
        {
          "output_type": "execute_result",
          "data": {
            "text/plain": [
              "19"
            ]
          },
          "metadata": {
            "tags": []
          },
          "execution_count": 57
        }
      ]
    },
    {
      "cell_type": "code",
      "metadata": {
        "id": "yh0FRyi5m8tf"
      },
      "source": [
        ""
      ],
      "execution_count": null,
      "outputs": []
    },
    {
      "cell_type": "code",
      "metadata": {
        "colab": {
          "base_uri": "https://localhost:8080/"
        },
        "id": "X1AYYygwdpzo",
        "outputId": "1ac9185f-2dc5-4bd8-ecaf-5292b1093a94"
      },
      "source": [
        "for i in X.columns:\n",
        "  print(i,X[i].unique())"
      ],
      "execution_count": 55,
      "outputs": [
        {
          "output_type": "stream",
          "text": [
            "age [39 40 20 23 28 42 24  7  8 12 18 37 29 33 22 13 38 32 17 35 41 15 21 27\n",
            " 25 43 36 30 34 31 16 14 26 19 11 10  9  5  6  3  4 44  2  1 53 49 59 50\n",
            " 56 71 76 60 51 58 46 63 45 48 55 65 47 54 52 61 68 62 66 64 57  0 70 73\n",
            " 69 77 75 67 74 72]\n",
            "job [ 3  7  0  1  9  5  4 10  6 11  2  8]\n",
            "marital [1 2 0 3]\n",
            "education [0 3 1 2 5 7 6 4]\n",
            "default [0 1 2]\n",
            "housing [0 2 1]\n",
            "loan [0 2 1]\n",
            "contact [1 0]\n",
            "month [6 4 3 1 8 7 2 5 0 9]\n",
            "day_of_week [1 3 4 2 0]\n",
            "campaign [ 0  1  2  3  4  5  6  7  8  9 10 11 12 18 17 22 13 21 24 15 16 14 19 41\n",
            " 36 34 39 27 25 26 31 20 23 28 30 29 38 35 37 32 33 40]\n",
            "pdays [26  6  4  3  5  1  0 10  7  8  9 11  2 12 13 14 15 16 21 17 18 22 23 24\n",
            " 19 25 20]\n",
            "previous [0 1 2 3 4 5 6 7]\n",
            "poutcome [1 0 2]\n",
            "emp.var.rate [8 9 7 6 3 2 0 1 4 5]\n",
            "cons.price.idx [18 23 17 13 15 11  6  7 10  8  9  3  0  1  2  4  5 12 14 16 20 22 19 21\n",
            " 24 25]\n",
            "cons.conf.idx [16  8  6 17 10  7  5  1  3  4  9 20 22 24 25 23 21 18 19 12 13 11 14 15\n",
            "  2  0]\n",
            "euribor3m [287 286 285 289 290 288 291 292 293 311 305 303 302 304 306 299 298 300\n",
            " 310 307 301 312 313 309 308 315 314 297 296 295 294 284 283 282 281 280\n",
            " 279 278 277 276 275 274 273 272 271 270 269 268 267 266 265 264 263 262\n",
            " 261 260 259 258 257 256 255 254 253 252 251 250 249 248 247 246 245 244\n",
            " 243 242 241 240 239 238 237 236 235 234 233 232 231 230 229 228 227 226\n",
            " 225 224 223 221 222 220 219 218 217 216 215 214 213 212 211 210 209 207\n",
            " 204 198 197 200 203 206 202 201 205 208 199 196 195 194 193 192 191 190\n",
            " 189 186 182 172 169 166 164 159 156 151 149 148 147 146 145 144 141 139\n",
            " 127 126 124 122 118 116 115 114 113 112 111 109 107 105 104 102 100  99\n",
            "  98  96  95  93  90  88  87  86  85  84  83  81  80  78  73  70  68  66\n",
            "  74  76  77  75  71  67  69  65  64  63  60  61  58  56  54  52  51  48\n",
            "  47  46  50  53  49  44  42  41  40  38  39  34  18  17  16  15  14  13\n",
            "  12  11   9   8   5   3   1   2   0   4   6   7  10  19  20  21  22  23\n",
            "  24  25  26  27  28  29  30  31  32  33  35  36  37  43  45  55  57  59\n",
            "  62  72  79  82  89  91  92  94  97 101 103 106 108 110 117 119 128 131\n",
            " 134 137 138 140 142 143 136 135 133 132 130 129 125 123 121 120 150 152\n",
            " 153 154 155 157 158 160 161 162 163 165 167 168 170 175 177 181 183 185\n",
            " 188 187 184 180 179 178 176 173 174 171]\n",
            "nr.employed [ 8 10  9  7  6  5  3  4  2  1  0]\n"
          ],
          "name": "stdout"
        }
      ]
    },
    {
      "cell_type": "code",
      "metadata": {
        "colab": {
          "base_uri": "https://localhost:8080/"
        },
        "id": "oT-VCzwPyJAt",
        "outputId": "83ecef79-f6ba-406b-e4d1-a67bcd5d54d9"
      },
      "source": [
        "print(len(y))"
      ],
      "execution_count": 27,
      "outputs": [
        {
          "output_type": "stream",
          "text": [
            "41188\n"
          ],
          "name": "stdout"
        }
      ]
    },
    {
      "cell_type": "code",
      "metadata": {
        "colab": {
          "base_uri": "https://localhost:8080/"
        },
        "id": "nFbBXmrRyTSQ",
        "outputId": "a500c4c2-a35f-4175-fe73-ef54352abee5"
      },
      "source": [
        "import numpy as np\n",
        "u, c =np.unique(y, return_counts=True)\n",
        "dict(zip(u,c))"
      ],
      "execution_count": 28,
      "outputs": [
        {
          "output_type": "execute_result",
          "data": {
            "text/plain": [
              "{0: 36548, 1: 4640}"
            ]
          },
          "metadata": {
            "tags": []
          },
          "execution_count": 28
        }
      ]
    },
    {
      "cell_type": "markdown",
      "metadata": {
        "id": "FKnmrar7D82s"
      },
      "source": [
        "**Splitting the Train and Test data with 80/20 ratio**"
      ]
    },
    {
      "cell_type": "code",
      "metadata": {
        "id": "2vH7QlXfEBDg"
      },
      "source": [
        "from sklearn.model_selection import train_test_split\n",
        "X_train,X_test,y_train,y_test = train_test_split(X,y,test_size=0.2,random_state=50)"
      ],
      "execution_count": 29,
      "outputs": []
    },
    {
      "cell_type": "markdown",
      "metadata": {
        "id": "-XwIU-dkEFN4"
      },
      "source": [
        "**Checking the shape for the model**"
      ]
    },
    {
      "cell_type": "code",
      "metadata": {
        "id": "hnGiuYPEEToh",
        "colab": {
          "base_uri": "https://localhost:8080/"
        },
        "outputId": "1f8d45fc-e3bd-4b2f-f1e2-800580c30561"
      },
      "source": [
        "print(\"X_train:\",X_train.shape,\"y_train\",y_train.shape)\n",
        "print(\"X_test:\",X_test.shape,\"y_test\",y_test.shape)"
      ],
      "execution_count": 30,
      "outputs": [
        {
          "output_type": "stream",
          "text": [
            "X_train: (32950, 19) y_train (32950,)\n",
            "X_test: (8238, 19) y_test (8238,)\n"
          ],
          "name": "stdout"
        }
      ]
    },
    {
      "cell_type": "markdown",
      "metadata": {
        "id": "puI2cy9hEXa7"
      },
      "source": [
        "**Model Evaluation metrics selection for scores - I selected f1_macro** "
      ]
    },
    {
      "cell_type": "code",
      "metadata": {
        "id": "9uXaW3DbEk7_",
        "colab": {
          "base_uri": "https://localhost:8080/"
        },
        "outputId": "15149207-56f5-45f6-8226-0f9af582b5c7"
      },
      "source": [
        "from sklearn.metrics import SCORERS\n",
        "sorted(SCORERS.keys())"
      ],
      "execution_count": 31,
      "outputs": [
        {
          "output_type": "execute_result",
          "data": {
            "text/plain": [
              "['accuracy',\n",
              " 'adjusted_mutual_info_score',\n",
              " 'adjusted_rand_score',\n",
              " 'average_precision',\n",
              " 'balanced_accuracy',\n",
              " 'completeness_score',\n",
              " 'explained_variance',\n",
              " 'f1',\n",
              " 'f1_macro',\n",
              " 'f1_micro',\n",
              " 'f1_samples',\n",
              " 'f1_weighted',\n",
              " 'fowlkes_mallows_score',\n",
              " 'homogeneity_score',\n",
              " 'jaccard',\n",
              " 'jaccard_macro',\n",
              " 'jaccard_micro',\n",
              " 'jaccard_samples',\n",
              " 'jaccard_weighted',\n",
              " 'max_error',\n",
              " 'mutual_info_score',\n",
              " 'neg_brier_score',\n",
              " 'neg_log_loss',\n",
              " 'neg_mean_absolute_error',\n",
              " 'neg_mean_gamma_deviance',\n",
              " 'neg_mean_poisson_deviance',\n",
              " 'neg_mean_squared_error',\n",
              " 'neg_mean_squared_log_error',\n",
              " 'neg_median_absolute_error',\n",
              " 'neg_root_mean_squared_error',\n",
              " 'normalized_mutual_info_score',\n",
              " 'precision',\n",
              " 'precision_macro',\n",
              " 'precision_micro',\n",
              " 'precision_samples',\n",
              " 'precision_weighted',\n",
              " 'r2',\n",
              " 'recall',\n",
              " 'recall_macro',\n",
              " 'recall_micro',\n",
              " 'recall_samples',\n",
              " 'recall_weighted',\n",
              " 'roc_auc',\n",
              " 'roc_auc_ovo',\n",
              " 'roc_auc_ovo_weighted',\n",
              " 'roc_auc_ovr',\n",
              " 'roc_auc_ovr_weighted',\n",
              " 'v_measure_score']"
            ]
          },
          "metadata": {
            "tags": []
          },
          "execution_count": 31
        }
      ]
    },
    {
      "cell_type": "markdown",
      "metadata": {
        "id": "fX0fWUIwEs0F"
      },
      "source": [
        "**Cross Validation of the model - With RandomForest Classifier**"
      ]
    },
    {
      "cell_type": "code",
      "metadata": {
        "id": "Jq0XcTWhEw3R"
      },
      "source": [
        "from sklearn.ensemble import RandomForestClassifier\n",
        "from sklearn.model_selection import cross_val_score\n",
        "\n",
        "clf = RandomForestClassifier(100,max_depth=8, random_state=60)\n",
        "\n",
        "scores = cross_val_score(clf,X_train,y_train,cv = 10,scoring='f1_macro')"
      ],
      "execution_count": 53,
      "outputs": []
    },
    {
      "cell_type": "markdown",
      "metadata": {
        "id": "5QuqmYwAE16j"
      },
      "source": [
        "**Displaying the accuracy of the model**"
      ]
    },
    {
      "cell_type": "code",
      "metadata": {
        "id": "lW3sO7nsE5pk",
        "colab": {
          "base_uri": "https://localhost:8080/"
        },
        "outputId": "6cf272b4-0f32-45c3-89fd-e1618863210b"
      },
      "source": [
        "print(\"%0.2f accuracy with a standard deviation of %0.2f\" % (scores.mean(), scores.std()))"
      ],
      "execution_count": 54,
      "outputs": [
        {
          "output_type": "stream",
          "text": [
            "0.64 accuracy with a standard deviation of 0.01\n"
          ],
          "name": "stdout"
        }
      ]
    },
    {
      "cell_type": "code",
      "metadata": {
        "colab": {
          "base_uri": "https://localhost:8080/"
        },
        "id": "wofHUvrqgb7C",
        "outputId": "dd48dcd4-19ec-4043-c612-02295c060a62"
      },
      "source": [
        "from sklearn.metrics import SCORERS\n",
        "print(SCORERS)"
      ],
      "execution_count": 38,
      "outputs": [
        {
          "output_type": "stream",
          "text": [
            "{'explained_variance': make_scorer(explained_variance_score), 'r2': make_scorer(r2_score), 'max_error': make_scorer(max_error, greater_is_better=False), 'neg_median_absolute_error': make_scorer(median_absolute_error, greater_is_better=False), 'neg_mean_absolute_error': make_scorer(mean_absolute_error, greater_is_better=False), 'neg_mean_squared_error': make_scorer(mean_squared_error, greater_is_better=False), 'neg_mean_squared_log_error': make_scorer(mean_squared_log_error, greater_is_better=False), 'neg_root_mean_squared_error': make_scorer(mean_squared_error, greater_is_better=False, squared=False), 'neg_mean_poisson_deviance': make_scorer(mean_poisson_deviance, greater_is_better=False), 'neg_mean_gamma_deviance': make_scorer(mean_gamma_deviance, greater_is_better=False), 'accuracy': make_scorer(accuracy_score), 'roc_auc': make_scorer(roc_auc_score, needs_threshold=True), 'roc_auc_ovr': make_scorer(roc_auc_score, needs_proba=True, multi_class=ovr), 'roc_auc_ovo': make_scorer(roc_auc_score, needs_proba=True, multi_class=ovo), 'roc_auc_ovr_weighted': make_scorer(roc_auc_score, needs_proba=True, multi_class=ovr, average=weighted), 'roc_auc_ovo_weighted': make_scorer(roc_auc_score, needs_proba=True, multi_class=ovo, average=weighted), 'balanced_accuracy': make_scorer(balanced_accuracy_score), 'average_precision': make_scorer(average_precision_score, needs_threshold=True), 'neg_log_loss': make_scorer(log_loss, greater_is_better=False, needs_proba=True), 'neg_brier_score': make_scorer(brier_score_loss, greater_is_better=False, needs_proba=True), 'adjusted_rand_score': make_scorer(adjusted_rand_score), 'homogeneity_score': make_scorer(homogeneity_score), 'completeness_score': make_scorer(completeness_score), 'v_measure_score': make_scorer(v_measure_score), 'mutual_info_score': make_scorer(mutual_info_score), 'adjusted_mutual_info_score': make_scorer(adjusted_mutual_info_score), 'normalized_mutual_info_score': make_scorer(normalized_mutual_info_score), 'fowlkes_mallows_score': make_scorer(fowlkes_mallows_score), 'precision': make_scorer(precision_score, average=binary), 'precision_macro': make_scorer(precision_score, pos_label=None, average=macro), 'precision_micro': make_scorer(precision_score, pos_label=None, average=micro), 'precision_samples': make_scorer(precision_score, pos_label=None, average=samples), 'precision_weighted': make_scorer(precision_score, pos_label=None, average=weighted), 'recall': make_scorer(recall_score, average=binary), 'recall_macro': make_scorer(recall_score, pos_label=None, average=macro), 'recall_micro': make_scorer(recall_score, pos_label=None, average=micro), 'recall_samples': make_scorer(recall_score, pos_label=None, average=samples), 'recall_weighted': make_scorer(recall_score, pos_label=None, average=weighted), 'f1': make_scorer(f1_score, average=binary), 'f1_macro': make_scorer(f1_score, pos_label=None, average=macro), 'f1_micro': make_scorer(f1_score, pos_label=None, average=micro), 'f1_samples': make_scorer(f1_score, pos_label=None, average=samples), 'f1_weighted': make_scorer(f1_score, pos_label=None, average=weighted), 'jaccard': make_scorer(jaccard_score, average=binary), 'jaccard_macro': make_scorer(jaccard_score, pos_label=None, average=macro), 'jaccard_micro': make_scorer(jaccard_score, pos_label=None, average=micro), 'jaccard_samples': make_scorer(jaccard_score, pos_label=None, average=samples), 'jaccard_weighted': make_scorer(jaccard_score, pos_label=None, average=weighted)}\n"
          ],
          "name": "stdout"
        }
      ]
    },
    {
      "cell_type": "markdown",
      "metadata": {
        "id": "LijS2CbnE9bQ"
      },
      "source": [
        "**Comparison with the Dummy Classifier**"
      ]
    },
    {
      "cell_type": "code",
      "metadata": {
        "id": "uXxO-KqNFEXa",
        "colab": {
          "base_uri": "https://localhost:8080/"
        },
        "outputId": "50a3508f-8432-46fe-c1bb-f31cbac80a43"
      },
      "source": [
        "from sklearn.dummy import DummyClassifier\n",
        "\n",
        "dummy_clf = DummyClassifier(strategy=\"most_frequent\")\n",
        "dummy_clf.fit(X_train, y_train)\n",
        "\n",
        "dummy_clf.score(X_test, y_test)"
      ],
      "execution_count": 39,
      "outputs": [
        {
          "output_type": "execute_result",
          "data": {
            "text/plain": [
              "0.8846807477543093"
            ]
          },
          "metadata": {
            "tags": []
          },
          "execution_count": 39
        }
      ]
    },
    {
      "cell_type": "markdown",
      "metadata": {
        "id": "oImFeNE7FHwV"
      },
      "source": [
        "**Employing Grid Searching to obtain the optimized values of Hyper Parameters of the RandomForest Classifier**"
      ]
    },
    {
      "cell_type": "code",
      "metadata": {
        "id": "91umURByFLbD",
        "colab": {
          "base_uri": "https://localhost:8080/"
        },
        "outputId": "20e1e9e5-172d-42dc-d604-97fdde02168f"
      },
      "source": [
        "from sklearn.ensemble import RandomForestClassifier\n",
        "from sklearn.model_selection import GridSearchCV\n",
        "  \n",
        "# defining parameter range\n",
        "param_grid = {'max_depth': [1, 10, 100, 1000],\n",
        "              'min_samples_split': [2,3,4,5], \n",
        "              'min_samples_leaf': [1, 2, 3, 4],\n",
        "              } \n",
        "  \n",
        "grid = GridSearchCV(RandomForestClassifier(), param_grid, refit = True, verbose = 3)\n",
        "  \n",
        "# fitting the model for grid search\n",
        "grid.fit(X_train, y_train)"
      ],
      "execution_count": 40,
      "outputs": [
        {
          "output_type": "stream",
          "text": [
            "Fitting 5 folds for each of 64 candidates, totalling 320 fits\n",
            "[CV] max_depth=1, min_samples_leaf=1, min_samples_split=2 ............\n"
          ],
          "name": "stdout"
        },
        {
          "output_type": "stream",
          "text": [
            "[Parallel(n_jobs=1)]: Using backend SequentialBackend with 1 concurrent workers.\n"
          ],
          "name": "stderr"
        },
        {
          "output_type": "stream",
          "text": [
            "[CV]  max_depth=1, min_samples_leaf=1, min_samples_split=2, score=0.888, total=   0.5s\n",
            "[CV] max_depth=1, min_samples_leaf=1, min_samples_split=2 ............\n"
          ],
          "name": "stdout"
        },
        {
          "output_type": "stream",
          "text": [
            "[Parallel(n_jobs=1)]: Done   1 out of   1 | elapsed:    0.5s remaining:    0.0s\n"
          ],
          "name": "stderr"
        },
        {
          "output_type": "stream",
          "text": [
            "[CV]  max_depth=1, min_samples_leaf=1, min_samples_split=2, score=0.888, total=   0.4s\n",
            "[CV] max_depth=1, min_samples_leaf=1, min_samples_split=2 ............\n"
          ],
          "name": "stdout"
        },
        {
          "output_type": "stream",
          "text": [
            "[Parallel(n_jobs=1)]: Done   2 out of   2 | elapsed:    0.9s remaining:    0.0s\n"
          ],
          "name": "stderr"
        },
        {
          "output_type": "stream",
          "text": [
            "[CV]  max_depth=1, min_samples_leaf=1, min_samples_split=2, score=0.888, total=   0.5s\n",
            "[CV] max_depth=1, min_samples_leaf=1, min_samples_split=2 ............\n",
            "[CV]  max_depth=1, min_samples_leaf=1, min_samples_split=2, score=0.888, total=   0.4s\n",
            "[CV] max_depth=1, min_samples_leaf=1, min_samples_split=2 ............\n",
            "[CV]  max_depth=1, min_samples_leaf=1, min_samples_split=2, score=0.888, total=   0.5s\n",
            "[CV] max_depth=1, min_samples_leaf=1, min_samples_split=3 ............\n",
            "[CV]  max_depth=1, min_samples_leaf=1, min_samples_split=3, score=0.888, total=   0.5s\n",
            "[CV] max_depth=1, min_samples_leaf=1, min_samples_split=3 ............\n",
            "[CV]  max_depth=1, min_samples_leaf=1, min_samples_split=3, score=0.888, total=   0.4s\n",
            "[CV] max_depth=1, min_samples_leaf=1, min_samples_split=3 ............\n",
            "[CV]  max_depth=1, min_samples_leaf=1, min_samples_split=3, score=0.888, total=   0.5s\n",
            "[CV] max_depth=1, min_samples_leaf=1, min_samples_split=3 ............\n",
            "[CV]  max_depth=1, min_samples_leaf=1, min_samples_split=3, score=0.888, total=   0.4s\n",
            "[CV] max_depth=1, min_samples_leaf=1, min_samples_split=3 ............\n",
            "[CV]  max_depth=1, min_samples_leaf=1, min_samples_split=3, score=0.888, total=   0.5s\n",
            "[CV] max_depth=1, min_samples_leaf=1, min_samples_split=4 ............\n",
            "[CV]  max_depth=1, min_samples_leaf=1, min_samples_split=4, score=0.888, total=   0.5s\n",
            "[CV] max_depth=1, min_samples_leaf=1, min_samples_split=4 ............\n",
            "[CV]  max_depth=1, min_samples_leaf=1, min_samples_split=4, score=0.888, total=   0.5s\n",
            "[CV] max_depth=1, min_samples_leaf=1, min_samples_split=4 ............\n",
            "[CV]  max_depth=1, min_samples_leaf=1, min_samples_split=4, score=0.888, total=   0.4s\n",
            "[CV] max_depth=1, min_samples_leaf=1, min_samples_split=4 ............\n",
            "[CV]  max_depth=1, min_samples_leaf=1, min_samples_split=4, score=0.888, total=   0.4s\n",
            "[CV] max_depth=1, min_samples_leaf=1, min_samples_split=4 ............\n",
            "[CV]  max_depth=1, min_samples_leaf=1, min_samples_split=4, score=0.888, total=   0.5s\n",
            "[CV] max_depth=1, min_samples_leaf=1, min_samples_split=5 ............\n",
            "[CV]  max_depth=1, min_samples_leaf=1, min_samples_split=5, score=0.888, total=   0.5s\n",
            "[CV] max_depth=1, min_samples_leaf=1, min_samples_split=5 ............\n",
            "[CV]  max_depth=1, min_samples_leaf=1, min_samples_split=5, score=0.888, total=   0.5s\n",
            "[CV] max_depth=1, min_samples_leaf=1, min_samples_split=5 ............\n",
            "[CV]  max_depth=1, min_samples_leaf=1, min_samples_split=5, score=0.888, total=   0.5s\n",
            "[CV] max_depth=1, min_samples_leaf=1, min_samples_split=5 ............\n",
            "[CV]  max_depth=1, min_samples_leaf=1, min_samples_split=5, score=0.888, total=   0.5s\n",
            "[CV] max_depth=1, min_samples_leaf=1, min_samples_split=5 ............\n",
            "[CV]  max_depth=1, min_samples_leaf=1, min_samples_split=5, score=0.888, total=   0.5s\n",
            "[CV] max_depth=1, min_samples_leaf=2, min_samples_split=2 ............\n",
            "[CV]  max_depth=1, min_samples_leaf=2, min_samples_split=2, score=0.888, total=   0.5s\n",
            "[CV] max_depth=1, min_samples_leaf=2, min_samples_split=2 ............\n",
            "[CV]  max_depth=1, min_samples_leaf=2, min_samples_split=2, score=0.888, total=   0.4s\n",
            "[CV] max_depth=1, min_samples_leaf=2, min_samples_split=2 ............\n",
            "[CV]  max_depth=1, min_samples_leaf=2, min_samples_split=2, score=0.888, total=   0.5s\n",
            "[CV] max_depth=1, min_samples_leaf=2, min_samples_split=2 ............\n",
            "[CV]  max_depth=1, min_samples_leaf=2, min_samples_split=2, score=0.888, total=   0.5s\n",
            "[CV] max_depth=1, min_samples_leaf=2, min_samples_split=2 ............\n",
            "[CV]  max_depth=1, min_samples_leaf=2, min_samples_split=2, score=0.888, total=   0.5s\n",
            "[CV] max_depth=1, min_samples_leaf=2, min_samples_split=3 ............\n",
            "[CV]  max_depth=1, min_samples_leaf=2, min_samples_split=3, score=0.888, total=   0.5s\n",
            "[CV] max_depth=1, min_samples_leaf=2, min_samples_split=3 ............\n",
            "[CV]  max_depth=1, min_samples_leaf=2, min_samples_split=3, score=0.888, total=   0.4s\n",
            "[CV] max_depth=1, min_samples_leaf=2, min_samples_split=3 ............\n",
            "[CV]  max_depth=1, min_samples_leaf=2, min_samples_split=3, score=0.888, total=   0.5s\n",
            "[CV] max_depth=1, min_samples_leaf=2, min_samples_split=3 ............\n",
            "[CV]  max_depth=1, min_samples_leaf=2, min_samples_split=3, score=0.888, total=   0.4s\n",
            "[CV] max_depth=1, min_samples_leaf=2, min_samples_split=3 ............\n",
            "[CV]  max_depth=1, min_samples_leaf=2, min_samples_split=3, score=0.888, total=   0.5s\n",
            "[CV] max_depth=1, min_samples_leaf=2, min_samples_split=4 ............\n",
            "[CV]  max_depth=1, min_samples_leaf=2, min_samples_split=4, score=0.888, total=   0.5s\n",
            "[CV] max_depth=1, min_samples_leaf=2, min_samples_split=4 ............\n",
            "[CV]  max_depth=1, min_samples_leaf=2, min_samples_split=4, score=0.888, total=   0.5s\n",
            "[CV] max_depth=1, min_samples_leaf=2, min_samples_split=4 ............\n",
            "[CV]  max_depth=1, min_samples_leaf=2, min_samples_split=4, score=0.888, total=   0.4s\n",
            "[CV] max_depth=1, min_samples_leaf=2, min_samples_split=4 ............\n",
            "[CV]  max_depth=1, min_samples_leaf=2, min_samples_split=4, score=0.888, total=   0.5s\n",
            "[CV] max_depth=1, min_samples_leaf=2, min_samples_split=4 ............\n",
            "[CV]  max_depth=1, min_samples_leaf=2, min_samples_split=4, score=0.888, total=   0.5s\n",
            "[CV] max_depth=1, min_samples_leaf=2, min_samples_split=5 ............\n",
            "[CV]  max_depth=1, min_samples_leaf=2, min_samples_split=5, score=0.888, total=   0.5s\n",
            "[CV] max_depth=1, min_samples_leaf=2, min_samples_split=5 ............\n",
            "[CV]  max_depth=1, min_samples_leaf=2, min_samples_split=5, score=0.888, total=   0.4s\n",
            "[CV] max_depth=1, min_samples_leaf=2, min_samples_split=5 ............\n",
            "[CV]  max_depth=1, min_samples_leaf=2, min_samples_split=5, score=0.888, total=   0.5s\n",
            "[CV] max_depth=1, min_samples_leaf=2, min_samples_split=5 ............\n",
            "[CV]  max_depth=1, min_samples_leaf=2, min_samples_split=5, score=0.888, total=   0.5s\n",
            "[CV] max_depth=1, min_samples_leaf=2, min_samples_split=5 ............\n",
            "[CV]  max_depth=1, min_samples_leaf=2, min_samples_split=5, score=0.888, total=   0.4s\n",
            "[CV] max_depth=1, min_samples_leaf=3, min_samples_split=2 ............\n",
            "[CV]  max_depth=1, min_samples_leaf=3, min_samples_split=2, score=0.888, total=   0.5s\n",
            "[CV] max_depth=1, min_samples_leaf=3, min_samples_split=2 ............\n",
            "[CV]  max_depth=1, min_samples_leaf=3, min_samples_split=2, score=0.888, total=   0.4s\n",
            "[CV] max_depth=1, min_samples_leaf=3, min_samples_split=2 ............\n",
            "[CV]  max_depth=1, min_samples_leaf=3, min_samples_split=2, score=0.888, total=   0.5s\n",
            "[CV] max_depth=1, min_samples_leaf=3, min_samples_split=2 ............\n",
            "[CV]  max_depth=1, min_samples_leaf=3, min_samples_split=2, score=0.888, total=   0.4s\n",
            "[CV] max_depth=1, min_samples_leaf=3, min_samples_split=2 ............\n",
            "[CV]  max_depth=1, min_samples_leaf=3, min_samples_split=2, score=0.888, total=   0.5s\n",
            "[CV] max_depth=1, min_samples_leaf=3, min_samples_split=3 ............\n",
            "[CV]  max_depth=1, min_samples_leaf=3, min_samples_split=3, score=0.888, total=   0.5s\n",
            "[CV] max_depth=1, min_samples_leaf=3, min_samples_split=3 ............\n",
            "[CV]  max_depth=1, min_samples_leaf=3, min_samples_split=3, score=0.888, total=   0.4s\n",
            "[CV] max_depth=1, min_samples_leaf=3, min_samples_split=3 ............\n",
            "[CV]  max_depth=1, min_samples_leaf=3, min_samples_split=3, score=0.888, total=   0.4s\n",
            "[CV] max_depth=1, min_samples_leaf=3, min_samples_split=3 ............\n",
            "[CV]  max_depth=1, min_samples_leaf=3, min_samples_split=3, score=0.888, total=   0.5s\n",
            "[CV] max_depth=1, min_samples_leaf=3, min_samples_split=3 ............\n",
            "[CV]  max_depth=1, min_samples_leaf=3, min_samples_split=3, score=0.888, total=   0.5s\n",
            "[CV] max_depth=1, min_samples_leaf=3, min_samples_split=4 ............\n",
            "[CV]  max_depth=1, min_samples_leaf=3, min_samples_split=4, score=0.888, total=   0.5s\n",
            "[CV] max_depth=1, min_samples_leaf=3, min_samples_split=4 ............\n",
            "[CV]  max_depth=1, min_samples_leaf=3, min_samples_split=4, score=0.888, total=   0.5s\n",
            "[CV] max_depth=1, min_samples_leaf=3, min_samples_split=4 ............\n",
            "[CV]  max_depth=1, min_samples_leaf=3, min_samples_split=4, score=0.888, total=   0.5s\n",
            "[CV] max_depth=1, min_samples_leaf=3, min_samples_split=4 ............\n",
            "[CV]  max_depth=1, min_samples_leaf=3, min_samples_split=4, score=0.888, total=   0.5s\n",
            "[CV] max_depth=1, min_samples_leaf=3, min_samples_split=4 ............\n",
            "[CV]  max_depth=1, min_samples_leaf=3, min_samples_split=4, score=0.888, total=   0.5s\n",
            "[CV] max_depth=1, min_samples_leaf=3, min_samples_split=5 ............\n",
            "[CV]  max_depth=1, min_samples_leaf=3, min_samples_split=5, score=0.888, total=   0.5s\n",
            "[CV] max_depth=1, min_samples_leaf=3, min_samples_split=5 ............\n",
            "[CV]  max_depth=1, min_samples_leaf=3, min_samples_split=5, score=0.888, total=   0.5s\n",
            "[CV] max_depth=1, min_samples_leaf=3, min_samples_split=5 ............\n",
            "[CV]  max_depth=1, min_samples_leaf=3, min_samples_split=5, score=0.888, total=   0.5s\n",
            "[CV] max_depth=1, min_samples_leaf=3, min_samples_split=5 ............\n",
            "[CV]  max_depth=1, min_samples_leaf=3, min_samples_split=5, score=0.888, total=   0.4s\n",
            "[CV] max_depth=1, min_samples_leaf=3, min_samples_split=5 ............\n",
            "[CV]  max_depth=1, min_samples_leaf=3, min_samples_split=5, score=0.888, total=   0.4s\n",
            "[CV] max_depth=1, min_samples_leaf=4, min_samples_split=2 ............\n",
            "[CV]  max_depth=1, min_samples_leaf=4, min_samples_split=2, score=0.888, total=   0.5s\n",
            "[CV] max_depth=1, min_samples_leaf=4, min_samples_split=2 ............\n",
            "[CV]  max_depth=1, min_samples_leaf=4, min_samples_split=2, score=0.888, total=   0.4s\n",
            "[CV] max_depth=1, min_samples_leaf=4, min_samples_split=2 ............\n",
            "[CV]  max_depth=1, min_samples_leaf=4, min_samples_split=2, score=0.888, total=   0.4s\n",
            "[CV] max_depth=1, min_samples_leaf=4, min_samples_split=2 ............\n",
            "[CV]  max_depth=1, min_samples_leaf=4, min_samples_split=2, score=0.888, total=   0.4s\n",
            "[CV] max_depth=1, min_samples_leaf=4, min_samples_split=2 ............\n",
            "[CV]  max_depth=1, min_samples_leaf=4, min_samples_split=2, score=0.888, total=   0.5s\n",
            "[CV] max_depth=1, min_samples_leaf=4, min_samples_split=3 ............\n",
            "[CV]  max_depth=1, min_samples_leaf=4, min_samples_split=3, score=0.888, total=   0.5s\n",
            "[CV] max_depth=1, min_samples_leaf=4, min_samples_split=3 ............\n",
            "[CV]  max_depth=1, min_samples_leaf=4, min_samples_split=3, score=0.888, total=   0.5s\n",
            "[CV] max_depth=1, min_samples_leaf=4, min_samples_split=3 ............\n",
            "[CV]  max_depth=1, min_samples_leaf=4, min_samples_split=3, score=0.888, total=   0.5s\n",
            "[CV] max_depth=1, min_samples_leaf=4, min_samples_split=3 ............\n",
            "[CV]  max_depth=1, min_samples_leaf=4, min_samples_split=3, score=0.888, total=   0.5s\n",
            "[CV] max_depth=1, min_samples_leaf=4, min_samples_split=3 ............\n",
            "[CV]  max_depth=1, min_samples_leaf=4, min_samples_split=3, score=0.888, total=   0.5s\n",
            "[CV] max_depth=1, min_samples_leaf=4, min_samples_split=4 ............\n",
            "[CV]  max_depth=1, min_samples_leaf=4, min_samples_split=4, score=0.888, total=   0.5s\n",
            "[CV] max_depth=1, min_samples_leaf=4, min_samples_split=4 ............\n",
            "[CV]  max_depth=1, min_samples_leaf=4, min_samples_split=4, score=0.888, total=   0.5s\n",
            "[CV] max_depth=1, min_samples_leaf=4, min_samples_split=4 ............\n",
            "[CV]  max_depth=1, min_samples_leaf=4, min_samples_split=4, score=0.888, total=   0.5s\n",
            "[CV] max_depth=1, min_samples_leaf=4, min_samples_split=4 ............\n",
            "[CV]  max_depth=1, min_samples_leaf=4, min_samples_split=4, score=0.888, total=   0.5s\n",
            "[CV] max_depth=1, min_samples_leaf=4, min_samples_split=4 ............\n",
            "[CV]  max_depth=1, min_samples_leaf=4, min_samples_split=4, score=0.888, total=   0.5s\n",
            "[CV] max_depth=1, min_samples_leaf=4, min_samples_split=5 ............\n",
            "[CV]  max_depth=1, min_samples_leaf=4, min_samples_split=5, score=0.888, total=   0.5s\n",
            "[CV] max_depth=1, min_samples_leaf=4, min_samples_split=5 ............\n",
            "[CV]  max_depth=1, min_samples_leaf=4, min_samples_split=5, score=0.888, total=   0.5s\n",
            "[CV] max_depth=1, min_samples_leaf=4, min_samples_split=5 ............\n",
            "[CV]  max_depth=1, min_samples_leaf=4, min_samples_split=5, score=0.888, total=   0.5s\n",
            "[CV] max_depth=1, min_samples_leaf=4, min_samples_split=5 ............\n",
            "[CV]  max_depth=1, min_samples_leaf=4, min_samples_split=5, score=0.888, total=   0.5s\n",
            "[CV] max_depth=1, min_samples_leaf=4, min_samples_split=5 ............\n",
            "[CV]  max_depth=1, min_samples_leaf=4, min_samples_split=5, score=0.888, total=   0.5s\n",
            "[CV] max_depth=10, min_samples_leaf=1, min_samples_split=2 ...........\n",
            "[CV]  max_depth=10, min_samples_leaf=1, min_samples_split=2, score=0.902, total=   1.5s\n",
            "[CV] max_depth=10, min_samples_leaf=1, min_samples_split=2 ...........\n",
            "[CV]  max_depth=10, min_samples_leaf=1, min_samples_split=2, score=0.903, total=   1.4s\n",
            "[CV] max_depth=10, min_samples_leaf=1, min_samples_split=2 ...........\n",
            "[CV]  max_depth=10, min_samples_leaf=1, min_samples_split=2, score=0.896, total=   1.4s\n",
            "[CV] max_depth=10, min_samples_leaf=1, min_samples_split=2 ...........\n",
            "[CV]  max_depth=10, min_samples_leaf=1, min_samples_split=2, score=0.903, total=   1.4s\n",
            "[CV] max_depth=10, min_samples_leaf=1, min_samples_split=2 ...........\n",
            "[CV]  max_depth=10, min_samples_leaf=1, min_samples_split=2, score=0.901, total=   1.4s\n",
            "[CV] max_depth=10, min_samples_leaf=1, min_samples_split=3 ...........\n",
            "[CV]  max_depth=10, min_samples_leaf=1, min_samples_split=3, score=0.901, total=   1.4s\n",
            "[CV] max_depth=10, min_samples_leaf=1, min_samples_split=3 ...........\n",
            "[CV]  max_depth=10, min_samples_leaf=1, min_samples_split=3, score=0.904, total=   1.4s\n",
            "[CV] max_depth=10, min_samples_leaf=1, min_samples_split=3 ...........\n",
            "[CV]  max_depth=10, min_samples_leaf=1, min_samples_split=3, score=0.897, total=   1.4s\n",
            "[CV] max_depth=10, min_samples_leaf=1, min_samples_split=3 ...........\n",
            "[CV]  max_depth=10, min_samples_leaf=1, min_samples_split=3, score=0.902, total=   1.4s\n",
            "[CV] max_depth=10, min_samples_leaf=1, min_samples_split=3 ...........\n",
            "[CV]  max_depth=10, min_samples_leaf=1, min_samples_split=3, score=0.903, total=   1.4s\n",
            "[CV] max_depth=10, min_samples_leaf=1, min_samples_split=4 ...........\n",
            "[CV]  max_depth=10, min_samples_leaf=1, min_samples_split=4, score=0.900, total=   1.4s\n",
            "[CV] max_depth=10, min_samples_leaf=1, min_samples_split=4 ...........\n",
            "[CV]  max_depth=10, min_samples_leaf=1, min_samples_split=4, score=0.904, total=   1.4s\n",
            "[CV] max_depth=10, min_samples_leaf=1, min_samples_split=4 ...........\n",
            "[CV]  max_depth=10, min_samples_leaf=1, min_samples_split=4, score=0.897, total=   1.4s\n",
            "[CV] max_depth=10, min_samples_leaf=1, min_samples_split=4 ...........\n",
            "[CV]  max_depth=10, min_samples_leaf=1, min_samples_split=4, score=0.902, total=   1.4s\n",
            "[CV] max_depth=10, min_samples_leaf=1, min_samples_split=4 ...........\n",
            "[CV]  max_depth=10, min_samples_leaf=1, min_samples_split=4, score=0.902, total=   1.4s\n",
            "[CV] max_depth=10, min_samples_leaf=1, min_samples_split=5 ...........\n",
            "[CV]  max_depth=10, min_samples_leaf=1, min_samples_split=5, score=0.902, total=   1.4s\n",
            "[CV] max_depth=10, min_samples_leaf=1, min_samples_split=5 ...........\n",
            "[CV]  max_depth=10, min_samples_leaf=1, min_samples_split=5, score=0.903, total=   1.4s\n",
            "[CV] max_depth=10, min_samples_leaf=1, min_samples_split=5 ...........\n",
            "[CV]  max_depth=10, min_samples_leaf=1, min_samples_split=5, score=0.896, total=   1.4s\n",
            "[CV] max_depth=10, min_samples_leaf=1, min_samples_split=5 ...........\n",
            "[CV]  max_depth=10, min_samples_leaf=1, min_samples_split=5, score=0.902, total=   1.4s\n",
            "[CV] max_depth=10, min_samples_leaf=1, min_samples_split=5 ...........\n",
            "[CV]  max_depth=10, min_samples_leaf=1, min_samples_split=5, score=0.902, total=   1.4s\n",
            "[CV] max_depth=10, min_samples_leaf=2, min_samples_split=2 ...........\n",
            "[CV]  max_depth=10, min_samples_leaf=2, min_samples_split=2, score=0.901, total=   1.4s\n",
            "[CV] max_depth=10, min_samples_leaf=2, min_samples_split=2 ...........\n",
            "[CV]  max_depth=10, min_samples_leaf=2, min_samples_split=2, score=0.903, total=   1.5s\n",
            "[CV] max_depth=10, min_samples_leaf=2, min_samples_split=2 ...........\n",
            "[CV]  max_depth=10, min_samples_leaf=2, min_samples_split=2, score=0.897, total=   1.4s\n",
            "[CV] max_depth=10, min_samples_leaf=2, min_samples_split=2 ...........\n",
            "[CV]  max_depth=10, min_samples_leaf=2, min_samples_split=2, score=0.902, total=   1.4s\n",
            "[CV] max_depth=10, min_samples_leaf=2, min_samples_split=2 ...........\n",
            "[CV]  max_depth=10, min_samples_leaf=2, min_samples_split=2, score=0.901, total=   1.4s\n",
            "[CV] max_depth=10, min_samples_leaf=2, min_samples_split=3 ...........\n",
            "[CV]  max_depth=10, min_samples_leaf=2, min_samples_split=3, score=0.901, total=   1.4s\n",
            "[CV] max_depth=10, min_samples_leaf=2, min_samples_split=3 ...........\n",
            "[CV]  max_depth=10, min_samples_leaf=2, min_samples_split=3, score=0.904, total=   1.4s\n",
            "[CV] max_depth=10, min_samples_leaf=2, min_samples_split=3 ...........\n",
            "[CV]  max_depth=10, min_samples_leaf=2, min_samples_split=3, score=0.897, total=   1.4s\n",
            "[CV] max_depth=10, min_samples_leaf=2, min_samples_split=3 ...........\n",
            "[CV]  max_depth=10, min_samples_leaf=2, min_samples_split=3, score=0.901, total=   1.4s\n",
            "[CV] max_depth=10, min_samples_leaf=2, min_samples_split=3 ...........\n",
            "[CV]  max_depth=10, min_samples_leaf=2, min_samples_split=3, score=0.901, total=   1.4s\n",
            "[CV] max_depth=10, min_samples_leaf=2, min_samples_split=4 ...........\n",
            "[CV]  max_depth=10, min_samples_leaf=2, min_samples_split=4, score=0.901, total=   1.4s\n",
            "[CV] max_depth=10, min_samples_leaf=2, min_samples_split=4 ...........\n",
            "[CV]  max_depth=10, min_samples_leaf=2, min_samples_split=4, score=0.903, total=   1.4s\n",
            "[CV] max_depth=10, min_samples_leaf=2, min_samples_split=4 ...........\n",
            "[CV]  max_depth=10, min_samples_leaf=2, min_samples_split=4, score=0.897, total=   1.4s\n",
            "[CV] max_depth=10, min_samples_leaf=2, min_samples_split=4 ...........\n",
            "[CV]  max_depth=10, min_samples_leaf=2, min_samples_split=4, score=0.902, total=   1.4s\n",
            "[CV] max_depth=10, min_samples_leaf=2, min_samples_split=4 ...........\n",
            "[CV]  max_depth=10, min_samples_leaf=2, min_samples_split=4, score=0.903, total=   1.4s\n",
            "[CV] max_depth=10, min_samples_leaf=2, min_samples_split=5 ...........\n",
            "[CV]  max_depth=10, min_samples_leaf=2, min_samples_split=5, score=0.900, total=   1.4s\n",
            "[CV] max_depth=10, min_samples_leaf=2, min_samples_split=5 ...........\n",
            "[CV]  max_depth=10, min_samples_leaf=2, min_samples_split=5, score=0.904, total=   1.4s\n",
            "[CV] max_depth=10, min_samples_leaf=2, min_samples_split=5 ...........\n",
            "[CV]  max_depth=10, min_samples_leaf=2, min_samples_split=5, score=0.897, total=   1.4s\n",
            "[CV] max_depth=10, min_samples_leaf=2, min_samples_split=5 ...........\n",
            "[CV]  max_depth=10, min_samples_leaf=2, min_samples_split=5, score=0.902, total=   1.4s\n",
            "[CV] max_depth=10, min_samples_leaf=2, min_samples_split=5 ...........\n",
            "[CV]  max_depth=10, min_samples_leaf=2, min_samples_split=5, score=0.902, total=   1.4s\n",
            "[CV] max_depth=10, min_samples_leaf=3, min_samples_split=2 ...........\n",
            "[CV]  max_depth=10, min_samples_leaf=3, min_samples_split=2, score=0.901, total=   1.4s\n",
            "[CV] max_depth=10, min_samples_leaf=3, min_samples_split=2 ...........\n",
            "[CV]  max_depth=10, min_samples_leaf=3, min_samples_split=2, score=0.903, total=   1.4s\n",
            "[CV] max_depth=10, min_samples_leaf=3, min_samples_split=2 ...........\n",
            "[CV]  max_depth=10, min_samples_leaf=3, min_samples_split=2, score=0.896, total=   1.4s\n",
            "[CV] max_depth=10, min_samples_leaf=3, min_samples_split=2 ...........\n",
            "[CV]  max_depth=10, min_samples_leaf=3, min_samples_split=2, score=0.902, total=   1.4s\n",
            "[CV] max_depth=10, min_samples_leaf=3, min_samples_split=2 ...........\n",
            "[CV]  max_depth=10, min_samples_leaf=3, min_samples_split=2, score=0.903, total=   1.5s\n",
            "[CV] max_depth=10, min_samples_leaf=3, min_samples_split=3 ...........\n",
            "[CV]  max_depth=10, min_samples_leaf=3, min_samples_split=3, score=0.901, total=   1.5s\n",
            "[CV] max_depth=10, min_samples_leaf=3, min_samples_split=3 ...........\n",
            "[CV]  max_depth=10, min_samples_leaf=3, min_samples_split=3, score=0.904, total=   1.4s\n",
            "[CV] max_depth=10, min_samples_leaf=3, min_samples_split=3 ...........\n",
            "[CV]  max_depth=10, min_samples_leaf=3, min_samples_split=3, score=0.897, total=   1.5s\n",
            "[CV] max_depth=10, min_samples_leaf=3, min_samples_split=3 ...........\n",
            "[CV]  max_depth=10, min_samples_leaf=3, min_samples_split=3, score=0.902, total=   1.4s\n",
            "[CV] max_depth=10, min_samples_leaf=3, min_samples_split=3 ...........\n",
            "[CV]  max_depth=10, min_samples_leaf=3, min_samples_split=3, score=0.903, total=   1.5s\n",
            "[CV] max_depth=10, min_samples_leaf=3, min_samples_split=4 ...........\n",
            "[CV]  max_depth=10, min_samples_leaf=3, min_samples_split=4, score=0.902, total=   1.4s\n",
            "[CV] max_depth=10, min_samples_leaf=3, min_samples_split=4 ...........\n",
            "[CV]  max_depth=10, min_samples_leaf=3, min_samples_split=4, score=0.904, total=   1.5s\n",
            "[CV] max_depth=10, min_samples_leaf=3, min_samples_split=4 ...........\n",
            "[CV]  max_depth=10, min_samples_leaf=3, min_samples_split=4, score=0.896, total=   1.4s\n",
            "[CV] max_depth=10, min_samples_leaf=3, min_samples_split=4 ...........\n",
            "[CV]  max_depth=10, min_samples_leaf=3, min_samples_split=4, score=0.902, total=   1.4s\n",
            "[CV] max_depth=10, min_samples_leaf=3, min_samples_split=4 ...........\n",
            "[CV]  max_depth=10, min_samples_leaf=3, min_samples_split=4, score=0.903, total=   1.4s\n",
            "[CV] max_depth=10, min_samples_leaf=3, min_samples_split=5 ...........\n",
            "[CV]  max_depth=10, min_samples_leaf=3, min_samples_split=5, score=0.900, total=   1.4s\n",
            "[CV] max_depth=10, min_samples_leaf=3, min_samples_split=5 ...........\n",
            "[CV]  max_depth=10, min_samples_leaf=3, min_samples_split=5, score=0.903, total=   1.4s\n",
            "[CV] max_depth=10, min_samples_leaf=3, min_samples_split=5 ...........\n",
            "[CV]  max_depth=10, min_samples_leaf=3, min_samples_split=5, score=0.897, total=   1.4s\n",
            "[CV] max_depth=10, min_samples_leaf=3, min_samples_split=5 ...........\n",
            "[CV]  max_depth=10, min_samples_leaf=3, min_samples_split=5, score=0.902, total=   1.4s\n",
            "[CV] max_depth=10, min_samples_leaf=3, min_samples_split=5 ...........\n",
            "[CV]  max_depth=10, min_samples_leaf=3, min_samples_split=5, score=0.902, total=   1.4s\n",
            "[CV] max_depth=10, min_samples_leaf=4, min_samples_split=2 ...........\n",
            "[CV]  max_depth=10, min_samples_leaf=4, min_samples_split=2, score=0.899, total=   1.4s\n",
            "[CV] max_depth=10, min_samples_leaf=4, min_samples_split=2 ...........\n",
            "[CV]  max_depth=10, min_samples_leaf=4, min_samples_split=2, score=0.904, total=   1.4s\n",
            "[CV] max_depth=10, min_samples_leaf=4, min_samples_split=2 ...........\n",
            "[CV]  max_depth=10, min_samples_leaf=4, min_samples_split=2, score=0.897, total=   1.4s\n",
            "[CV] max_depth=10, min_samples_leaf=4, min_samples_split=2 ...........\n",
            "[CV]  max_depth=10, min_samples_leaf=4, min_samples_split=2, score=0.902, total=   1.4s\n",
            "[CV] max_depth=10, min_samples_leaf=4, min_samples_split=2 ...........\n",
            "[CV]  max_depth=10, min_samples_leaf=4, min_samples_split=2, score=0.903, total=   1.4s\n",
            "[CV] max_depth=10, min_samples_leaf=4, min_samples_split=3 ...........\n",
            "[CV]  max_depth=10, min_samples_leaf=4, min_samples_split=3, score=0.900, total=   1.4s\n",
            "[CV] max_depth=10, min_samples_leaf=4, min_samples_split=3 ...........\n",
            "[CV]  max_depth=10, min_samples_leaf=4, min_samples_split=3, score=0.904, total=   1.4s\n",
            "[CV] max_depth=10, min_samples_leaf=4, min_samples_split=3 ...........\n",
            "[CV]  max_depth=10, min_samples_leaf=4, min_samples_split=3, score=0.897, total=   1.5s\n",
            "[CV] max_depth=10, min_samples_leaf=4, min_samples_split=3 ...........\n",
            "[CV]  max_depth=10, min_samples_leaf=4, min_samples_split=3, score=0.902, total=   1.4s\n",
            "[CV] max_depth=10, min_samples_leaf=4, min_samples_split=3 ...........\n",
            "[CV]  max_depth=10, min_samples_leaf=4, min_samples_split=3, score=0.902, total=   1.4s\n",
            "[CV] max_depth=10, min_samples_leaf=4, min_samples_split=4 ...........\n",
            "[CV]  max_depth=10, min_samples_leaf=4, min_samples_split=4, score=0.901, total=   1.4s\n",
            "[CV] max_depth=10, min_samples_leaf=4, min_samples_split=4 ...........\n",
            "[CV]  max_depth=10, min_samples_leaf=4, min_samples_split=4, score=0.904, total=   1.4s\n",
            "[CV] max_depth=10, min_samples_leaf=4, min_samples_split=4 ...........\n",
            "[CV]  max_depth=10, min_samples_leaf=4, min_samples_split=4, score=0.897, total=   1.4s\n",
            "[CV] max_depth=10, min_samples_leaf=4, min_samples_split=4 ...........\n",
            "[CV]  max_depth=10, min_samples_leaf=4, min_samples_split=4, score=0.903, total=   1.5s\n",
            "[CV] max_depth=10, min_samples_leaf=4, min_samples_split=4 ...........\n",
            "[CV]  max_depth=10, min_samples_leaf=4, min_samples_split=4, score=0.903, total=   1.4s\n",
            "[CV] max_depth=10, min_samples_leaf=4, min_samples_split=5 ...........\n",
            "[CV]  max_depth=10, min_samples_leaf=4, min_samples_split=5, score=0.901, total=   1.5s\n",
            "[CV] max_depth=10, min_samples_leaf=4, min_samples_split=5 ...........\n",
            "[CV]  max_depth=10, min_samples_leaf=4, min_samples_split=5, score=0.902, total=   1.4s\n",
            "[CV] max_depth=10, min_samples_leaf=4, min_samples_split=5 ...........\n",
            "[CV]  max_depth=10, min_samples_leaf=4, min_samples_split=5, score=0.897, total=   1.4s\n",
            "[CV] max_depth=10, min_samples_leaf=4, min_samples_split=5 ...........\n",
            "[CV]  max_depth=10, min_samples_leaf=4, min_samples_split=5, score=0.903, total=   1.4s\n",
            "[CV] max_depth=10, min_samples_leaf=4, min_samples_split=5 ...........\n",
            "[CV]  max_depth=10, min_samples_leaf=4, min_samples_split=5, score=0.902, total=   1.4s\n",
            "[CV] max_depth=100, min_samples_leaf=1, min_samples_split=2 ..........\n",
            "[CV]  max_depth=100, min_samples_leaf=1, min_samples_split=2, score=0.897, total=   2.3s\n",
            "[CV] max_depth=100, min_samples_leaf=1, min_samples_split=2 ..........\n",
            "[CV]  max_depth=100, min_samples_leaf=1, min_samples_split=2, score=0.898, total=   2.3s\n",
            "[CV] max_depth=100, min_samples_leaf=1, min_samples_split=2 ..........\n",
            "[CV]  max_depth=100, min_samples_leaf=1, min_samples_split=2, score=0.888, total=   2.3s\n",
            "[CV] max_depth=100, min_samples_leaf=1, min_samples_split=2 ..........\n",
            "[CV]  max_depth=100, min_samples_leaf=1, min_samples_split=2, score=0.892, total=   2.3s\n",
            "[CV] max_depth=100, min_samples_leaf=1, min_samples_split=2 ..........\n",
            "[CV]  max_depth=100, min_samples_leaf=1, min_samples_split=2, score=0.897, total=   2.3s\n",
            "[CV] max_depth=100, min_samples_leaf=1, min_samples_split=3 ..........\n",
            "[CV]  max_depth=100, min_samples_leaf=1, min_samples_split=3, score=0.898, total=   2.3s\n",
            "[CV] max_depth=100, min_samples_leaf=1, min_samples_split=3 ..........\n",
            "[CV]  max_depth=100, min_samples_leaf=1, min_samples_split=3, score=0.901, total=   2.3s\n",
            "[CV] max_depth=100, min_samples_leaf=1, min_samples_split=3 ..........\n",
            "[CV]  max_depth=100, min_samples_leaf=1, min_samples_split=3, score=0.892, total=   2.3s\n",
            "[CV] max_depth=100, min_samples_leaf=1, min_samples_split=3 ..........\n",
            "[CV]  max_depth=100, min_samples_leaf=1, min_samples_split=3, score=0.895, total=   2.3s\n",
            "[CV] max_depth=100, min_samples_leaf=1, min_samples_split=3 ..........\n",
            "[CV]  max_depth=100, min_samples_leaf=1, min_samples_split=3, score=0.898, total=   2.2s\n",
            "[CV] max_depth=100, min_samples_leaf=1, min_samples_split=4 ..........\n",
            "[CV]  max_depth=100, min_samples_leaf=1, min_samples_split=4, score=0.899, total=   2.2s\n",
            "[CV] max_depth=100, min_samples_leaf=1, min_samples_split=4 ..........\n",
            "[CV]  max_depth=100, min_samples_leaf=1, min_samples_split=4, score=0.901, total=   2.2s\n",
            "[CV] max_depth=100, min_samples_leaf=1, min_samples_split=4 ..........\n",
            "[CV]  max_depth=100, min_samples_leaf=1, min_samples_split=4, score=0.893, total=   2.2s\n",
            "[CV] max_depth=100, min_samples_leaf=1, min_samples_split=4 ..........\n",
            "[CV]  max_depth=100, min_samples_leaf=1, min_samples_split=4, score=0.897, total=   2.2s\n",
            "[CV] max_depth=100, min_samples_leaf=1, min_samples_split=4 ..........\n",
            "[CV]  max_depth=100, min_samples_leaf=1, min_samples_split=4, score=0.900, total=   2.2s\n",
            "[CV] max_depth=100, min_samples_leaf=1, min_samples_split=5 ..........\n",
            "[CV]  max_depth=100, min_samples_leaf=1, min_samples_split=5, score=0.900, total=   2.2s\n",
            "[CV] max_depth=100, min_samples_leaf=1, min_samples_split=5 ..........\n",
            "[CV]  max_depth=100, min_samples_leaf=1, min_samples_split=5, score=0.901, total=   2.2s\n",
            "[CV] max_depth=100, min_samples_leaf=1, min_samples_split=5 ..........\n",
            "[CV]  max_depth=100, min_samples_leaf=1, min_samples_split=5, score=0.894, total=   2.2s\n",
            "[CV] max_depth=100, min_samples_leaf=1, min_samples_split=5 ..........\n",
            "[CV]  max_depth=100, min_samples_leaf=1, min_samples_split=5, score=0.898, total=   2.2s\n",
            "[CV] max_depth=100, min_samples_leaf=1, min_samples_split=5 ..........\n",
            "[CV]  max_depth=100, min_samples_leaf=1, min_samples_split=5, score=0.899, total=   2.2s\n",
            "[CV] max_depth=100, min_samples_leaf=2, min_samples_split=2 ..........\n",
            "[CV]  max_depth=100, min_samples_leaf=2, min_samples_split=2, score=0.902, total=   2.2s\n",
            "[CV] max_depth=100, min_samples_leaf=2, min_samples_split=2 ..........\n",
            "[CV]  max_depth=100, min_samples_leaf=2, min_samples_split=2, score=0.902, total=   2.2s\n",
            "[CV] max_depth=100, min_samples_leaf=2, min_samples_split=2 ..........\n",
            "[CV]  max_depth=100, min_samples_leaf=2, min_samples_split=2, score=0.893, total=   2.2s\n",
            "[CV] max_depth=100, min_samples_leaf=2, min_samples_split=2 ..........\n",
            "[CV]  max_depth=100, min_samples_leaf=2, min_samples_split=2, score=0.898, total=   2.2s\n",
            "[CV] max_depth=100, min_samples_leaf=2, min_samples_split=2 ..........\n",
            "[CV]  max_depth=100, min_samples_leaf=2, min_samples_split=2, score=0.900, total=   2.2s\n",
            "[CV] max_depth=100, min_samples_leaf=2, min_samples_split=3 ..........\n",
            "[CV]  max_depth=100, min_samples_leaf=2, min_samples_split=3, score=0.901, total=   2.2s\n",
            "[CV] max_depth=100, min_samples_leaf=2, min_samples_split=3 ..........\n",
            "[CV]  max_depth=100, min_samples_leaf=2, min_samples_split=3, score=0.901, total=   2.2s\n",
            "[CV] max_depth=100, min_samples_leaf=2, min_samples_split=3 ..........\n",
            "[CV]  max_depth=100, min_samples_leaf=2, min_samples_split=3, score=0.893, total=   2.1s\n",
            "[CV] max_depth=100, min_samples_leaf=2, min_samples_split=3 ..........\n",
            "[CV]  max_depth=100, min_samples_leaf=2, min_samples_split=3, score=0.898, total=   2.2s\n",
            "[CV] max_depth=100, min_samples_leaf=2, min_samples_split=3 ..........\n",
            "[CV]  max_depth=100, min_samples_leaf=2, min_samples_split=3, score=0.901, total=   2.1s\n",
            "[CV] max_depth=100, min_samples_leaf=2, min_samples_split=4 ..........\n",
            "[CV]  max_depth=100, min_samples_leaf=2, min_samples_split=4, score=0.899, total=   2.1s\n",
            "[CV] max_depth=100, min_samples_leaf=2, min_samples_split=4 ..........\n",
            "[CV]  max_depth=100, min_samples_leaf=2, min_samples_split=4, score=0.901, total=   2.2s\n",
            "[CV] max_depth=100, min_samples_leaf=2, min_samples_split=4 ..........\n",
            "[CV]  max_depth=100, min_samples_leaf=2, min_samples_split=4, score=0.893, total=   2.1s\n",
            "[CV] max_depth=100, min_samples_leaf=2, min_samples_split=4 ..........\n",
            "[CV]  max_depth=100, min_samples_leaf=2, min_samples_split=4, score=0.899, total=   2.1s\n",
            "[CV] max_depth=100, min_samples_leaf=2, min_samples_split=4 ..........\n",
            "[CV]  max_depth=100, min_samples_leaf=2, min_samples_split=4, score=0.900, total=   2.1s\n",
            "[CV] max_depth=100, min_samples_leaf=2, min_samples_split=5 ..........\n",
            "[CV]  max_depth=100, min_samples_leaf=2, min_samples_split=5, score=0.902, total=   2.1s\n",
            "[CV] max_depth=100, min_samples_leaf=2, min_samples_split=5 ..........\n",
            "[CV]  max_depth=100, min_samples_leaf=2, min_samples_split=5, score=0.903, total=   2.1s\n",
            "[CV] max_depth=100, min_samples_leaf=2, min_samples_split=5 ..........\n",
            "[CV]  max_depth=100, min_samples_leaf=2, min_samples_split=5, score=0.893, total=   2.1s\n",
            "[CV] max_depth=100, min_samples_leaf=2, min_samples_split=5 ..........\n",
            "[CV]  max_depth=100, min_samples_leaf=2, min_samples_split=5, score=0.898, total=   2.1s\n",
            "[CV] max_depth=100, min_samples_leaf=2, min_samples_split=5 ..........\n",
            "[CV]  max_depth=100, min_samples_leaf=2, min_samples_split=5, score=0.901, total=   2.1s\n",
            "[CV] max_depth=100, min_samples_leaf=3, min_samples_split=2 ..........\n",
            "[CV]  max_depth=100, min_samples_leaf=3, min_samples_split=2, score=0.900, total=   2.1s\n",
            "[CV] max_depth=100, min_samples_leaf=3, min_samples_split=2 ..........\n",
            "[CV]  max_depth=100, min_samples_leaf=3, min_samples_split=2, score=0.903, total=   2.1s\n",
            "[CV] max_depth=100, min_samples_leaf=3, min_samples_split=2 ..........\n",
            "[CV]  max_depth=100, min_samples_leaf=3, min_samples_split=2, score=0.895, total=   2.1s\n",
            "[CV] max_depth=100, min_samples_leaf=3, min_samples_split=2 ..........\n",
            "[CV]  max_depth=100, min_samples_leaf=3, min_samples_split=2, score=0.901, total=   2.1s\n",
            "[CV] max_depth=100, min_samples_leaf=3, min_samples_split=2 ..........\n",
            "[CV]  max_depth=100, min_samples_leaf=3, min_samples_split=2, score=0.901, total=   2.1s\n",
            "[CV] max_depth=100, min_samples_leaf=3, min_samples_split=3 ..........\n",
            "[CV]  max_depth=100, min_samples_leaf=3, min_samples_split=3, score=0.901, total=   2.0s\n",
            "[CV] max_depth=100, min_samples_leaf=3, min_samples_split=3 ..........\n",
            "[CV]  max_depth=100, min_samples_leaf=3, min_samples_split=3, score=0.902, total=   2.1s\n",
            "[CV] max_depth=100, min_samples_leaf=3, min_samples_split=3 ..........\n",
            "[CV]  max_depth=100, min_samples_leaf=3, min_samples_split=3, score=0.895, total=   2.0s\n",
            "[CV] max_depth=100, min_samples_leaf=3, min_samples_split=3 ..........\n",
            "[CV]  max_depth=100, min_samples_leaf=3, min_samples_split=3, score=0.900, total=   2.0s\n",
            "[CV] max_depth=100, min_samples_leaf=3, min_samples_split=3 ..........\n",
            "[CV]  max_depth=100, min_samples_leaf=3, min_samples_split=3, score=0.902, total=   2.1s\n",
            "[CV] max_depth=100, min_samples_leaf=3, min_samples_split=4 ..........\n",
            "[CV]  max_depth=100, min_samples_leaf=3, min_samples_split=4, score=0.901, total=   2.0s\n",
            "[CV] max_depth=100, min_samples_leaf=3, min_samples_split=4 ..........\n",
            "[CV]  max_depth=100, min_samples_leaf=3, min_samples_split=4, score=0.903, total=   2.1s\n",
            "[CV] max_depth=100, min_samples_leaf=3, min_samples_split=4 ..........\n",
            "[CV]  max_depth=100, min_samples_leaf=3, min_samples_split=4, score=0.895, total=   2.1s\n",
            "[CV] max_depth=100, min_samples_leaf=3, min_samples_split=4 ..........\n",
            "[CV]  max_depth=100, min_samples_leaf=3, min_samples_split=4, score=0.899, total=   2.1s\n",
            "[CV] max_depth=100, min_samples_leaf=3, min_samples_split=4 ..........\n",
            "[CV]  max_depth=100, min_samples_leaf=3, min_samples_split=4, score=0.900, total=   2.1s\n",
            "[CV] max_depth=100, min_samples_leaf=3, min_samples_split=5 ..........\n",
            "[CV]  max_depth=100, min_samples_leaf=3, min_samples_split=5, score=0.901, total=   2.1s\n",
            "[CV] max_depth=100, min_samples_leaf=3, min_samples_split=5 ..........\n",
            "[CV]  max_depth=100, min_samples_leaf=3, min_samples_split=5, score=0.900, total=   2.1s\n",
            "[CV] max_depth=100, min_samples_leaf=3, min_samples_split=5 ..........\n",
            "[CV]  max_depth=100, min_samples_leaf=3, min_samples_split=5, score=0.895, total=   2.1s\n",
            "[CV] max_depth=100, min_samples_leaf=3, min_samples_split=5 ..........\n",
            "[CV]  max_depth=100, min_samples_leaf=3, min_samples_split=5, score=0.899, total=   2.1s\n",
            "[CV] max_depth=100, min_samples_leaf=3, min_samples_split=5 ..........\n",
            "[CV]  max_depth=100, min_samples_leaf=3, min_samples_split=5, score=0.902, total=   2.1s\n",
            "[CV] max_depth=100, min_samples_leaf=4, min_samples_split=2 ..........\n",
            "[CV]  max_depth=100, min_samples_leaf=4, min_samples_split=2, score=0.900, total=   2.0s\n",
            "[CV] max_depth=100, min_samples_leaf=4, min_samples_split=2 ..........\n",
            "[CV]  max_depth=100, min_samples_leaf=4, min_samples_split=2, score=0.903, total=   2.1s\n",
            "[CV] max_depth=100, min_samples_leaf=4, min_samples_split=2 ..........\n",
            "[CV]  max_depth=100, min_samples_leaf=4, min_samples_split=2, score=0.895, total=   2.0s\n",
            "[CV] max_depth=100, min_samples_leaf=4, min_samples_split=2 ..........\n",
            "[CV]  max_depth=100, min_samples_leaf=4, min_samples_split=2, score=0.900, total=   2.0s\n",
            "[CV] max_depth=100, min_samples_leaf=4, min_samples_split=2 ..........\n",
            "[CV]  max_depth=100, min_samples_leaf=4, min_samples_split=2, score=0.901, total=   2.0s\n",
            "[CV] max_depth=100, min_samples_leaf=4, min_samples_split=3 ..........\n",
            "[CV]  max_depth=100, min_samples_leaf=4, min_samples_split=3, score=0.900, total=   2.0s\n",
            "[CV] max_depth=100, min_samples_leaf=4, min_samples_split=3 ..........\n",
            "[CV]  max_depth=100, min_samples_leaf=4, min_samples_split=3, score=0.902, total=   2.0s\n",
            "[CV] max_depth=100, min_samples_leaf=4, min_samples_split=3 ..........\n",
            "[CV]  max_depth=100, min_samples_leaf=4, min_samples_split=3, score=0.897, total=   2.0s\n",
            "[CV] max_depth=100, min_samples_leaf=4, min_samples_split=3 ..........\n",
            "[CV]  max_depth=100, min_samples_leaf=4, min_samples_split=3, score=0.901, total=   2.0s\n",
            "[CV] max_depth=100, min_samples_leaf=4, min_samples_split=3 ..........\n",
            "[CV]  max_depth=100, min_samples_leaf=4, min_samples_split=3, score=0.902, total=   2.0s\n",
            "[CV] max_depth=100, min_samples_leaf=4, min_samples_split=4 ..........\n",
            "[CV]  max_depth=100, min_samples_leaf=4, min_samples_split=4, score=0.900, total=   2.0s\n",
            "[CV] max_depth=100, min_samples_leaf=4, min_samples_split=4 ..........\n",
            "[CV]  max_depth=100, min_samples_leaf=4, min_samples_split=4, score=0.903, total=   2.0s\n",
            "[CV] max_depth=100, min_samples_leaf=4, min_samples_split=4 ..........\n",
            "[CV]  max_depth=100, min_samples_leaf=4, min_samples_split=4, score=0.895, total=   2.0s\n",
            "[CV] max_depth=100, min_samples_leaf=4, min_samples_split=4 ..........\n",
            "[CV]  max_depth=100, min_samples_leaf=4, min_samples_split=4, score=0.901, total=   2.0s\n",
            "[CV] max_depth=100, min_samples_leaf=4, min_samples_split=4 ..........\n",
            "[CV]  max_depth=100, min_samples_leaf=4, min_samples_split=4, score=0.902, total=   2.0s\n",
            "[CV] max_depth=100, min_samples_leaf=4, min_samples_split=5 ..........\n",
            "[CV]  max_depth=100, min_samples_leaf=4, min_samples_split=5, score=0.901, total=   2.0s\n",
            "[CV] max_depth=100, min_samples_leaf=4, min_samples_split=5 ..........\n",
            "[CV]  max_depth=100, min_samples_leaf=4, min_samples_split=5, score=0.902, total=   2.0s\n",
            "[CV] max_depth=100, min_samples_leaf=4, min_samples_split=5 ..........\n",
            "[CV]  max_depth=100, min_samples_leaf=4, min_samples_split=5, score=0.894, total=   2.0s\n",
            "[CV] max_depth=100, min_samples_leaf=4, min_samples_split=5 ..........\n",
            "[CV]  max_depth=100, min_samples_leaf=4, min_samples_split=5, score=0.901, total=   2.0s\n",
            "[CV] max_depth=100, min_samples_leaf=4, min_samples_split=5 ..........\n",
            "[CV]  max_depth=100, min_samples_leaf=4, min_samples_split=5, score=0.902, total=   2.0s\n",
            "[CV] max_depth=1000, min_samples_leaf=1, min_samples_split=2 .........\n",
            "[CV]  max_depth=1000, min_samples_leaf=1, min_samples_split=2, score=0.896, total=   2.3s\n",
            "[CV] max_depth=1000, min_samples_leaf=1, min_samples_split=2 .........\n",
            "[CV]  max_depth=1000, min_samples_leaf=1, min_samples_split=2, score=0.896, total=   2.3s\n",
            "[CV] max_depth=1000, min_samples_leaf=1, min_samples_split=2 .........\n",
            "[CV]  max_depth=1000, min_samples_leaf=1, min_samples_split=2, score=0.890, total=   2.3s\n",
            "[CV] max_depth=1000, min_samples_leaf=1, min_samples_split=2 .........\n",
            "[CV]  max_depth=1000, min_samples_leaf=1, min_samples_split=2, score=0.894, total=   2.3s\n",
            "[CV] max_depth=1000, min_samples_leaf=1, min_samples_split=2 .........\n",
            "[CV]  max_depth=1000, min_samples_leaf=1, min_samples_split=2, score=0.895, total=   2.3s\n",
            "[CV] max_depth=1000, min_samples_leaf=1, min_samples_split=3 .........\n",
            "[CV]  max_depth=1000, min_samples_leaf=1, min_samples_split=3, score=0.898, total=   2.4s\n",
            "[CV] max_depth=1000, min_samples_leaf=1, min_samples_split=3 .........\n",
            "[CV]  max_depth=1000, min_samples_leaf=1, min_samples_split=3, score=0.901, total=   2.3s\n",
            "[CV] max_depth=1000, min_samples_leaf=1, min_samples_split=3 .........\n",
            "[CV]  max_depth=1000, min_samples_leaf=1, min_samples_split=3, score=0.893, total=   2.3s\n",
            "[CV] max_depth=1000, min_samples_leaf=1, min_samples_split=3 .........\n",
            "[CV]  max_depth=1000, min_samples_leaf=1, min_samples_split=3, score=0.895, total=   2.3s\n",
            "[CV] max_depth=1000, min_samples_leaf=1, min_samples_split=3 .........\n",
            "[CV]  max_depth=1000, min_samples_leaf=1, min_samples_split=3, score=0.898, total=   2.3s\n",
            "[CV] max_depth=1000, min_samples_leaf=1, min_samples_split=4 .........\n",
            "[CV]  max_depth=1000, min_samples_leaf=1, min_samples_split=4, score=0.902, total=   2.2s\n",
            "[CV] max_depth=1000, min_samples_leaf=1, min_samples_split=4 .........\n",
            "[CV]  max_depth=1000, min_samples_leaf=1, min_samples_split=4, score=0.901, total=   2.3s\n",
            "[CV] max_depth=1000, min_samples_leaf=1, min_samples_split=4 .........\n",
            "[CV]  max_depth=1000, min_samples_leaf=1, min_samples_split=4, score=0.893, total=   2.2s\n",
            "[CV] max_depth=1000, min_samples_leaf=1, min_samples_split=4 .........\n",
            "[CV]  max_depth=1000, min_samples_leaf=1, min_samples_split=4, score=0.896, total=   2.2s\n",
            "[CV] max_depth=1000, min_samples_leaf=1, min_samples_split=4 .........\n",
            "[CV]  max_depth=1000, min_samples_leaf=1, min_samples_split=4, score=0.900, total=   2.2s\n",
            "[CV] max_depth=1000, min_samples_leaf=1, min_samples_split=5 .........\n",
            "[CV]  max_depth=1000, min_samples_leaf=1, min_samples_split=5, score=0.902, total=   2.2s\n",
            "[CV] max_depth=1000, min_samples_leaf=1, min_samples_split=5 .........\n",
            "[CV]  max_depth=1000, min_samples_leaf=1, min_samples_split=5, score=0.900, total=   2.2s\n",
            "[CV] max_depth=1000, min_samples_leaf=1, min_samples_split=5 .........\n",
            "[CV]  max_depth=1000, min_samples_leaf=1, min_samples_split=5, score=0.895, total=   2.2s\n",
            "[CV] max_depth=1000, min_samples_leaf=1, min_samples_split=5 .........\n",
            "[CV]  max_depth=1000, min_samples_leaf=1, min_samples_split=5, score=0.897, total=   2.2s\n",
            "[CV] max_depth=1000, min_samples_leaf=1, min_samples_split=5 .........\n",
            "[CV]  max_depth=1000, min_samples_leaf=1, min_samples_split=5, score=0.900, total=   2.2s\n",
            "[CV] max_depth=1000, min_samples_leaf=2, min_samples_split=2 .........\n",
            "[CV]  max_depth=1000, min_samples_leaf=2, min_samples_split=2, score=0.901, total=   2.2s\n",
            "[CV] max_depth=1000, min_samples_leaf=2, min_samples_split=2 .........\n",
            "[CV]  max_depth=1000, min_samples_leaf=2, min_samples_split=2, score=0.902, total=   2.2s\n",
            "[CV] max_depth=1000, min_samples_leaf=2, min_samples_split=2 .........\n",
            "[CV]  max_depth=1000, min_samples_leaf=2, min_samples_split=2, score=0.893, total=   2.2s\n",
            "[CV] max_depth=1000, min_samples_leaf=2, min_samples_split=2 .........\n",
            "[CV]  max_depth=1000, min_samples_leaf=2, min_samples_split=2, score=0.898, total=   2.2s\n",
            "[CV] max_depth=1000, min_samples_leaf=2, min_samples_split=2 .........\n",
            "[CV]  max_depth=1000, min_samples_leaf=2, min_samples_split=2, score=0.900, total=   2.1s\n",
            "[CV] max_depth=1000, min_samples_leaf=2, min_samples_split=3 .........\n",
            "[CV]  max_depth=1000, min_samples_leaf=2, min_samples_split=3, score=0.900, total=   2.1s\n",
            "[CV] max_depth=1000, min_samples_leaf=2, min_samples_split=3 .........\n",
            "[CV]  max_depth=1000, min_samples_leaf=2, min_samples_split=3, score=0.902, total=   2.2s\n",
            "[CV] max_depth=1000, min_samples_leaf=2, min_samples_split=3 .........\n",
            "[CV]  max_depth=1000, min_samples_leaf=2, min_samples_split=3, score=0.894, total=   2.1s\n",
            "[CV] max_depth=1000, min_samples_leaf=2, min_samples_split=3 .........\n",
            "[CV]  max_depth=1000, min_samples_leaf=2, min_samples_split=3, score=0.898, total=   2.2s\n",
            "[CV] max_depth=1000, min_samples_leaf=2, min_samples_split=3 .........\n",
            "[CV]  max_depth=1000, min_samples_leaf=2, min_samples_split=3, score=0.900, total=   2.1s\n",
            "[CV] max_depth=1000, min_samples_leaf=2, min_samples_split=4 .........\n",
            "[CV]  max_depth=1000, min_samples_leaf=2, min_samples_split=4, score=0.901, total=   2.1s\n",
            "[CV] max_depth=1000, min_samples_leaf=2, min_samples_split=4 .........\n",
            "[CV]  max_depth=1000, min_samples_leaf=2, min_samples_split=4, score=0.902, total=   2.1s\n",
            "[CV] max_depth=1000, min_samples_leaf=2, min_samples_split=4 .........\n",
            "[CV]  max_depth=1000, min_samples_leaf=2, min_samples_split=4, score=0.894, total=   2.2s\n",
            "[CV] max_depth=1000, min_samples_leaf=2, min_samples_split=4 .........\n",
            "[CV]  max_depth=1000, min_samples_leaf=2, min_samples_split=4, score=0.898, total=   2.2s\n",
            "[CV] max_depth=1000, min_samples_leaf=2, min_samples_split=4 .........\n",
            "[CV]  max_depth=1000, min_samples_leaf=2, min_samples_split=4, score=0.901, total=   2.2s\n",
            "[CV] max_depth=1000, min_samples_leaf=2, min_samples_split=5 .........\n",
            "[CV]  max_depth=1000, min_samples_leaf=2, min_samples_split=5, score=0.901, total=   2.2s\n",
            "[CV] max_depth=1000, min_samples_leaf=2, min_samples_split=5 .........\n",
            "[CV]  max_depth=1000, min_samples_leaf=2, min_samples_split=5, score=0.902, total=   2.1s\n",
            "[CV] max_depth=1000, min_samples_leaf=2, min_samples_split=5 .........\n",
            "[CV]  max_depth=1000, min_samples_leaf=2, min_samples_split=5, score=0.895, total=   2.2s\n",
            "[CV] max_depth=1000, min_samples_leaf=2, min_samples_split=5 .........\n",
            "[CV]  max_depth=1000, min_samples_leaf=2, min_samples_split=5, score=0.899, total=   2.2s\n",
            "[CV] max_depth=1000, min_samples_leaf=2, min_samples_split=5 .........\n",
            "[CV]  max_depth=1000, min_samples_leaf=2, min_samples_split=5, score=0.902, total=   2.1s\n",
            "[CV] max_depth=1000, min_samples_leaf=3, min_samples_split=2 .........\n",
            "[CV]  max_depth=1000, min_samples_leaf=3, min_samples_split=2, score=0.901, total=   2.1s\n",
            "[CV] max_depth=1000, min_samples_leaf=3, min_samples_split=2 .........\n",
            "[CV]  max_depth=1000, min_samples_leaf=3, min_samples_split=2, score=0.903, total=   2.2s\n",
            "[CV] max_depth=1000, min_samples_leaf=3, min_samples_split=2 .........\n",
            "[CV]  max_depth=1000, min_samples_leaf=3, min_samples_split=2, score=0.895, total=   2.1s\n",
            "[CV] max_depth=1000, min_samples_leaf=3, min_samples_split=2 .........\n",
            "[CV]  max_depth=1000, min_samples_leaf=3, min_samples_split=2, score=0.900, total=   2.1s\n",
            "[CV] max_depth=1000, min_samples_leaf=3, min_samples_split=2 .........\n",
            "[CV]  max_depth=1000, min_samples_leaf=3, min_samples_split=2, score=0.902, total=   2.1s\n",
            "[CV] max_depth=1000, min_samples_leaf=3, min_samples_split=3 .........\n",
            "[CV]  max_depth=1000, min_samples_leaf=3, min_samples_split=3, score=0.900, total=   2.1s\n",
            "[CV] max_depth=1000, min_samples_leaf=3, min_samples_split=3 .........\n",
            "[CV]  max_depth=1000, min_samples_leaf=3, min_samples_split=3, score=0.902, total=   2.1s\n",
            "[CV] max_depth=1000, min_samples_leaf=3, min_samples_split=3 .........\n",
            "[CV]  max_depth=1000, min_samples_leaf=3, min_samples_split=3, score=0.895, total=   2.1s\n",
            "[CV] max_depth=1000, min_samples_leaf=3, min_samples_split=3 .........\n",
            "[CV]  max_depth=1000, min_samples_leaf=3, min_samples_split=3, score=0.900, total=   2.1s\n",
            "[CV] max_depth=1000, min_samples_leaf=3, min_samples_split=3 .........\n",
            "[CV]  max_depth=1000, min_samples_leaf=3, min_samples_split=3, score=0.903, total=   2.1s\n",
            "[CV] max_depth=1000, min_samples_leaf=3, min_samples_split=4 .........\n",
            "[CV]  max_depth=1000, min_samples_leaf=3, min_samples_split=4, score=0.900, total=   2.1s\n",
            "[CV] max_depth=1000, min_samples_leaf=3, min_samples_split=4 .........\n",
            "[CV]  max_depth=1000, min_samples_leaf=3, min_samples_split=4, score=0.903, total=   2.1s\n",
            "[CV] max_depth=1000, min_samples_leaf=3, min_samples_split=4 .........\n",
            "[CV]  max_depth=1000, min_samples_leaf=3, min_samples_split=4, score=0.895, total=   2.1s\n",
            "[CV] max_depth=1000, min_samples_leaf=3, min_samples_split=4 .........\n",
            "[CV]  max_depth=1000, min_samples_leaf=3, min_samples_split=4, score=0.901, total=   2.1s\n",
            "[CV] max_depth=1000, min_samples_leaf=3, min_samples_split=4 .........\n",
            "[CV]  max_depth=1000, min_samples_leaf=3, min_samples_split=4, score=0.901, total=   2.1s\n",
            "[CV] max_depth=1000, min_samples_leaf=3, min_samples_split=5 .........\n",
            "[CV]  max_depth=1000, min_samples_leaf=3, min_samples_split=5, score=0.900, total=   2.1s\n",
            "[CV] max_depth=1000, min_samples_leaf=3, min_samples_split=5 .........\n",
            "[CV]  max_depth=1000, min_samples_leaf=3, min_samples_split=5, score=0.904, total=   2.1s\n",
            "[CV] max_depth=1000, min_samples_leaf=3, min_samples_split=5 .........\n",
            "[CV]  max_depth=1000, min_samples_leaf=3, min_samples_split=5, score=0.896, total=   2.1s\n",
            "[CV] max_depth=1000, min_samples_leaf=3, min_samples_split=5 .........\n",
            "[CV]  max_depth=1000, min_samples_leaf=3, min_samples_split=5, score=0.899, total=   2.1s\n",
            "[CV] max_depth=1000, min_samples_leaf=3, min_samples_split=5 .........\n",
            "[CV]  max_depth=1000, min_samples_leaf=3, min_samples_split=5, score=0.901, total=   2.1s\n",
            "[CV] max_depth=1000, min_samples_leaf=4, min_samples_split=2 .........\n",
            "[CV]  max_depth=1000, min_samples_leaf=4, min_samples_split=2, score=0.899, total=   2.0s\n",
            "[CV] max_depth=1000, min_samples_leaf=4, min_samples_split=2 .........\n",
            "[CV]  max_depth=1000, min_samples_leaf=4, min_samples_split=2, score=0.905, total=   2.0s\n",
            "[CV] max_depth=1000, min_samples_leaf=4, min_samples_split=2 .........\n",
            "[CV]  max_depth=1000, min_samples_leaf=4, min_samples_split=2, score=0.895, total=   2.0s\n",
            "[CV] max_depth=1000, min_samples_leaf=4, min_samples_split=2 .........\n",
            "[CV]  max_depth=1000, min_samples_leaf=4, min_samples_split=2, score=0.901, total=   2.0s\n",
            "[CV] max_depth=1000, min_samples_leaf=4, min_samples_split=2 .........\n",
            "[CV]  max_depth=1000, min_samples_leaf=4, min_samples_split=2, score=0.902, total=   2.0s\n",
            "[CV] max_depth=1000, min_samples_leaf=4, min_samples_split=3 .........\n",
            "[CV]  max_depth=1000, min_samples_leaf=4, min_samples_split=3, score=0.901, total=   2.0s\n",
            "[CV] max_depth=1000, min_samples_leaf=4, min_samples_split=3 .........\n",
            "[CV]  max_depth=1000, min_samples_leaf=4, min_samples_split=3, score=0.903, total=   2.0s\n",
            "[CV] max_depth=1000, min_samples_leaf=4, min_samples_split=3 .........\n",
            "[CV]  max_depth=1000, min_samples_leaf=4, min_samples_split=3, score=0.894, total=   2.0s\n",
            "[CV] max_depth=1000, min_samples_leaf=4, min_samples_split=3 .........\n",
            "[CV]  max_depth=1000, min_samples_leaf=4, min_samples_split=3, score=0.901, total=   2.0s\n",
            "[CV] max_depth=1000, min_samples_leaf=4, min_samples_split=3 .........\n",
            "[CV]  max_depth=1000, min_samples_leaf=4, min_samples_split=3, score=0.902, total=   2.0s\n",
            "[CV] max_depth=1000, min_samples_leaf=4, min_samples_split=4 .........\n",
            "[CV]  max_depth=1000, min_samples_leaf=4, min_samples_split=4, score=0.900, total=   2.1s\n",
            "[CV] max_depth=1000, min_samples_leaf=4, min_samples_split=4 .........\n",
            "[CV]  max_depth=1000, min_samples_leaf=4, min_samples_split=4, score=0.901, total=   2.0s\n",
            "[CV] max_depth=1000, min_samples_leaf=4, min_samples_split=4 .........\n",
            "[CV]  max_depth=1000, min_samples_leaf=4, min_samples_split=4, score=0.896, total=   2.0s\n",
            "[CV] max_depth=1000, min_samples_leaf=4, min_samples_split=4 .........\n",
            "[CV]  max_depth=1000, min_samples_leaf=4, min_samples_split=4, score=0.901, total=   2.0s\n",
            "[CV] max_depth=1000, min_samples_leaf=4, min_samples_split=4 .........\n",
            "[CV]  max_depth=1000, min_samples_leaf=4, min_samples_split=4, score=0.902, total=   2.0s\n",
            "[CV] max_depth=1000, min_samples_leaf=4, min_samples_split=5 .........\n",
            "[CV]  max_depth=1000, min_samples_leaf=4, min_samples_split=5, score=0.901, total=   2.0s\n",
            "[CV] max_depth=1000, min_samples_leaf=4, min_samples_split=5 .........\n",
            "[CV]  max_depth=1000, min_samples_leaf=4, min_samples_split=5, score=0.904, total=   2.0s\n",
            "[CV] max_depth=1000, min_samples_leaf=4, min_samples_split=5 .........\n",
            "[CV]  max_depth=1000, min_samples_leaf=4, min_samples_split=5, score=0.894, total=   2.0s\n",
            "[CV] max_depth=1000, min_samples_leaf=4, min_samples_split=5 .........\n",
            "[CV]  max_depth=1000, min_samples_leaf=4, min_samples_split=5, score=0.899, total=   2.0s\n",
            "[CV] max_depth=1000, min_samples_leaf=4, min_samples_split=5 .........\n",
            "[CV]  max_depth=1000, min_samples_leaf=4, min_samples_split=5, score=0.901, total=   2.0s\n"
          ],
          "name": "stdout"
        },
        {
          "output_type": "stream",
          "text": [
            "[Parallel(n_jobs=1)]: Done 320 out of 320 | elapsed:  8.2min finished\n"
          ],
          "name": "stderr"
        },
        {
          "output_type": "execute_result",
          "data": {
            "text/plain": [
              "GridSearchCV(cv=None, error_score=nan,\n",
              "             estimator=RandomForestClassifier(bootstrap=True, ccp_alpha=0.0,\n",
              "                                              class_weight=None,\n",
              "                                              criterion='gini', max_depth=None,\n",
              "                                              max_features='auto',\n",
              "                                              max_leaf_nodes=None,\n",
              "                                              max_samples=None,\n",
              "                                              min_impurity_decrease=0.0,\n",
              "                                              min_impurity_split=None,\n",
              "                                              min_samples_leaf=1,\n",
              "                                              min_samples_split=2,\n",
              "                                              min_weight_fraction_leaf=0.0,\n",
              "                                              n_estimators=100, n_jobs=None,\n",
              "                                              oob_score=False,\n",
              "                                              random_state=None, verbose=0,\n",
              "                                              warm_start=False),\n",
              "             iid='deprecated', n_jobs=None,\n",
              "             param_grid={'max_depth': [1, 10, 100, 1000],\n",
              "                         'min_samples_leaf': [1, 2, 3, 4],\n",
              "                         'min_samples_split': [2, 3, 4, 5]},\n",
              "             pre_dispatch='2*n_jobs', refit=True, return_train_score=False,\n",
              "             scoring=None, verbose=3)"
            ]
          },
          "metadata": {
            "tags": []
          },
          "execution_count": 40
        }
      ]
    },
    {
      "cell_type": "markdown",
      "metadata": {
        "id": "Iru333-BFR0h"
      },
      "source": [
        "**Printing the optimum values of Hyper Parameters**"
      ]
    },
    {
      "cell_type": "code",
      "metadata": {
        "id": "hAfA4xSlFbY6",
        "colab": {
          "base_uri": "https://localhost:8080/"
        },
        "outputId": "8d4543c0-25d6-4fef-d86d-53e1b152ba9d"
      },
      "source": [
        "# print best parameter after tuning\n",
        "print(grid.best_params_)\n",
        "  \n",
        "# print how our model looks after hyper-parameter tuning\n",
        "print(grid.best_estimator_)"
      ],
      "execution_count": 41,
      "outputs": [
        {
          "output_type": "stream",
          "text": [
            "{'max_depth': 10, 'min_samples_leaf': 1, 'min_samples_split': 3}\n",
            "RandomForestClassifier(bootstrap=True, ccp_alpha=0.0, class_weight=None,\n",
            "                       criterion='gini', max_depth=10, max_features='auto',\n",
            "                       max_leaf_nodes=None, max_samples=None,\n",
            "                       min_impurity_decrease=0.0, min_impurity_split=None,\n",
            "                       min_samples_leaf=1, min_samples_split=3,\n",
            "                       min_weight_fraction_leaf=0.0, n_estimators=100,\n",
            "                       n_jobs=None, oob_score=False, random_state=None,\n",
            "                       verbose=0, warm_start=False)\n"
          ],
          "name": "stdout"
        }
      ]
    },
    {
      "cell_type": "markdown",
      "metadata": {
        "id": "l1G001TEFf5_"
      },
      "source": [
        "**Grid Search model Prediction**"
      ]
    },
    {
      "cell_type": "code",
      "metadata": {
        "id": "wrGNhv3bFlVN",
        "colab": {
          "base_uri": "https://localhost:8080/"
        },
        "outputId": "175bb42d-ee5a-4242-86f9-a608c4f8d793"
      },
      "source": [
        "from sklearn.metrics import classification_report\n",
        "grid_predictions = grid.predict(X_test)\n",
        "  \n",
        "# print classification report\n",
        "print(classification_report(y_test, grid_predictions))"
      ],
      "execution_count": 42,
      "outputs": [
        {
          "output_type": "stream",
          "text": [
            "              precision    recall  f1-score   support\n",
            "\n",
            "           0       0.91      0.98      0.94      7288\n",
            "           1       0.64      0.26      0.37       950\n",
            "\n",
            "    accuracy                           0.90      8238\n",
            "   macro avg       0.78      0.62      0.66      8238\n",
            "weighted avg       0.88      0.90      0.88      8238\n",
            "\n"
          ],
          "name": "stdout"
        }
      ]
    },
    {
      "cell_type": "markdown",
      "metadata": {
        "id": "nDxamQ3_Fo4W"
      },
      "source": [
        "**Accuracy Scores for the test data**"
      ]
    },
    {
      "cell_type": "code",
      "metadata": {
        "id": "gM8OS5afFtas",
        "colab": {
          "base_uri": "https://localhost:8080/"
        },
        "outputId": "9477a6d3-97dd-4f89-f769-cf322b5ea9c0"
      },
      "source": [
        "from sklearn.metrics import accuracy_score  \n",
        "accuracy_score(y_test, grid_predictions)"
      ],
      "execution_count": 43,
      "outputs": [
        {
          "output_type": "execute_result",
          "data": {
            "text/plain": [
              "0.8979121145909201"
            ]
          },
          "metadata": {
            "tags": []
          },
          "execution_count": 43
        }
      ]
    },
    {
      "cell_type": "markdown",
      "metadata": {
        "id": "qh1qPUqNFxxA"
      },
      "source": [
        "**Plotting of the festures importance**"
      ]
    },
    {
      "cell_type": "code",
      "metadata": {
        "id": "ah7sbDIGF1S8",
        "colab": {
          "base_uri": "https://localhost:8080/",
          "height": 911
        },
        "outputId": "872e5fb8-64ce-4555-b5d3-b3455355587c"
      },
      "source": [
        "import numpy as np\n",
        "import matplotlib.pyplot as plt\n",
        "\n",
        "plt.figure(figsize = (15,15))\n",
        "\n",
        "# get importances from RF\n",
        "importances = clf.feature_importances_\n",
        "\n",
        "# then sort them descending\n",
        "indices = np.argsort(importances)\n",
        "\n",
        "# get the features from the original data set\n",
        "features = dataset.columns[0:50]\n",
        "\n",
        "# plot them with a horizontal bar chart\n",
        "plt.figure(1)\n",
        "plt.title('Feature Importances')\n",
        "plt.barh(range(len(indices)), importances[indices], color='b', align='center')\n",
        "plt.yticks(range(len(indices)), features[indices])\n",
        "plt.xlabel('Relative Importance')"
      ],
      "execution_count": 52,
      "outputs": [
        {
          "output_type": "execute_result",
          "data": {
            "text/plain": [
              "Text(0.5, 0, 'Relative Importance')"
            ]
          },
          "metadata": {
            "tags": []
          },
          "execution_count": 52
        },
        {
          "output_type": "display_data",
          "data": {
            "image/png": "[encoded data removed]",
            "text/plain": [
              "<Figure size 1080x1080 with 1 Axes>"
            ]
          },
          "metadata": {
            "tags": [],
            "needs_background": "light"
          }
        }
      ]
    },
    {
      "cell_type": "code",
      "metadata": {
        "id": "qQzo2kiuGAX-"
      },
      "source": [
        "clf.fit(X_train, y_train).score(X_train, y_train)\n",
        "y_pred = clf.predict(X_test)"
      ],
      "execution_count": 51,
      "outputs": []
    },
    {
      "cell_type": "markdown",
      "metadata": {
        "id": "Hj5PQRfmF8Ko"
      },
      "source": [
        "**Generalization error**"
      ]
    },
    {
      "cell_type": "code",
      "metadata": {
        "id": "jNLXi6xeGIZD",
        "colab": {
          "base_uri": "https://localhost:8080/"
        },
        "outputId": "81e04096-c70d-4d63-a616-c105562ec0f1"
      },
      "source": [
        "from sklearn.metrics import \n",
        "y_pred = clf.predict(X_test)\n",
        "print(\"Error:\" , max_error(y_test,y_pred))"
      ],
      "execution_count": 49,
      "outputs": [
        {
          "output_type": "stream",
          "text": [
            "Error: 1\n"
          ],
          "name": "stdout"
        }
      ]
    }
  ]
}